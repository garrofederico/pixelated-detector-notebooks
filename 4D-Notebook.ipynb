{
 "cells": [
  {
   "cell_type": "markdown",
   "id": "13d39003-3569-4df7-8fd7-23fbd59ab839",
   "metadata": {
    "pycharm": {
     "name": "#%% md\n"
    }
   },
   "source": [
    "Import packages. In addition to regular repositories, we mostly use `Hyperspy`, `skimage`, `scipy` and the `save_signal`function provided by Magnus Nord to import the mib-file to hspy. `zarr` provides the ability to use zspy-format."
   ]
  },
  {
   "cell_type": "code",
   "execution_count": null,
   "id": "0f006afd-995f-48e7-a73a-a2a19099477e",
   "metadata": {
    "pycharm": {
     "name": "#%%\n"
    }
   },
   "outputs": [],
   "source": [
    "%matplotlib qt"
   ]
  },
  {
   "cell_type": "code",
   "execution_count": null,
   "id": "ac0a7a89-b545-4092-bcc9-f3a8e8eb8d83",
   "metadata": {
    "pycharm": {
     "name": "#%%\n"
    }
   },
   "outputs": [],
   "source": [
    "import hyperspy.api as hs\n",
    "import matplotlib.pyplot as plt\n",
    "import numpy as np\n",
    "from converter_nord import save_signal\n",
    "import pyxem as pxm\n",
    "from pyxem.utils.io_utils import _parse_hdr\n",
    "from skimage import data, io, feature\n",
    "from scipy import ndimage, misc\n",
    "import zarr\n",
    "import dask.array as da\n",
    "import os"
   ]
  },
  {
   "cell_type": "markdown",
   "id": "4acb3a4f",
   "metadata": {
    "pycharm": {
     "name": "#%% md\n"
    }
   },
   "source": [
    "Make sure you have Hyperspy 1.7.0 or newer. This is crucial to use the Zspy format."
   ]
  },
  {
   "cell_type": "code",
   "execution_count": null,
   "id": "47188256-e1fb-4b67-85b1-28fdd6feca7b",
   "metadata": {
    "collapsed": true,
    "jupyter": {
     "outputs_hidden": true
    },
    "pycharm": {
     "name": "#%%\n"
    },
    "scrolled": true,
    "tags": []
   },
   "outputs": [],
   "source": [
    "!pip list"
   ]
  },
  {
   "cell_type": "markdown",
   "id": "b2cf5968-6dad-4ca8-9cd4-477f8bd343ec",
   "metadata": {
    "pycharm": {
     "name": "#%% md\n"
    }
   },
   "source": [
    "## <br><br>"
   ]
  },
  {
   "cell_type": "markdown",
   "id": "033351d7-741f-4c7c-80b4-60af51c22226",
   "metadata": {
    "pycharm": {
     "name": "#%% md\n"
    }
   },
   "source": [
    "## 1 Loading"
   ]
  },
  {
   "cell_type": "markdown",
   "id": "37e270aa-a077-4c83-bd91-a31d47ddd4dd",
   "metadata": {
    "pycharm": {
     "name": "#%% md\n"
    }
   },
   "source": [
    "Load mib-file by using `save_signal` to chunk the data into appropriate sizes that can be loaded in the memory."
   ]
  },
  {
   "cell_type": "markdown",
   "id": "5cdf02e8-3ab3-4a0e-a745-6ef332f3c647",
   "metadata": {
    "pycharm": {
     "name": "#%% md\n"
    }
   },
   "source": [
    "### 1.1 From mib to hspy"
   ]
  },
  {
   "cell_type": "code",
   "execution_count": null,
   "id": "cb2d7fc4-ad2b-4d90-9237-4aee7826a2a1",
   "metadata": {
    "pycharm": {
     "name": "#%%\n"
    }
   },
   "outputs": [],
   "source": [
    "data_path = \"../../Duncan_Alexander/Merlin detector/22-05-06 PTO_DSO_CL02/Scan4D_02.mib\"\n",
    "# _parse_hdr(data_path)"
   ]
  },
  {
   "cell_type": "markdown",
   "id": "3387fe83-fee1-4062-8f29-2d3fdf8aa56a",
   "metadata": {
    "pycharm": {
     "name": "#%% md\n"
    }
   },
   "source": [
    "Dimensions of the data can be seen in Gatan (CTRL+D -> info)"
   ]
  },
  {
   "cell_type": "code",
   "execution_count": null,
   "id": "a23cb995",
   "metadata": {
    "collapsed": false,
    "jupyter": {
     "outputs_hidden": false
    },
    "pycharm": {
     "name": "#%%\n"
    }
   },
   "outputs": [],
   "source": []
  },
  {
   "cell_type": "code",
   "execution_count": null,
   "id": "d83a01c1-d587-4ae0-9edb-fbc657259a46",
   "metadata": {
    "pycharm": {
     "name": "#%%\n"
    }
   },
   "outputs": [],
   "source": [
    "save_signal(data_path,'4D_converted_test.hspy',256,128,1)"
   ]
  },
  {
   "cell_type": "markdown",
   "id": "fcbec7cb-6c63-4d82-ab53-1153dee7a816",
   "metadata": {
    "pycharm": {
     "name": "#%% md\n"
    }
   },
   "source": [
    "if errorcode: delete hspy file and try again. If you are not allowed to remove the file at this point, simply rename the file in the function above."
   ]
  },
  {
   "cell_type": "code",
   "execution_count": null,
   "id": "28175f6d-4aaa-4777-a43b-4c80f9c8be0e",
   "metadata": {
    "pycharm": {
     "name": "#%%\n"
    },
    "tags": []
   },
   "outputs": [],
   "source": [
    "s = hs.load('4D_converted.hspy', lazy=True)"
   ]
  },
  {
   "cell_type": "code",
   "execution_count": null,
   "id": "70022280-1994-4052-81de-db002f4bca11",
   "metadata": {
    "pycharm": {
     "name": "#%%\n"
    },
    "tags": []
   },
   "outputs": [],
   "source": [
    "s.data"
   ]
  },
  {
   "cell_type": "markdown",
   "id": "8366213b-90d3-4aaa-b77d-732cfc09682f",
   "metadata": {
    "pycharm": {
     "name": "#%% md\n"
    }
   },
   "source": [
    "### 1.2 Convert to zspy"
   ]
  },
  {
   "cell_type": "code",
   "execution_count": null,
   "id": "27d7a73f-c7d7-4ddd-9812-6a295db7c188",
   "metadata": {
    "pycharm": {
     "name": "#%%\n"
    }
   },
   "outputs": [],
   "source": [
    "s.save('4D_converted.zspy',chunks=(16,16,16,16))"
   ]
  },
  {
   "cell_type": "code",
   "execution_count": null,
   "id": "ba05788a-2f84-4c0a-90ec-9161695070d8",
   "metadata": {
    "pycharm": {
     "name": "#%%\n"
    }
   },
   "outputs": [],
   "source": [
    "s = hs.load(\"4D_converted.zspy\", lazy=True)"
   ]
  },
  {
   "cell_type": "code",
   "execution_count": null,
   "id": "e19cbecf-142a-4930-94cb-9a80919ea82c",
   "metadata": {
    "pycharm": {
     "name": "#%%\n"
    }
   },
   "outputs": [],
   "source": [
    "s.data"
   ]
  },
  {
   "cell_type": "markdown",
   "id": "1516985f-20d7-47d8-8faf-edad552c62a8",
   "metadata": {
    "pycharm": {
     "name": "#%% md\n"
    }
   },
   "source": [
    "## <br>"
   ]
  },
  {
   "cell_type": "markdown",
   "id": "3bb4e6d3-0082-4e60-bf1b-9a229176ee7e",
   "metadata": {
    "pycharm": {
     "name": "#%% md\n"
    }
   },
   "source": [
    "### 1.3 Rebinning"
   ]
  },
  {
   "cell_type": "markdown",
   "id": "f26bca5a-796d-4b2c-ac93-dc6eec3d31d8",
   "metadata": {
    "pycharm": {
     "name": "#%% md\n"
    }
   },
   "source": [
    "Rebin data so it is easier and faster to work with when filtering the data"
   ]
  },
  {
   "cell_type": "code",
   "execution_count": null,
   "id": "3773bffc-57e5-42bf-a7dd-ac5bc9513d92",
   "metadata": {
    "pycharm": {
     "name": "#%%\n"
    }
   },
   "outputs": [],
   "source": [
    "s_rebin = s.rebin(scale=(2, 2, 2, 2), rechunk=False)"
   ]
  },
  {
   "cell_type": "code",
   "execution_count": null,
   "id": "6c0772b7-13e3-40fc-a904-954c756c35b9",
   "metadata": {
    "pycharm": {
     "name": "#%%\n"
    }
   },
   "outputs": [],
   "source": [
    "s_rebin.compute()"
   ]
  },
  {
   "cell_type": "markdown",
   "id": "a860f530-2408-486e-ab50-37d6c8abc70b",
   "metadata": {
    "pycharm": {
     "name": "#%% md\n"
    }
   },
   "source": [
    "Plot and examine data"
   ]
  },
  {
   "cell_type": "code",
   "execution_count": null,
   "id": "aef55855-c949-4894-b5ce-e3d766a91711",
   "metadata": {
    "pycharm": {
     "name": "#%%\n"
    },
    "tags": []
   },
   "outputs": [],
   "source": [
    "s_rebin.plot()"
   ]
  },
  {
   "cell_type": "code",
   "execution_count": null,
   "id": "bc4b2674-441e-420d-938d-c97540703e91",
   "metadata": {
    "pycharm": {
     "name": "#%%\n"
    },
    "tags": []
   },
   "outputs": [],
   "source": [
    "s_rebin.T.plot()"
   ]
  },
  {
   "cell_type": "markdown",
   "id": "b272781e-cfee-4ca9-9765-30bea55c4d45",
   "metadata": {
    "pycharm": {
     "name": "#%% md\n"
    },
    "tags": []
   },
   "source": [
    "## <br>"
   ]
  },
  {
   "cell_type": "markdown",
   "id": "de4370c8-7579-4950-bd6d-47e6f1985392",
   "metadata": {
    "jp-MarkdownHeadingCollapsed": true,
    "pycharm": {
     "name": "#%% md\n"
    },
    "tags": []
   },
   "source": [
    "### 1.4 Convert axes\n",
    "Not nescessary for analysis. Note that some parameters later on might change due to this convertion, so have that in mind"
   ]
  },
  {
   "cell_type": "code",
   "execution_count": null,
   "id": "47acbc99-48ac-412a-b2bf-413eb56bbcd1",
   "metadata": {
    "pycharm": {
     "name": "#%%\n"
    }
   },
   "outputs": [],
   "source": [
    "s.axes_manager.gui()"
   ]
  },
  {
   "cell_type": "markdown",
   "id": "5b421bc4-7beb-4d54-9ba9-0cc307e4ec5f",
   "metadata": {
    "pycharm": {
     "name": "#%% md\n"
    }
   },
   "source": [
    "Save a diffraction pattern to calculate mrad"
   ]
  },
  {
   "cell_type": "code",
   "execution_count": null,
   "id": "de5df0ed-989e-4bfc-a6b9-5979adee0b59",
   "metadata": {
    "pycharm": {
     "name": "#%%\n"
    }
   },
   "outputs": [],
   "source": [
    "# s.inav[10,10].save('Disk.tif')"
   ]
  },
  {
   "cell_type": "code",
   "execution_count": null,
   "id": "7ab3c42d-bb3a-449d-9ffd-9a5289685718",
   "metadata": {
    "collapsed": true,
    "jupyter": {
     "outputs_hidden": true
    },
    "pycharm": {
     "name": "#%%\n"
    },
    "tags": []
   },
   "outputs": [],
   "source": [
    "s_ax = s_corr    # Define what data you want to convert the axes of\n",
    "\n",
    "\n",
    "for i in range(4):\n",
    "    if i < 2:\n",
    "        s_ax.axes_manager[i].units = \"nm\"\n",
    "        s_ax.axes_manager[i].scale = 0.5028\n",
    "    else:\n",
    "        s_ax.axes_manager[i].units = \"mrad\"\n",
    "        s_ax.axes_manager[i].scale = 0.032484\n",
    "\n",
    "s_ax.axes_manager[0].name = \"Length\"\n",
    "s_ax.axes_manager[1].name = \"Height\"\n",
    "\n",
    "s_ax.axes_manager[2].name = \"x\"\n",
    "s_ax.axes_manager[3].name = \"y\"\n",
    "\n",
    "s_ax.axes_manager\n",
    "\n",
    "s_corr = s_ax"
   ]
  },
  {
   "cell_type": "markdown",
   "id": "ee1c9ccd-2ca1-4966-8e81-08f93daf6bd3",
   "metadata": {
    "pycharm": {
     "name": "#%% md\n"
    }
   },
   "source": [
    "## <br><br>"
   ]
  },
  {
   "cell_type": "markdown",
   "id": "b7f79eda-b18a-4af3-8c1c-1e984e82970d",
   "metadata": {
    "pycharm": {
     "name": "#%% md\n"
    }
   },
   "source": [
    "## 2 Correcting for bad pixels"
   ]
  },
  {
   "cell_type": "markdown",
   "id": "cd94103a-6b8d-431a-93e2-4a8a4cbab6ca",
   "metadata": {
    "pycharm": {
     "name": "#%% md\n"
    }
   },
   "source": [
    "### 2.1 Locate positions of dead pixels in the detector"
   ]
  },
  {
   "cell_type": "code",
   "execution_count": null,
   "id": "fb5d4003-d201-4748-b97f-70c85585414e",
   "metadata": {
    "pycharm": {
     "name": "#%%\n"
    }
   },
   "outputs": [],
   "source": [
    "s_dead_pixels = s_rebin.find_dead_pixels(dead_pixel_value=0)"
   ]
  },
  {
   "cell_type": "markdown",
   "id": "111013db-520d-4bb9-b586-6e11f5db1770",
   "metadata": {
    "pycharm": {
     "name": "#%% md\n"
    }
   },
   "source": [
    "### 2.2 Locate positions of cosmic rays"
   ]
  },
  {
   "cell_type": "code",
   "execution_count": null,
   "id": "e8a4d08c-13d7-497a-8f20-e63949b17558",
   "metadata": {
    "pycharm": {
     "name": "#%%\n"
    }
   },
   "outputs": [],
   "source": [
    "s_hot_pixels = s_rebin.find_hot_pixels(show_progressbar=True, threshold_multiplier = 10)"
   ]
  },
  {
   "cell_type": "markdown",
   "id": "0e2ca5b9-2efd-4f6d-a2df-f3ce0805372f",
   "metadata": {
    "pycharm": {
     "name": "#%% md\n"
    }
   },
   "source": [
    "### 2.3 Correct for bad pixels (dead and hot)"
   ]
  },
  {
   "cell_type": "code",
   "execution_count": null,
   "id": "01017e2f-7794-4fe5-bee8-fb9a5c057993",
   "metadata": {
    "pycharm": {
     "name": "#%%\n"
    }
   },
   "outputs": [],
   "source": [
    "s_corr = s_rebin.correct_bad_pixels(s_dead_pixels+s_hot_pixels, show_progressbar=True, inplace=False, lazy_result=True)"
   ]
  },
  {
   "cell_type": "code",
   "execution_count": null,
   "id": "5df804c0-b78d-45e2-9997-e034e1c81c12",
   "metadata": {
    "pycharm": {
     "name": "#%%\n"
    }
   },
   "outputs": [],
   "source": [
    "s_corr.plot()"
   ]
  },
  {
   "cell_type": "markdown",
   "id": "1f3fc909-e011-43b0-95ec-4e9f983848a2",
   "metadata": {
    "pycharm": {
     "name": "#%% md\n"
    }
   },
   "source": [
    "## <br><br>"
   ]
  },
  {
   "cell_type": "markdown",
   "id": "bcaea8ff-b268-4399-9524-525b38a62374",
   "metadata": {
    "pycharm": {
     "name": "#%% md\n"
    }
   },
   "source": [
    "## 3 Apply Canny filter"
   ]
  },
  {
   "cell_type": "markdown",
   "id": "1eee8b77-9cb9-46c2-90b7-0f4231f9c32b",
   "metadata": {
    "pycharm": {
     "name": "#%% md\n"
    }
   },
   "source": [
    "### 3.1 Optimize Canny parameters"
   ]
  },
  {
   "cell_type": "markdown",
   "id": "c0943e78-960b-438f-ae7c-805253eeeeae",
   "metadata": {
    "pycharm": {
     "name": "#%% md\n"
    }
   },
   "source": [
    "Check for optimal Canny parameters for the given dataset. `sigma` defines Gaussian blur applied to the disk before edge detection. Try to keep it as low as possible to not blur out the edges too much. It is easier to fill in the circles afterwards than filtering out diffraction contrast. `low_threshold` has little to zero contribution, `high_threshold` usually works best around 250-400."
   ]
  },
  {
   "cell_type": "code",
   "execution_count": null,
   "id": "2067f070",
   "metadata": {
    "pycharm": {
     "name": "#%%\n"
    }
   },
   "outputs": [],
   "source": [
    "x,y = 11,44   # Choose coordinates that are in a challenging region of your dataset\n",
    "\n",
    "\n",
    "fig,ax = plt.subplots(ncols=3,nrows=3,figsize=(6,6))\n",
    "\n",
    "\n",
    "    # Vary sigma\n",
    "    \n",
    "edges1 = feature.canny(s_corr.inav[x,y].data,sigma=1, low_threshold=10, high_threshold=250)\n",
    "edges2 = feature.canny(s_corr.inav[x,y].data,sigma=5, low_threshold=10, high_threshold=250)\n",
    "edges3 = feature.canny(s_corr.inav[x,y].data,sigma=10, low_threshold=10, high_threshold=250)\n",
    "\n",
    "\n",
    "\n",
    "    # Vary low threshold\n",
    "    \n",
    "edges4 = feature.canny(s_corr.inav[x,y].data,sigma=10, low_threshold=0, high_threshold=250)\n",
    "edges5 = feature.canny(s_corr.inav[x,y].data,sigma=10, low_threshold=10, high_threshold=250)\n",
    "edges6 = feature.canny(s_corr.inav[x,y].data,sigma=10, low_threshold=200, high_threshold=250)\n",
    "\n",
    "\n",
    "\n",
    "    # Vary high threshold\n",
    "    \n",
    "edges7 = feature.canny(s_corr.inav[x,y].data,sigma=10, low_threshold=10, high_threshold=50)\n",
    "edges8 = feature.canny(s_corr.inav[x,y].data,sigma=10, low_threshold=10, high_threshold=250)\n",
    "edges9 = feature.canny(s_corr.inav[x,y].data,sigma=10, low_threshold=10, high_threshold=400)\n",
    "\n",
    "\n",
    "\n",
    "    # Add subfigures to 3x3 grid\n",
    "\n",
    "ax[0,0].imshow(edges1,cmap='gray')\n",
    "ax[0,1].imshow(edges2,cmap='gray')\n",
    "ax[0,2].imshow(edges3,cmap='gray')\n",
    "\n",
    "ax[1,0].imshow(edges4,cmap='gray')\n",
    "ax[1,1].imshow(edges5,cmap='gray')\n",
    "ax[1,2].imshow(edges6,cmap='gray')\n",
    "\n",
    "ax[2,0].imshow(edges7,cmap='gray')\n",
    "ax[2,1].imshow(edges8,cmap='gray')\n",
    "ax[2,2].imshow(edges9,cmap='gray')\n",
    "\n",
    "\n",
    "    # Remove tick marks\n",
    "    \n",
    "for i in range(3):\n",
    "    for j in range(3):\n",
    "        ax[i,j].set_xticks([])\n",
    "        ax[i,j].set_yticks([])\n",
    "\n",
    "\n",
    "        \n",
    "# Annotate for each row\n",
    "        \n",
    "ax[0,0].set_ylabel('$I_{low}$=10, $I_{high}$=250')    \n",
    "ax[1,0].set_ylabel('$\\sigma$=10, $I_{high}$=250')    \n",
    "ax[2,0].set_ylabel('$\\sigma$=10, $I_{low}$=10')    \n",
    "\n",
    "\n",
    "# Annotate above each subfigure\n",
    "\n",
    "ax[0,0].set_title('$\\sigma$=1')   \n",
    "ax[0,1].set_title('$\\sigma$=5') \n",
    "ax[0,2].set_title('$\\sigma$=10')  \n",
    "\n",
    "ax[1,0].set_title('$I_{low}$=0') \n",
    "ax[1,1].set_title('$I_{low}$=10') \n",
    "ax[1,2].set_title('$I_{low}$=100') \n",
    "\n",
    "ax[2,0].set_title('$I_{high}$=10')  \n",
    "ax[2,1].set_title('$I_{high}$=250')  \n",
    "ax[2,2].set_title('$I_{high}$=400')  \n",
    "\n",
    "\n",
    "\n",
    "# plt.axis('off')\n",
    "fig.tight_layout()\n",
    "plt.show()    \n",
    "\n",
    "\n",
    "plt.savefig('canny_parameters.jpg')"
   ]
  },
  {
   "cell_type": "markdown",
   "id": "ad40a066-31d3-4b4c-b193-f71402aa2ff2",
   "metadata": {
    "pycharm": {
     "name": "#%% md\n"
    }
   },
   "source": [
    "### 3.2 Apply Canny filter"
   ]
  },
  {
   "cell_type": "markdown",
   "id": "d6df1e4d-bf9b-4c2e-914d-87ea18dedeba",
   "metadata": {
    "pycharm": {
     "name": "#%% md\n"
    }
   },
   "source": [
    "Apply the Canny filter to your data with the optimal parameters obtained above"
   ]
  },
  {
   "cell_type": "code",
   "execution_count": null,
   "id": "17f9826d-ba9b-4b79-9c1a-2b540654f858",
   "metadata": {
    "pycharm": {
     "name": "#%%\n"
    }
   },
   "outputs": [],
   "source": [
    "s_edge = s_corr.map(feature.canny, high_threshold = 1500, low_threshold=200, sigma = 4, show_progressbar = True, inplace = False, lazy_output=True)"
   ]
  },
  {
   "cell_type": "markdown",
   "id": "e3d21dd0-aefb-4ed5-99ec-7073d6fb6c31",
   "metadata": {
    "pycharm": {
     "name": "#%% md\n"
    }
   },
   "source": [
    "Do a check of the Canny filter performance for random places in the dataset"
   ]
  },
  {
   "cell_type": "code",
   "execution_count": null,
   "id": "b7f4637f",
   "metadata": {
    "pycharm": {
     "name": "#%%\n"
    }
   },
   "outputs": [],
   "source": [
    "fig,ax = plt.subplots(ncols=2,nrows=2,figsize=(6,6))\n",
    "\n",
    "\n",
    "edges1 = s_edge.inav[10,10]\n",
    "edges2 = s_edge.inav[5,20]\n",
    "edges3 = s_edge.inav[30,5]\n",
    "edges4 = s_edge.inav[50,50]\n",
    "\n",
    "\n",
    "ax[0,0].imshow(edges1,cmap='viridis')\n",
    "ax[0,1].imshow(edges2,cmap='viridis')\n",
    "ax[1,0].imshow(edges3,cmap='viridis')\n",
    "ax[1,1].imshow(edges4,cmap='viridis')\n",
    "\n",
    "\n",
    "for i in range(2):\n",
    "    for j in range(2):\n",
    "        ax[i,j].axis('off')\n",
    "\n",
    "fig.tight_layout()\n",
    "plt.show()  \n",
    "\n",
    "plt.savefig('canny.jpg')"
   ]
  },
  {
   "cell_type": "markdown",
   "id": "537276e3-8a24-4213-af17-4dc35e201f61",
   "metadata": {
    "pycharm": {
     "name": "#%% md\n"
    }
   },
   "source": [
    "Examine the Canny-filtered 4D dataset."
   ]
  },
  {
   "cell_type": "code",
   "execution_count": null,
   "id": "70aa9ccb-c1a7-4a39-82a6-04addce824d0",
   "metadata": {
    "pycharm": {
     "name": "#%%\n"
    }
   },
   "outputs": [],
   "source": [
    "s_edge.plot()"
   ]
  },
  {
   "cell_type": "markdown",
   "id": "96fdeecb-4e59-48ec-b7f7-6f4f7cf0f5a2",
   "metadata": {
    "pycharm": {
     "name": "#%% md\n"
    }
   },
   "source": [
    "### 3.3 Fill in the Canny-filtered disks to avoid diffraction contrast effects."
   ]
  },
  {
   "cell_type": "code",
   "execution_count": null,
   "id": "a17d8ccc",
   "metadata": {
    "pycharm": {
     "name": "#%%\n"
    }
   },
   "outputs": [],
   "source": [
    "s_fill = s_edge.map(ndimage.binary_fill_holes, inplace = False, lazy_output=True)"
   ]
  },
  {
   "cell_type": "code",
   "execution_count": null,
   "id": "4b972442",
   "metadata": {
    "pycharm": {
     "name": "#%%\n"
    }
   },
   "outputs": [],
   "source": [
    "s_fill.plot()"
   ]
  },
  {
   "cell_type": "markdown",
   "id": "88a354d0-f51f-4464-bb49-cad9824af49a",
   "metadata": {
    "pycharm": {
     "name": "#%% md\n"
    }
   },
   "source": [
    "## <br><br>"
   ]
  },
  {
   "cell_type": "markdown",
   "id": "149a1bea",
   "metadata": {
    "pycharm": {
     "name": "#%% md\n"
    }
   },
   "source": [
    "## 4 Center of mass"
   ]
  },
  {
   "cell_type": "markdown",
   "id": "a58a9603-22fe-4f24-97a8-be29d843a4de",
   "metadata": {
    "pycharm": {
     "name": "#%% md\n"
    }
   },
   "source": [
    "### 4.1 COM for x- and y-axis"
   ]
  },
  {
   "cell_type": "markdown",
   "id": "f5ce383e-1b10-4ed6-b22a-c05265a06a0e",
   "metadata": {
    "pycharm": {
     "name": "#%% md\n"
    }
   },
   "source": [
    "Perform COM of either the edge detected dataset `s_edge` or the filled in dataset `s_fill`."
   ]
  },
  {
   "cell_type": "code",
   "execution_count": null,
   "id": "96ea6280",
   "metadata": {
    "pycharm": {
     "name": "#%%\n"
    }
   },
   "outputs": [],
   "source": [
    "s_com = s_fill.center_of_mass()"
   ]
  },
  {
   "cell_type": "code",
   "execution_count": null,
   "id": "30db7384-8690-49a4-9ebd-ccf263285561",
   "metadata": {
    "pycharm": {
     "name": "#%%\n"
    }
   },
   "outputs": [],
   "source": [
    "s_com.plot(cmap='viridis')    # If 0 and 1 axis corresponds to x- or y-axis will vary depending on sample orientation."
   ]
  },
  {
   "cell_type": "markdown",
   "id": "c3132dd1-129d-4756-858d-a81c6f485f92",
   "metadata": {
    "pycharm": {
     "name": "#%% md\n"
    }
   },
   "source": [
    "OBS: To actually save the correct plots you have to close everything else."
   ]
  },
  {
   "cell_type": "code",
   "execution_count": null,
   "id": "777d2b99-2ce0-4583-b2ec-e15830de1675",
   "metadata": {
    "pycharm": {
     "name": "#%%\n"
    }
   },
   "outputs": [],
   "source": [
    "plt.imshow(s_com.inav[0].data)\n",
    "plt.show()\n",
    "plt.savefig('COM_0.jpg',bbox_inches='tight')"
   ]
  },
  {
   "cell_type": "code",
   "execution_count": null,
   "id": "d5863206-7a3d-4a05-89e3-19196bb42891",
   "metadata": {
    "pycharm": {
     "name": "#%%\n"
    }
   },
   "outputs": [],
   "source": [
    "plt.imshow(s_com.inav[1].data)\n",
    "plt.show()\n",
    "plt.savefig('COM_1.jpg',bbox_inches='tight')"
   ]
  },
  {
   "cell_type": "markdown",
   "id": "5377a979-4215-418f-823f-9bad281a277f",
   "metadata": {
    "pycharm": {
     "name": "#%% md\n"
    }
   },
   "source": [
    "### 4.2 We can add the x- and y-axis for a combined map."
   ]
  },
  {
   "cell_type": "code",
   "execution_count": null,
   "id": "48e69f16",
   "metadata": {
    "pycharm": {
     "name": "#%%\n"
    }
   },
   "outputs": [],
   "source": [
    "COM_xy = s_com.inav[0].data+s_com.inav[1].data"
   ]
  },
  {
   "cell_type": "code",
   "execution_count": null,
   "id": "b1f9f112",
   "metadata": {
    "pycharm": {
     "name": "#%%\n"
    }
   },
   "outputs": [],
   "source": [
    "plt.imshow(COM_xy)\n",
    "plt.savefig('COM_xy.jpg')"
   ]
  },
  {
   "cell_type": "markdown",
   "id": "25b04de1-a650-4156-a5ca-f0b2c5ed2925",
   "metadata": {
    "pycharm": {
     "name": "#%% md\n"
    },
    "tags": []
   },
   "source": [
    "## <br><br><br><br><br><br><br><br>"
   ]
  },
  {
   "cell_type": "markdown",
   "id": "491ec2bb-4cb5-4b5e-8694-d2103ea6001d",
   "metadata": {
    "pycharm": {
     "name": "#%% md\n"
    }
   },
   "source": [
    "## 5 Useful commands"
   ]
  },
  {
   "cell_type": "markdown",
   "id": "381ae24b-71a6-4fc4-be90-de8fedd6637b",
   "metadata": {
    "pycharm": {
     "name": "#%% md\n"
    }
   },
   "source": [
    "#### Plot transposed data"
   ]
  },
  {
   "cell_type": "code",
   "execution_count": null,
   "id": "183da126-ab4f-4108-a64b-0223efc212d2",
   "metadata": {
    "pycharm": {
     "name": "#%%\n"
    }
   },
   "outputs": [],
   "source": [
    "s_corr.T.plot(cmap='viridis')"
   ]
  },
  {
   "cell_type": "markdown",
   "id": "52f84a1f-da5d-498a-b0ce-d27a50371e6f",
   "metadata": {
    "pycharm": {
     "name": "#%% md\n"
    }
   },
   "source": [
    "#### Crop 4D data"
   ]
  },
  {
   "cell_type": "code",
   "execution_count": null,
   "id": "f1a8c04b",
   "metadata": {
    "pycharm": {
     "name": "#%%\n"
    }
   },
   "outputs": [],
   "source": [
    "s_new = s.inav[30:70,30:70]"
   ]
  },
  {
   "cell_type": "markdown",
   "id": "f503ae97-d490-45eb-a45d-1417f8dd39ba",
   "metadata": {
    "pycharm": {
     "name": "#%% md\n"
    }
   },
   "source": [
    "#### Image of diffraction disk (signal dimension)"
   ]
  },
  {
   "cell_type": "code",
   "execution_count": null,
   "id": "6670ba08",
   "metadata": {
    "pycharm": {
     "name": "#%%\n"
    }
   },
   "outputs": [],
   "source": [
    "s.inav[10,10].plot()\n",
    "# s.inav[10,10].save('Disk.png')"
   ]
  },
  {
   "cell_type": "markdown",
   "id": "7b6364e1-7714-4a0e-a743-8f6852b1ed81",
   "metadata": {
    "pycharm": {
     "name": "#%% md\n"
    }
   },
   "source": [
    "#### Image of sample (navigator dimension)"
   ]
  },
  {
   "cell_type": "code",
   "execution_count": null,
   "id": "19fd3537",
   "metadata": {
    "pycharm": {
     "name": "#%%\n"
    }
   },
   "outputs": [],
   "source": [
    "s.isig[10,10].plot()\n",
    "# s.isig[10,10].save('Sample.png')"
   ]
  },
  {
   "cell_type": "markdown",
   "id": "cc5f46ee-db02-40a9-973a-4b3012916abb",
   "metadata": {
    "pycharm": {
     "name": "#%% md\n"
    }
   },
   "source": [
    "#### Access axes manager"
   ]
  },
  {
   "cell_type": "code",
   "execution_count": null,
   "id": "bc67219b",
   "metadata": {
    "pycharm": {
     "name": "#%%\n"
    }
   },
   "outputs": [],
   "source": [
    "s.axes_manager.gui()"
   ]
  },
  {
   "cell_type": "markdown",
   "id": "95f04c70-571a-4851-9475-ea21a2628fa0",
   "metadata": {
    "pycharm": {
     "name": "#%% md\n"
    }
   },
   "source": [
    "#### Access data information "
   ]
  },
  {
   "cell_type": "code",
   "execution_count": null,
   "id": "590725f9",
   "metadata": {
    "pycharm": {
     "name": "#%%\n"
    }
   },
   "outputs": [],
   "source": [
    "s.data"
   ]
  },
  {
   "cell_type": "markdown",
   "id": "b7329e1d-98fc-4ceb-b39d-7ba072d9f370",
   "metadata": {
    "pycharm": {
     "name": "#%% md\n"
    }
   },
   "source": [
    "#### Convert to lazy signal\n",
    "OBS: changes the signal class "
   ]
  },
  {
   "cell_type": "code",
   "execution_count": null,
   "id": "64966514",
   "metadata": {
    "pycharm": {
     "name": "#%%\n"
    }
   },
   "outputs": [],
   "source": [
    "s = hs.signals.Signal2D(s_edge).as_lazy()"
   ]
  },
  {
   "cell_type": "markdown",
   "id": "633f66af-8e03-4386-9caa-b4f8080fbe81",
   "metadata": {
    "pycharm": {
     "name": "#%% md\n"
    }
   },
   "source": [
    "#### Check chunksize"
   ]
  },
  {
   "cell_type": "code",
   "execution_count": null,
   "id": "361159b6",
   "metadata": {
    "pycharm": {
     "name": "#%%\n"
    }
   },
   "outputs": [],
   "source": [
    "s.data.chunksize"
   ]
  },
  {
   "cell_type": "markdown",
   "id": "85a4c53a-c8f2-41f3-9233-3df74b1c7fe6",
   "metadata": {
    "pycharm": {
     "name": "#%% md\n"
    }
   },
   "source": [
    "#### Center of mass"
   ]
  },
  {
   "cell_type": "code",
   "execution_count": null,
   "id": "4ba5be58",
   "metadata": {
    "pycharm": {
     "name": "#%%\n"
    }
   },
   "outputs": [],
   "source": [
    "s_com = s_edge.center_of_mass(threshold=2, show_progressbar=True)\n",
    "s_com.plot()"
   ]
  },
  {
   "cell_type": "markdown",
   "id": "a7c4fecd-e5bb-486d-bf54-434eb164fead",
   "metadata": {
    "pycharm": {
     "name": "#%% md\n"
    }
   },
   "source": [
    "#### Canny filter on a single frame"
   ]
  },
  {
   "cell_type": "code",
   "execution_count": null,
   "id": "f8f1d680",
   "metadata": {
    "pycharm": {
     "name": "#%%\n"
    }
   },
   "outputs": [],
   "source": [
    "edge = feature.canny(s_corr.inav[50,50].data, sigma = 4, high_threshold = 70, low_threshold = 10)"
   ]
  },
  {
   "cell_type": "markdown",
   "id": "78cd1af3-63d5-42e1-8eb9-70ba3dba2e53",
   "metadata": {
    "pycharm": {
     "name": "#%% md\n"
    }
   },
   "source": [
    "#### Plotting figures"
   ]
  },
  {
   "cell_type": "markdown",
   "id": "e56eb37f-89c4-40d0-a406-e7e295c01db5",
   "metadata": {
    "pycharm": {
     "name": "#%% md\n"
    }
   },
   "source": [
    "Plot and save a range of diffraction patterns across a line profile across e.g. an a-domain. Can be used for both `s_corr`, `s_edge` and `s_fill` of course. I used the magic tool in Gimp to only select the edge and overlap the edges in Figure 16 in the report."
   ]
  },
  {
   "cell_type": "code",
   "execution_count": null,
   "id": "edf0105e-8863-4113-b728-6a58b5eb702d",
   "metadata": {
    "pycharm": {
     "name": "#%%\n"
    }
   },
   "outputs": [],
   "source": [
    "fig,ax = plt.subplots(figsize=(10,10))\n",
    "\n",
    "for dx in range(20):\n",
    "    x = 150 + dx\n",
    "    y = 16\n",
    "    ax.imshow(s_corr.inav[x,y],cmap='viridis')\n",
    "    plt.tight_layout()\n",
    "    plt.axis('off')\n",
    "    plt.savefig('a_cross_'+str(x)+'_'+str(y)+'.png')"
   ]
  },
  {
   "cell_type": "code",
   "execution_count": null,
   "id": "df0100dd-5298-4415-a1a1-823768ab39bd",
   "metadata": {
    "pycharm": {
     "name": "#%%\n"
    }
   },
   "outputs": [],
   "source": [
    "fig,ax = plt.subplots(ncols=2,nrows=2,figsize=(6,6))\n",
    "\n",
    "\n",
    "\n",
    "edges1 = s_edge.inav[70,20]\n",
    "edges2 = s_edge.inav[85,20]\n",
    "edges3 = s_edge.inav[130,20]\n",
    "edges4 = s_edge.inav[165,20]\n",
    "\n",
    "\n",
    "ax[0,0].imshow(edges1,cmap='viridis')\n",
    "ax[0,1].imshow(edges2,cmap='viridis')\n",
    "ax[1,0].imshow(edges3,cmap='viridis')\n",
    "ax[1,1].imshow(edges4,cmap='viridis')\n",
    "\n",
    "\n",
    "for i in range(2):\n",
    "    for j in range(2):\n",
    "        ax[i,j].axis('off')\n",
    "\n",
    "fig.tight_layout()\n",
    "plt.show()    "
   ]
  },
  {
   "cell_type": "code",
   "execution_count": null,
   "id": "865d5b96",
   "metadata": {
    "pycharm": {
     "name": "#%%\n"
    }
   },
   "outputs": [],
   "source": [
    "fig,ax = plt.subplots(ncols=3,nrows=3,figsize=(6,6))\n",
    "\n",
    "edges1 = feature.canny(s_corr.inav[50,50].data,sigma=1, low_threshold=10, high_threshold=250)\n",
    "edges2 = feature.canny(s_corr.inav[50,50].data,sigma=5, low_threshold=10, high_threshold=250)\n",
    "edges3 = feature.canny(s_corr.inav[50,50].data,sigma=10, low_threshold=10, high_threshold=250)\n",
    "\n",
    "\n",
    "edges4 = feature.canny(s_corr.inav[50,50].data,sigma=10, low_threshold=0, high_threshold=250)\n",
    "edges5 = feature.canny(s_corr.inav[50,50].data,sigma=10, low_threshold=10, high_threshold=250)\n",
    "edges6 = feature.canny(s_corr.inav[50,50].data,sigma=10, low_threshold=200, high_threshold=250)\n",
    "\n",
    "\n",
    "edges7 = feature.canny(s_corr.inav[50,50].data,sigma=10, low_threshold=10, high_threshold=50)\n",
    "edges8 = feature.canny(s_corr.inav[50,50].data,sigma=10, low_threshold=10, high_threshold=250)\n",
    "edges9 = feature.canny(s_corr.inav[50,50].data,sigma=10, low_threshold=10, high_threshold=500)\n",
    "\n",
    "\n",
    "\n",
    "# edges1 = s_out.inav[0,1]\n",
    "# edges2 = s_out.inav[15,19]\n",
    "# edges3 = s_out.inav[2,20]\n",
    "# edges4 = s_out.inav[20,40]\n",
    "\n",
    "# ax[0].imshow(edges1,cmap='gray')\n",
    "# ax[1].imshow(edges2,cmap='gray')\n",
    "# ax[2].imshow(edges3,cmap='gray')\n",
    "# ax[3].imshow(edges4,cmap='gray')\n",
    "\n",
    "ax[0,0].imshow(edges1,cmap='gray')\n",
    "ax[0,1].imshow(edges2,cmap='gray')\n",
    "ax[0,2].imshow(edges3,cmap='gray')\n",
    "\n",
    "ax[1,0].imshow(edges4,cmap='gray')\n",
    "ax[1,1].imshow(edges5,cmap='gray')\n",
    "ax[1,2].imshow(edges6,cmap='gray')\n",
    "\n",
    "ax[2,0].imshow(edges7,cmap='gray')\n",
    "ax[2,1].imshow(edges8,cmap='gray')\n",
    "ax[2,2].imshow(edges9,cmap='gray')\n",
    "\n",
    "for i in range(3):\n",
    "    for j in range(3):\n",
    "        ax[i,j].set_xticks([])\n",
    "        ax[i,j].set_yticks([])\n",
    "\n",
    "ax[0,0].set_ylabel('$I_{low}$=10, $I_{high}$=250')    \n",
    "ax[1,0].set_ylabel('$\\sigma$=10, $I_{high}$=250')    \n",
    "ax[2,0].set_ylabel('$\\sigma$=10, $I_{low}$=10')    \n",
    "\n",
    "# plt.axis('off')\n",
    "fig.tight_layout()\n",
    "plt.show()    \n",
    "    "
   ]
  },
  {
   "cell_type": "code",
   "execution_count": null,
   "id": "01e7db17-402f-493a-89ec-ae9c595c1084",
   "metadata": {
    "pycharm": {
     "name": "#%%\n"
    },
    "tags": []
   },
   "outputs": [],
   "source": [
    "fig,ax = plt.subplots(ncols=2,nrows=2,figsize=(6,6))\n",
    "ax[0,0].imshow(s_out.inav[70,20])\n",
    "ax[0,1].imshow(s_out.inav[85,20])\n",
    "ax[1,0].imshow(s_out.inav[130,20])\n",
    "ax[1,1].imshow(s_out.inav[165,20])"
   ]
  }
 ],
 "metadata": {
  "kernelspec": {
   "display_name": "Python 3 (ipykernel)",
   "language": "python",
   "name": "python3"
  },
  "language_info": {
   "codemirror_mode": {
    "name": "ipython",
    "version": 3
   },
   "file_extension": ".py",
   "mimetype": "text/x-python",
   "name": "python",
   "nbconvert_exporter": "python",
   "pygments_lexer": "ipython3",
   "version": "3.9.9"
  }
 },
 "nbformat": 4,
 "nbformat_minor": 5
}
