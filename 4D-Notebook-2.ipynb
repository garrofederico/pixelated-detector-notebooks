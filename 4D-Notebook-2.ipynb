{
 "cells": [
  {
   "cell_type": "markdown",
   "id": "5611c1f9",
   "metadata": {
    "pycharm": {
     "name": "#%% md\n"
    }
   },
   "source": [
    "# 4D-STEM Notebook\n",
    "In this Notebook it is demonstrated how to work with big 4D-STEM data, especially when applying Canny edge detection. The goal is to eliminate features observed within the transmitted beam disk and separate this from the actual displacement of the disk. If the analysis is correct, the result should be a map showing the disk displacement in x- and y-direction."
   ]
  },
  {
   "cell_type": "markdown",
   "id": "826ff326-7631-4fca-8931-46a29a1a87e8",
   "metadata": {
    "pycharm": {
     "name": "#%% md\n"
    }
   },
   "source": [
    "## 0 Import repositories"
   ]
  },
  {
   "cell_type": "code",
   "execution_count": 1,
   "id": "0f006afd-995f-48e7-a73a-a2a19099477e",
   "metadata": {
    "pycharm": {
     "name": "#%%\n"
    }
   },
   "outputs": [],
   "source": [
    "%matplotlib qt"
   ]
  },
  {
   "cell_type": "code",
   "execution_count": 6,
   "id": "ac0a7a89-b545-4092-bcc9-f3a8e8eb8d83",
   "metadata": {
    "pycharm": {
     "name": "#%%\n"
    }
   },
   "outputs": [],
   "source": [
    "import hyperspy.api as hs\n",
    "import matplotlib.pyplot as plt\n",
    "import numpy as np\n",
    "import pyxem as pxm\n",
    "from pyxem.utils.io_utils import _parse_hdr\n",
    "from skimage import data, io, feature\n",
    "from converter_nord import save_signal\n",
    "import zarr\n",
    "import dask.array as da\n",
    "import os\n",
    "from scipy import ndimage, misc"
   ]
  },
  {
   "cell_type": "code",
   "execution_count": null,
   "id": "194af032-47c8-420d-af90-7aad7111adcf",
   "metadata": {
    "pycharm": {
     "name": "#%%\n"
    }
   },
   "outputs": [],
   "source": []
  },
  {
   "cell_type": "code",
   "execution_count": null,
   "id": "47188256-e1fb-4b67-85b1-28fdd6feca7b",
   "metadata": {
    "tags": [],
    "pycharm": {
     "name": "#%%\n"
    }
   },
   "outputs": [],
   "source": [
    "!pip list"
   ]
  },
  {
   "cell_type": "markdown",
   "id": "9b0d9a6f-3a72-4562-8656-f4df536102b3",
   "metadata": {
    "pycharm": {
     "name": "#%% md\n"
    }
   },
   "source": [
    "## <br><br>"
   ]
  },
  {
   "cell_type": "markdown",
   "id": "033351d7-741f-4c7c-80b4-60af51c22226",
   "metadata": {
    "pycharm": {
     "name": "#%% md\n"
    }
   },
   "source": [
    "## 1 Loading"
   ]
  },
  {
   "cell_type": "code",
   "execution_count": 10,
   "id": "cb2d7fc4-ad2b-4d90-9237-4aee7826a2a1",
   "metadata": {
    "pycharm": {
     "name": "#%%\n"
    }
   },
   "outputs": [],
   "source": [
    "data_path = \"../../Duncan_Alexander/Merlin detector/22-05-06 PTO_DSO_CL02/Scan4D_02.mib\""
   ]
  },
  {
   "cell_type": "code",
   "execution_count": 11,
   "id": "412647c0-07f8-49dd-842a-7a62b09834dc",
   "metadata": {
    "pycharm": {
     "name": "#%%\n"
    }
   },
   "outputs": [
    {
     "data": {
      "text/plain": [
       "{'width': 256,\n",
       " 'height': 256,\n",
       " 'Assembly Size': '1x1',\n",
       " 'offset': 384,\n",
       " 'data-type': 'unsigned',\n",
       " 'data-length': '16',\n",
       " 'Counter Depth (number)': 12,\n",
       " 'raw': 'MIB',\n",
       " 'byte-order': 'dont-care',\n",
       " 'record-by': 'image',\n",
       " 'title': '',\n",
       " 'date': '20220506',\n",
       " 'time': '14:35:11.838851',\n",
       " 'data offset': 384}"
      ]
     },
     "execution_count": 11,
     "metadata": {},
     "output_type": "execute_result"
    }
   ],
   "source": [
    "_parse_hdr(data_path)"
   ]
  },
  {
   "cell_type": "code",
   "execution_count": 14,
   "id": "3aa82669-fd76-484d-8afe-233738c5e6a0",
   "metadata": {
    "pycharm": {
     "name": "#%%\n"
    }
   },
   "outputs": [
    {
     "data": {
      "text/plain": [
       "'Z:\\\\Federico_Garro\\\\Pixelated detector notebooks'"
      ]
     },
     "execution_count": 14,
     "metadata": {},
     "output_type": "execute_result"
    }
   ],
   "source": [
    "os.getcwd()"
   ]
  },
  {
   "cell_type": "code",
   "execution_count": 15,
   "id": "d83a01c1-d587-4ae0-9edb-fbc657259a46",
   "metadata": {
    "pycharm": {
     "name": "#%%\n"
    }
   },
   "outputs": [
    {
     "name": "stdout",
     "output_type": "stream",
     "text": [
      "Z:\\Federico_Garro\\Pixelated detector notebooks already exist\n"
     ]
    }
   ],
   "source": [
    "save_signal(os.getcwd(),'4D_converted_4.hspy',384,128,1)"
   ]
  },
  {
   "cell_type": "code",
   "execution_count": 5,
   "id": "28175f6d-4aaa-4777-a43b-4c80f9c8be0e",
   "metadata": {
    "tags": [],
    "pycharm": {
     "name": "#%%\n"
    }
   },
   "outputs": [],
   "source": [
    "s = hs.load('4D_converted.hspy', lazy=True)"
   ]
  },
  {
   "cell_type": "code",
   "execution_count": 9,
   "id": "70022280-1994-4052-81de-db002f4bca11",
   "metadata": {
    "pycharm": {
     "name": "#%%\n"
    }
   },
   "outputs": [
    {
     "data": {
      "text/html": [
       "<table>\n",
       "    <tr>\n",
       "        <td>\n",
       "            <table>\n",
       "                <thead>\n",
       "                    <tr>\n",
       "                        <td> </td>\n",
       "                        <th> Array </th>\n",
       "                        <th> Chunk </th>\n",
       "                    </tr>\n",
       "                </thead>\n",
       "                <tbody>\n",
       "                    \n",
       "                    <tr>\n",
       "                        <th> Bytes </th>\n",
       "                        <td> 6.00 GiB </td>\n",
       "                        <td> 2.00 MiB </td>\n",
       "                    </tr>\n",
       "                    \n",
       "                    <tr>\n",
       "                        <th> Shape </th>\n",
       "                        <td> (128, 384, 256, 256) </td>\n",
       "                        <td> (32, 32, 32, 32) </td>\n",
       "                    </tr>\n",
       "                    <tr>\n",
       "                        <th> Count </th>\n",
       "                        <td> 3073 Tasks </td>\n",
       "                        <td> 3072 Chunks </td>\n",
       "                    </tr>\n",
       "                    <tr>\n",
       "                    <th> Type </th>\n",
       "                    <td> uint16 </td>\n",
       "                    <td> numpy.ndarray </td>\n",
       "                    </tr>\n",
       "                </tbody>\n",
       "            </table>\n",
       "        </td>\n",
       "        <td>\n",
       "        <svg width=\"426\" height=\"200\" style=\"stroke:rgb(0,0,0);stroke-width:1\" >\n",
       "\n",
       "  <!-- Horizontal lines -->\n",
       "  <line x1=\"0\" y1=\"0\" x2=\"43\" y2=\"0\" style=\"stroke-width:2\" />\n",
       "  <line x1=\"0\" y1=\"25\" x2=\"43\" y2=\"25\" style=\"stroke-width:2\" />\n",
       "\n",
       "  <!-- Vertical lines -->\n",
       "  <line x1=\"0\" y1=\"0\" x2=\"0\" y2=\"25\" style=\"stroke-width:2\" />\n",
       "  <line x1=\"10\" y1=\"0\" x2=\"10\" y2=\"25\" />\n",
       "  <line x1=\"21\" y1=\"0\" x2=\"21\" y2=\"25\" />\n",
       "  <line x1=\"32\" y1=\"0\" x2=\"32\" y2=\"25\" />\n",
       "  <line x1=\"43\" y1=\"0\" x2=\"43\" y2=\"25\" style=\"stroke-width:2\" />\n",
       "\n",
       "  <!-- Colored Rectangle -->\n",
       "  <polygon points=\"0.0,0.0 43.88583450710766,0.0 43.88583450710766,25.412616514582485 0.0,25.412616514582485\" style=\"fill:#ECB172A0;stroke-width:0\"/>\n",
       "\n",
       "  <!-- Text -->\n",
       "  <text x=\"21.942917\" y=\"45.412617\" font-size=\"1.0rem\" font-weight=\"100\" text-anchor=\"middle\" >128</text>\n",
       "  <text x=\"63.885835\" y=\"12.706308\" font-size=\"1.0rem\" font-weight=\"100\" text-anchor=\"middle\" transform=\"rotate(0,63.885835,12.706308)\">1</text>\n",
       "\n",
       "\n",
       "  <!-- Horizontal lines -->\n",
       "  <line x1=\"113\" y1=\"0\" x2=\"183\" y2=\"70\" style=\"stroke-width:2\" />\n",
       "  <line x1=\"113\" y1=\"10\" x2=\"183\" y2=\"80\" />\n",
       "  <line x1=\"113\" y1=\"20\" x2=\"183\" y2=\"90\" />\n",
       "  <line x1=\"113\" y1=\"30\" x2=\"183\" y2=\"100\" />\n",
       "  <line x1=\"113\" y1=\"40\" x2=\"183\" y2=\"110\" />\n",
       "  <line x1=\"113\" y1=\"50\" x2=\"183\" y2=\"120\" />\n",
       "  <line x1=\"113\" y1=\"60\" x2=\"183\" y2=\"130\" />\n",
       "  <line x1=\"113\" y1=\"70\" x2=\"183\" y2=\"140\" />\n",
       "  <line x1=\"113\" y1=\"80\" x2=\"183\" y2=\"150\" style=\"stroke-width:2\" />\n",
       "\n",
       "  <!-- Vertical lines -->\n",
       "  <line x1=\"113\" y1=\"0\" x2=\"113\" y2=\"80\" style=\"stroke-width:2\" />\n",
       "  <line x1=\"118\" y1=\"5\" x2=\"118\" y2=\"85\" />\n",
       "  <line x1=\"124\" y1=\"11\" x2=\"124\" y2=\"91\" />\n",
       "  <line x1=\"130\" y1=\"17\" x2=\"130\" y2=\"97\" />\n",
       "  <line x1=\"136\" y1=\"23\" x2=\"136\" y2=\"103\" />\n",
       "  <line x1=\"142\" y1=\"29\" x2=\"142\" y2=\"109\" />\n",
       "  <line x1=\"148\" y1=\"35\" x2=\"148\" y2=\"115\" />\n",
       "  <line x1=\"154\" y1=\"41\" x2=\"154\" y2=\"121\" />\n",
       "  <line x1=\"160\" y1=\"47\" x2=\"160\" y2=\"127\" />\n",
       "  <line x1=\"165\" y1=\"52\" x2=\"165\" y2=\"132\" />\n",
       "  <line x1=\"171\" y1=\"58\" x2=\"171\" y2=\"138\" />\n",
       "  <line x1=\"177\" y1=\"64\" x2=\"177\" y2=\"144\" />\n",
       "  <line x1=\"183\" y1=\"70\" x2=\"183\" y2=\"150\" style=\"stroke-width:2\" />\n",
       "\n",
       "  <!-- Colored Rectangle -->\n",
       "  <polygon points=\"113.0,0.0 183.58823529411765,70.58823529411765 183.58823529411765,150.58823529411765 113.0,80.0\" style=\"fill:#ECB172A0;stroke-width:0\"/>\n",
       "\n",
       "  <!-- Horizontal lines -->\n",
       "  <line x1=\"113\" y1=\"0\" x2=\"193\" y2=\"0\" style=\"stroke-width:2\" />\n",
       "  <line x1=\"118\" y1=\"5\" x2=\"198\" y2=\"5\" />\n",
       "  <line x1=\"124\" y1=\"11\" x2=\"204\" y2=\"11\" />\n",
       "  <line x1=\"130\" y1=\"17\" x2=\"210\" y2=\"17\" />\n",
       "  <line x1=\"136\" y1=\"23\" x2=\"216\" y2=\"23\" />\n",
       "  <line x1=\"142\" y1=\"29\" x2=\"222\" y2=\"29\" />\n",
       "  <line x1=\"148\" y1=\"35\" x2=\"228\" y2=\"35\" />\n",
       "  <line x1=\"154\" y1=\"41\" x2=\"234\" y2=\"41\" />\n",
       "  <line x1=\"160\" y1=\"47\" x2=\"240\" y2=\"47\" />\n",
       "  <line x1=\"165\" y1=\"52\" x2=\"245\" y2=\"52\" />\n",
       "  <line x1=\"171\" y1=\"58\" x2=\"251\" y2=\"58\" />\n",
       "  <line x1=\"177\" y1=\"64\" x2=\"257\" y2=\"64\" />\n",
       "  <line x1=\"183\" y1=\"70\" x2=\"263\" y2=\"70\" style=\"stroke-width:2\" />\n",
       "\n",
       "  <!-- Vertical lines -->\n",
       "  <line x1=\"113\" y1=\"0\" x2=\"183\" y2=\"70\" style=\"stroke-width:2\" />\n",
       "  <line x1=\"123\" y1=\"0\" x2=\"193\" y2=\"70\" />\n",
       "  <line x1=\"133\" y1=\"0\" x2=\"203\" y2=\"70\" />\n",
       "  <line x1=\"143\" y1=\"0\" x2=\"213\" y2=\"70\" />\n",
       "  <line x1=\"153\" y1=\"0\" x2=\"223\" y2=\"70\" />\n",
       "  <line x1=\"163\" y1=\"0\" x2=\"233\" y2=\"70\" />\n",
       "  <line x1=\"173\" y1=\"0\" x2=\"243\" y2=\"70\" />\n",
       "  <line x1=\"183\" y1=\"0\" x2=\"253\" y2=\"70\" />\n",
       "  <line x1=\"193\" y1=\"0\" x2=\"263\" y2=\"70\" style=\"stroke-width:2\" />\n",
       "\n",
       "  <!-- Colored Rectangle -->\n",
       "  <polygon points=\"113.0,0.0 193.0,0.0 263.5882352941177,70.58823529411765 183.58823529411765,70.58823529411765\" style=\"fill:#ECB172A0;stroke-width:0\"/>\n",
       "\n",
       "  <!-- Horizontal lines -->\n",
       "  <line x1=\"183\" y1=\"70\" x2=\"263\" y2=\"70\" style=\"stroke-width:2\" />\n",
       "  <line x1=\"183\" y1=\"80\" x2=\"263\" y2=\"80\" />\n",
       "  <line x1=\"183\" y1=\"90\" x2=\"263\" y2=\"90\" />\n",
       "  <line x1=\"183\" y1=\"100\" x2=\"263\" y2=\"100\" />\n",
       "  <line x1=\"183\" y1=\"110\" x2=\"263\" y2=\"110\" />\n",
       "  <line x1=\"183\" y1=\"120\" x2=\"263\" y2=\"120\" />\n",
       "  <line x1=\"183\" y1=\"130\" x2=\"263\" y2=\"130\" />\n",
       "  <line x1=\"183\" y1=\"140\" x2=\"263\" y2=\"140\" />\n",
       "  <line x1=\"183\" y1=\"150\" x2=\"263\" y2=\"150\" style=\"stroke-width:2\" />\n",
       "\n",
       "  <!-- Vertical lines -->\n",
       "  <line x1=\"183\" y1=\"70\" x2=\"183\" y2=\"150\" style=\"stroke-width:2\" />\n",
       "  <line x1=\"193\" y1=\"70\" x2=\"193\" y2=\"150\" />\n",
       "  <line x1=\"203\" y1=\"70\" x2=\"203\" y2=\"150\" />\n",
       "  <line x1=\"213\" y1=\"70\" x2=\"213\" y2=\"150\" />\n",
       "  <line x1=\"223\" y1=\"70\" x2=\"223\" y2=\"150\" />\n",
       "  <line x1=\"233\" y1=\"70\" x2=\"233\" y2=\"150\" />\n",
       "  <line x1=\"243\" y1=\"70\" x2=\"243\" y2=\"150\" />\n",
       "  <line x1=\"253\" y1=\"70\" x2=\"253\" y2=\"150\" />\n",
       "  <line x1=\"263\" y1=\"70\" x2=\"263\" y2=\"150\" style=\"stroke-width:2\" />\n",
       "\n",
       "  <!-- Colored Rectangle -->\n",
       "  <polygon points=\"183.58823529411765,70.58823529411765 263.5882352941177,70.58823529411765 263.5882352941177,150.58823529411765 183.58823529411765,150.58823529411765\" style=\"fill:#ECB172A0;stroke-width:0\"/>\n",
       "\n",
       "  <!-- Text -->\n",
       "  <text x=\"223.588235\" y=\"170.588235\" font-size=\"1.0rem\" font-weight=\"100\" text-anchor=\"middle\" >256</text>\n",
       "  <text x=\"283.588235\" y=\"110.588235\" font-size=\"1.0rem\" font-weight=\"100\" text-anchor=\"middle\" transform=\"rotate(-90,283.588235,110.588235)\">256</text>\n",
       "  <text x=\"138.294118\" y=\"135.294118\" font-size=\"1.0rem\" font-weight=\"100\" text-anchor=\"middle\" transform=\"rotate(45,138.294118,135.294118)\">384</text>\n",
       "</svg>\n",
       "        </td>\n",
       "    </tr>\n",
       "</table>"
      ],
      "text/plain": [
       "dask.array<array, shape=(128, 384, 256, 256), dtype=uint16, chunksize=(32, 32, 32, 32), chunktype=numpy.ndarray>"
      ]
     },
     "execution_count": 9,
     "metadata": {},
     "output_type": "execute_result"
    }
   ],
   "source": [
    "s.data"
   ]
  },
  {
   "cell_type": "code",
   "execution_count": null,
   "id": "27d7a73f-c7d7-4ddd-9812-6a295db7c188",
   "metadata": {
    "pycharm": {
     "name": "#%%\n"
    }
   },
   "outputs": [],
   "source": [
    "s.save('4D_converted.zspy',chunks=(32,32,32,32))"
   ]
  },
  {
   "cell_type": "code",
   "execution_count": 161,
   "id": "ba05788a-2f84-4c0a-90ec-9161695070d8",
   "metadata": {
    "pycharm": {
     "name": "#%%\n"
    }
   },
   "outputs": [],
   "source": [
    "s = hs.load(\"4D_converted.zspy\", lazy=True)"
   ]
  },
  {
   "cell_type": "code",
   "execution_count": 144,
   "id": "e19cbecf-142a-4930-94cb-9a80919ea82c",
   "metadata": {
    "pycharm": {
     "name": "#%%\n"
    }
   },
   "outputs": [
    {
     "data": {
      "text/html": [
       "<table>\n",
       "    <tr>\n",
       "        <td>\n",
       "            <table>\n",
       "                <thead>\n",
       "                    <tr>\n",
       "                        <td> </td>\n",
       "                        <th> Array </th>\n",
       "                        <th> Chunk </th>\n",
       "                    </tr>\n",
       "                </thead>\n",
       "                <tbody>\n",
       "                    \n",
       "                    <tr>\n",
       "                        <th> Bytes </th>\n",
       "                        <td> 6.00 GiB </td>\n",
       "                        <td> 2.00 MiB </td>\n",
       "                    </tr>\n",
       "                    \n",
       "                    <tr>\n",
       "                        <th> Shape </th>\n",
       "                        <td> (128, 384, 256, 256) </td>\n",
       "                        <td> (32, 32, 32, 32) </td>\n",
       "                    </tr>\n",
       "                    <tr>\n",
       "                        <th> Count </th>\n",
       "                        <td> 3073 Tasks </td>\n",
       "                        <td> 3072 Chunks </td>\n",
       "                    </tr>\n",
       "                    <tr>\n",
       "                    <th> Type </th>\n",
       "                    <td> uint16 </td>\n",
       "                    <td> numpy.ndarray </td>\n",
       "                    </tr>\n",
       "                </tbody>\n",
       "            </table>\n",
       "        </td>\n",
       "        <td>\n",
       "        <svg width=\"426\" height=\"200\" style=\"stroke:rgb(0,0,0);stroke-width:1\" >\n",
       "\n",
       "  <!-- Horizontal lines -->\n",
       "  <line x1=\"0\" y1=\"0\" x2=\"43\" y2=\"0\" style=\"stroke-width:2\" />\n",
       "  <line x1=\"0\" y1=\"25\" x2=\"43\" y2=\"25\" style=\"stroke-width:2\" />\n",
       "\n",
       "  <!-- Vertical lines -->\n",
       "  <line x1=\"0\" y1=\"0\" x2=\"0\" y2=\"25\" style=\"stroke-width:2\" />\n",
       "  <line x1=\"10\" y1=\"0\" x2=\"10\" y2=\"25\" />\n",
       "  <line x1=\"21\" y1=\"0\" x2=\"21\" y2=\"25\" />\n",
       "  <line x1=\"32\" y1=\"0\" x2=\"32\" y2=\"25\" />\n",
       "  <line x1=\"43\" y1=\"0\" x2=\"43\" y2=\"25\" style=\"stroke-width:2\" />\n",
       "\n",
       "  <!-- Colored Rectangle -->\n",
       "  <polygon points=\"0.0,0.0 43.88583450710766,0.0 43.88583450710766,25.412616514582485 0.0,25.412616514582485\" style=\"fill:#ECB172A0;stroke-width:0\"/>\n",
       "\n",
       "  <!-- Text -->\n",
       "  <text x=\"21.942917\" y=\"45.412617\" font-size=\"1.0rem\" font-weight=\"100\" text-anchor=\"middle\" >128</text>\n",
       "  <text x=\"63.885835\" y=\"12.706308\" font-size=\"1.0rem\" font-weight=\"100\" text-anchor=\"middle\" transform=\"rotate(0,63.885835,12.706308)\">1</text>\n",
       "\n",
       "\n",
       "  <!-- Horizontal lines -->\n",
       "  <line x1=\"113\" y1=\"0\" x2=\"183\" y2=\"70\" style=\"stroke-width:2\" />\n",
       "  <line x1=\"113\" y1=\"10\" x2=\"183\" y2=\"80\" />\n",
       "  <line x1=\"113\" y1=\"20\" x2=\"183\" y2=\"90\" />\n",
       "  <line x1=\"113\" y1=\"30\" x2=\"183\" y2=\"100\" />\n",
       "  <line x1=\"113\" y1=\"40\" x2=\"183\" y2=\"110\" />\n",
       "  <line x1=\"113\" y1=\"50\" x2=\"183\" y2=\"120\" />\n",
       "  <line x1=\"113\" y1=\"60\" x2=\"183\" y2=\"130\" />\n",
       "  <line x1=\"113\" y1=\"70\" x2=\"183\" y2=\"140\" />\n",
       "  <line x1=\"113\" y1=\"80\" x2=\"183\" y2=\"150\" style=\"stroke-width:2\" />\n",
       "\n",
       "  <!-- Vertical lines -->\n",
       "  <line x1=\"113\" y1=\"0\" x2=\"113\" y2=\"80\" style=\"stroke-width:2\" />\n",
       "  <line x1=\"118\" y1=\"5\" x2=\"118\" y2=\"85\" />\n",
       "  <line x1=\"124\" y1=\"11\" x2=\"124\" y2=\"91\" />\n",
       "  <line x1=\"130\" y1=\"17\" x2=\"130\" y2=\"97\" />\n",
       "  <line x1=\"136\" y1=\"23\" x2=\"136\" y2=\"103\" />\n",
       "  <line x1=\"142\" y1=\"29\" x2=\"142\" y2=\"109\" />\n",
       "  <line x1=\"148\" y1=\"35\" x2=\"148\" y2=\"115\" />\n",
       "  <line x1=\"154\" y1=\"41\" x2=\"154\" y2=\"121\" />\n",
       "  <line x1=\"160\" y1=\"47\" x2=\"160\" y2=\"127\" />\n",
       "  <line x1=\"165\" y1=\"52\" x2=\"165\" y2=\"132\" />\n",
       "  <line x1=\"171\" y1=\"58\" x2=\"171\" y2=\"138\" />\n",
       "  <line x1=\"177\" y1=\"64\" x2=\"177\" y2=\"144\" />\n",
       "  <line x1=\"183\" y1=\"70\" x2=\"183\" y2=\"150\" style=\"stroke-width:2\" />\n",
       "\n",
       "  <!-- Colored Rectangle -->\n",
       "  <polygon points=\"113.0,0.0 183.58823529411765,70.58823529411765 183.58823529411765,150.58823529411765 113.0,80.0\" style=\"fill:#ECB172A0;stroke-width:0\"/>\n",
       "\n",
       "  <!-- Horizontal lines -->\n",
       "  <line x1=\"113\" y1=\"0\" x2=\"193\" y2=\"0\" style=\"stroke-width:2\" />\n",
       "  <line x1=\"118\" y1=\"5\" x2=\"198\" y2=\"5\" />\n",
       "  <line x1=\"124\" y1=\"11\" x2=\"204\" y2=\"11\" />\n",
       "  <line x1=\"130\" y1=\"17\" x2=\"210\" y2=\"17\" />\n",
       "  <line x1=\"136\" y1=\"23\" x2=\"216\" y2=\"23\" />\n",
       "  <line x1=\"142\" y1=\"29\" x2=\"222\" y2=\"29\" />\n",
       "  <line x1=\"148\" y1=\"35\" x2=\"228\" y2=\"35\" />\n",
       "  <line x1=\"154\" y1=\"41\" x2=\"234\" y2=\"41\" />\n",
       "  <line x1=\"160\" y1=\"47\" x2=\"240\" y2=\"47\" />\n",
       "  <line x1=\"165\" y1=\"52\" x2=\"245\" y2=\"52\" />\n",
       "  <line x1=\"171\" y1=\"58\" x2=\"251\" y2=\"58\" />\n",
       "  <line x1=\"177\" y1=\"64\" x2=\"257\" y2=\"64\" />\n",
       "  <line x1=\"183\" y1=\"70\" x2=\"263\" y2=\"70\" style=\"stroke-width:2\" />\n",
       "\n",
       "  <!-- Vertical lines -->\n",
       "  <line x1=\"113\" y1=\"0\" x2=\"183\" y2=\"70\" style=\"stroke-width:2\" />\n",
       "  <line x1=\"123\" y1=\"0\" x2=\"193\" y2=\"70\" />\n",
       "  <line x1=\"133\" y1=\"0\" x2=\"203\" y2=\"70\" />\n",
       "  <line x1=\"143\" y1=\"0\" x2=\"213\" y2=\"70\" />\n",
       "  <line x1=\"153\" y1=\"0\" x2=\"223\" y2=\"70\" />\n",
       "  <line x1=\"163\" y1=\"0\" x2=\"233\" y2=\"70\" />\n",
       "  <line x1=\"173\" y1=\"0\" x2=\"243\" y2=\"70\" />\n",
       "  <line x1=\"183\" y1=\"0\" x2=\"253\" y2=\"70\" />\n",
       "  <line x1=\"193\" y1=\"0\" x2=\"263\" y2=\"70\" style=\"stroke-width:2\" />\n",
       "\n",
       "  <!-- Colored Rectangle -->\n",
       "  <polygon points=\"113.0,0.0 193.0,0.0 263.5882352941177,70.58823529411765 183.58823529411765,70.58823529411765\" style=\"fill:#ECB172A0;stroke-width:0\"/>\n",
       "\n",
       "  <!-- Horizontal lines -->\n",
       "  <line x1=\"183\" y1=\"70\" x2=\"263\" y2=\"70\" style=\"stroke-width:2\" />\n",
       "  <line x1=\"183\" y1=\"80\" x2=\"263\" y2=\"80\" />\n",
       "  <line x1=\"183\" y1=\"90\" x2=\"263\" y2=\"90\" />\n",
       "  <line x1=\"183\" y1=\"100\" x2=\"263\" y2=\"100\" />\n",
       "  <line x1=\"183\" y1=\"110\" x2=\"263\" y2=\"110\" />\n",
       "  <line x1=\"183\" y1=\"120\" x2=\"263\" y2=\"120\" />\n",
       "  <line x1=\"183\" y1=\"130\" x2=\"263\" y2=\"130\" />\n",
       "  <line x1=\"183\" y1=\"140\" x2=\"263\" y2=\"140\" />\n",
       "  <line x1=\"183\" y1=\"150\" x2=\"263\" y2=\"150\" style=\"stroke-width:2\" />\n",
       "\n",
       "  <!-- Vertical lines -->\n",
       "  <line x1=\"183\" y1=\"70\" x2=\"183\" y2=\"150\" style=\"stroke-width:2\" />\n",
       "  <line x1=\"193\" y1=\"70\" x2=\"193\" y2=\"150\" />\n",
       "  <line x1=\"203\" y1=\"70\" x2=\"203\" y2=\"150\" />\n",
       "  <line x1=\"213\" y1=\"70\" x2=\"213\" y2=\"150\" />\n",
       "  <line x1=\"223\" y1=\"70\" x2=\"223\" y2=\"150\" />\n",
       "  <line x1=\"233\" y1=\"70\" x2=\"233\" y2=\"150\" />\n",
       "  <line x1=\"243\" y1=\"70\" x2=\"243\" y2=\"150\" />\n",
       "  <line x1=\"253\" y1=\"70\" x2=\"253\" y2=\"150\" />\n",
       "  <line x1=\"263\" y1=\"70\" x2=\"263\" y2=\"150\" style=\"stroke-width:2\" />\n",
       "\n",
       "  <!-- Colored Rectangle -->\n",
       "  <polygon points=\"183.58823529411765,70.58823529411765 263.5882352941177,70.58823529411765 263.5882352941177,150.58823529411765 183.58823529411765,150.58823529411765\" style=\"fill:#ECB172A0;stroke-width:0\"/>\n",
       "\n",
       "  <!-- Text -->\n",
       "  <text x=\"223.588235\" y=\"170.588235\" font-size=\"1.0rem\" font-weight=\"100\" text-anchor=\"middle\" >256</text>\n",
       "  <text x=\"283.588235\" y=\"110.588235\" font-size=\"1.0rem\" font-weight=\"100\" text-anchor=\"middle\" transform=\"rotate(-90,283.588235,110.588235)\">256</text>\n",
       "  <text x=\"138.294118\" y=\"135.294118\" font-size=\"1.0rem\" font-weight=\"100\" text-anchor=\"middle\" transform=\"rotate(45,138.294118,135.294118)\">384</text>\n",
       "</svg>\n",
       "        </td>\n",
       "    </tr>\n",
       "</table>"
      ],
      "text/plain": [
       "dask.array<array, shape=(128, 384, 256, 256), dtype=uint16, chunksize=(32, 32, 32, 32), chunktype=numpy.ndarray>"
      ]
     },
     "execution_count": 144,
     "metadata": {},
     "output_type": "execute_result"
    }
   ],
   "source": [
    "s.data"
   ]
  },
  {
   "cell_type": "code",
   "execution_count": 45,
   "id": "47acbc99-48ac-412a-b2bf-413eb56bbcd1",
   "metadata": {
    "pycharm": {
     "name": "#%%\n"
    }
   },
   "outputs": [
    {
     "data": {
      "application/vnd.jupyter.widget-view+json": {
       "model_id": "e5f49726b36f4554bce8130cb871e090",
       "version_major": 2,
       "version_minor": 0
      },
      "text/plain": [
       "HBox(children=(Accordion(children=(VBox(children=(HBox(children=(Label(value='Name'), Text(value='')), layout=…"
      ]
     },
     "metadata": {},
     "output_type": "display_data"
    }
   ],
   "source": [
    "s.axes_manager.gui()"
   ]
  },
  {
   "cell_type": "code",
   "execution_count": 145,
   "id": "0d5c12c9-df12-4e45-8ba1-281ecdd795e4",
   "metadata": {
    "pycharm": {
     "name": "#%%\n"
    }
   },
   "outputs": [
    {
     "name": "stdout",
     "output_type": "stream",
     "text": [
      "[########################################] | 100% Completed |  1.4s\n",
      "[########################################] | 100% Completed |  1.5s\n",
      "[########################################] | 100% Completed |  1.5s\n"
     ]
    }
   ],
   "source": [
    "s.plot()"
   ]
  },
  {
   "cell_type": "code",
   "execution_count": 8,
   "id": "fa64597f-7662-4e32-9f4e-c144d1004d76",
   "metadata": {
    "pycharm": {
     "name": "#%%\n"
    }
   },
   "outputs": [
    {
     "name": "stdin",
     "output_type": "stream",
     "text": [
      "Overwrite 'C:\\Users\\hedda\\OneDrive - NTNU\\Dokumenter\\EPFL\\V22 [Semester Project] 4D-STEM\\Measurements\\060522_4D-STEM\\02\\Disk.tif' (y/n)?\n",
      " y\n"
     ]
    }
   ],
   "source": [
    "s.inav[0,0].save('Disk.tif')"
   ]
  },
  {
   "cell_type": "code",
   "execution_count": 116,
   "id": "7ab3c42d-bb3a-449d-9ffd-9a5289685718",
   "metadata": {
    "pycharm": {
     "name": "#%%\n"
    }
   },
   "outputs": [],
   "source": [
    "s_ax = s_corr\n",
    "\n",
    "for i in range(4):\n",
    "    if i < 2:\n",
    "        s_ax.axes_manager[i].units = \"nm\"\n",
    "        s_ax.axes_manager[i].scale = 0.49907\n",
    "    else:\n",
    "        s_ax.axes_manager[i].units = \"mrad\"\n",
    "        s_ax.axes_manager[i].scale = 0.032484\n",
    "\n",
    "s_ax.axes_manager[0].name = \"Length\"\n",
    "s_ax.axes_manager[1].name = \"Height\"\n",
    "\n",
    "s_ax.axes_manager[2].name = \"x\"\n",
    "s_ax.axes_manager[3].name = \"y\"\n",
    "\n",
    "s_ax.axes_manager\n",
    "\n",
    "s_corr = s_ax"
   ]
  },
  {
   "cell_type": "code",
   "execution_count": 9,
   "id": "3773bffc-57e5-42bf-a7dd-ac5bc9513d92",
   "metadata": {
    "pycharm": {
     "name": "#%%\n"
    }
   },
   "outputs": [],
   "source": [
    "s_rebin = s.rebin(scale=(2, 2, 2, 2), rechunk=False)"
   ]
  },
  {
   "cell_type": "code",
   "execution_count": 10,
   "id": "6c0772b7-13e3-40fc-a904-954c756c35b9",
   "metadata": {
    "pycharm": {
     "name": "#%%\n"
    }
   },
   "outputs": [
    {
     "name": "stdout",
     "output_type": "stream",
     "text": [
      "[########################################] | 100% Completed | 18.2s\n"
     ]
    }
   ],
   "source": [
    "s_rebin.compute()"
   ]
  },
  {
   "cell_type": "code",
   "execution_count": 16,
   "id": "487411c0-7328-4d0a-a0dc-3e27c5f16306",
   "metadata": {
    "pycharm": {
     "name": "#%%\n"
    }
   },
   "outputs": [
    {
     "data": {
      "text/plain": [
       "<ElectronDiffraction2D, title: , dimensions: (192, 64|256, 256)>"
      ]
     },
     "execution_count": 16,
     "metadata": {},
     "output_type": "execute_result"
    }
   ],
   "source": [
    "s_rebin"
   ]
  },
  {
   "cell_type": "code",
   "execution_count": 9,
   "id": "799d7916-15d5-4ed6-944c-eef92f6e3d35",
   "metadata": {
    "pycharm": {
     "name": "#%%\n"
    }
   },
   "outputs": [],
   "source": [
    "s_rebin.plot()"
   ]
  },
  {
   "cell_type": "code",
   "execution_count": 96,
   "id": "fbbb31e7-6da0-4976-9083-dc923d375345",
   "metadata": {
    "tags": [],
    "pycharm": {
     "name": "#%%\n"
    }
   },
   "outputs": [],
   "source": [
    "s_rebin_T = s_rebin.T\n",
    "s_rebin_T.plot()"
   ]
  },
  {
   "cell_type": "markdown",
   "id": "b7f79eda-b18a-4af3-8c1c-1e984e82970d",
   "metadata": {
    "pycharm": {
     "name": "#%% md\n"
    }
   },
   "source": [
    "## Correcting dead and hot pixels"
   ]
  },
  {
   "cell_type": "code",
   "execution_count": 1,
   "id": "fb5d4003-d201-4748-b97f-70c85585414e",
   "metadata": {
    "pycharm": {
     "name": "#%%\n"
    }
   },
   "outputs": [
    {
     "ename": "NameError",
     "evalue": "name 's_rebin' is not defined",
     "output_type": "error",
     "traceback": [
      "\u001B[0;31m---------------------------------------------------------------------------\u001B[0m",
      "\u001B[0;31mNameError\u001B[0m                                 Traceback (most recent call last)",
      "Input \u001B[0;32mIn [1]\u001B[0m, in \u001B[0;36m<module>\u001B[0;34m\u001B[0m\n\u001B[0;32m----> 1\u001B[0m s_dead_pixels \u001B[38;5;241m=\u001B[39m \u001B[43ms_rebin\u001B[49m\u001B[38;5;241m.\u001B[39mfind_dead_pixels(dead_pixel_value\u001B[38;5;241m=\u001B[39m\u001B[38;5;241m0\u001B[39m)\n",
      "\u001B[0;31mNameError\u001B[0m: name 's_rebin' is not defined"
     ]
    }
   ],
   "source": [
    "s_dead_pixels = s_rebin.find_dead_pixels(dead_pixel_value=0)"
   ]
  },
  {
   "cell_type": "code",
   "execution_count": 122,
   "id": "e8a4d08c-13d7-497a-8f20-e63949b17558",
   "metadata": {
    "pycharm": {
     "name": "#%%\n"
    }
   },
   "outputs": [],
   "source": [
    "s_hot_pixels = s_rebin.find_hot_pixels(show_progressbar=True, threshold_multiplier = 10)"
   ]
  },
  {
   "cell_type": "code",
   "execution_count": 123,
   "id": "01017e2f-7794-4fe5-bee8-fb9a5c057993",
   "metadata": {
    "pycharm": {
     "name": "#%%\n"
    }
   },
   "outputs": [],
   "source": [
    "s_corr = s_rebin.correct_bad_pixels(s_dead_pixels+s_hot_pixels, show_progressbar=True, inplace=False, lazy_result=True)"
   ]
  },
  {
   "cell_type": "code",
   "execution_count": 118,
   "id": "5f77eb92-6af3-4ef1-a9ce-ef88c8c4ebf2",
   "metadata": {
    "pycharm": {
     "name": "#%%\n"
    }
   },
   "outputs": [],
   "source": [
    "s_corr.T.inav[105,134].plot()"
   ]
  },
  {
   "cell_type": "code",
   "execution_count": 21,
   "id": "348ce9ac-2af8-45c3-a4d1-c24b4082e2ce",
   "metadata": {
    "pycharm": {
     "name": "#%%\n"
    }
   },
   "outputs": [
    {
     "name": "stderr",
     "output_type": "stream",
     "text": [
      "\n",
      "KeyboardInterrupt\n",
      "\n"
     ]
    }
   ],
   "source": [
    "s_corr.inav"
   ]
  },
  {
   "cell_type": "markdown",
   "id": "a919c2a3-83bf-4c09-984d-9e17f2d61eef",
   "metadata": {
    "pycharm": {
     "name": "#%% md\n"
    }
   },
   "source": [
    "## Virtual filters"
   ]
  },
  {
   "cell_type": "code",
   "execution_count": 74,
   "id": "227305b3-7abb-4da6-a667-bb5735fb19d5",
   "metadata": {
    "pycharm": {
     "name": "#%%\n"
    }
   },
   "outputs": [
    {
     "data": {
      "text/html": [
       "<table>\n",
       "    <thead>\n",
       "        <tr>\n",
       "            <th>signal_type</th>\n",
       "            <th>aliases</th>\n",
       "            <th>class name</th>\n",
       "            <th>package</th>\n",
       "        </tr>\n",
       "    </thead>\n",
       "    <tbody>\n",
       "        <tr>\n",
       "            <td>correlation</td>\n",
       "            <td></td>\n",
       "            <td>Correlation2D</td>\n",
       "            <td>pyxem</td>\n",
       "        </tr>\n",
       "        <tr>\n",
       "            <td>dpc</td>\n",
       "            <td></td>\n",
       "            <td>DPCBaseSignal</td>\n",
       "            <td>pyxem</td>\n",
       "        </tr>\n",
       "        <tr>\n",
       "            <td>dpc</td>\n",
       "            <td></td>\n",
       "            <td>DPCSignal1D</td>\n",
       "            <td>pyxem</td>\n",
       "        </tr>\n",
       "        <tr>\n",
       "            <td>dpc</td>\n",
       "            <td></td>\n",
       "            <td>DPCSignal2D</td>\n",
       "            <td>pyxem</td>\n",
       "        </tr>\n",
       "        <tr>\n",
       "            <td>DielectricFunction</td>\n",
       "            <td>dielectric function</td>\n",
       "            <td>DielectricFunction</td>\n",
       "            <td>hyperspy</td>\n",
       "        </tr>\n",
       "        <tr>\n",
       "            <td>diffraction</td>\n",
       "            <td></td>\n",
       "            <td>Diffraction1D</td>\n",
       "            <td>pyxem</td>\n",
       "        </tr>\n",
       "        <tr>\n",
       "            <td>diffraction</td>\n",
       "            <td></td>\n",
       "            <td>Diffraction2D</td>\n",
       "            <td>pyxem</td>\n",
       "        </tr>\n",
       "        <tr>\n",
       "            <td>diffraction_variance</td>\n",
       "            <td></td>\n",
       "            <td>DiffractionVariance1D</td>\n",
       "            <td>pyxem</td>\n",
       "        </tr>\n",
       "        <tr>\n",
       "            <td>diffraction_variance</td>\n",
       "            <td></td>\n",
       "            <td>DiffractionVariance2D</td>\n",
       "            <td>pyxem</td>\n",
       "        </tr>\n",
       "        <tr>\n",
       "            <td>diffraction_vectors</td>\n",
       "            <td></td>\n",
       "            <td>DiffractionVectors</td>\n",
       "            <td>pyxem</td>\n",
       "        </tr>\n",
       "        <tr>\n",
       "            <td>diffraction_vectors</td>\n",
       "            <td></td>\n",
       "            <td>DiffractionVectors2D</td>\n",
       "            <td>pyxem</td>\n",
       "        </tr>\n",
       "        <tr>\n",
       "            <td>tensor_field</td>\n",
       "            <td></td>\n",
       "            <td>DisplacementGradientMap</td>\n",
       "            <td>pyxem</td>\n",
       "        </tr>\n",
       "        <tr>\n",
       "            <td>EDS_SEM</td>\n",
       "            <td></td>\n",
       "            <td>EDSSEMSpectrum</td>\n",
       "            <td>hyperspy</td>\n",
       "        </tr>\n",
       "        <tr>\n",
       "            <td>EDS_TEM</td>\n",
       "            <td></td>\n",
       "            <td>EDSTEMSpectrum</td>\n",
       "            <td>hyperspy</td>\n",
       "        </tr>\n",
       "        <tr>\n",
       "            <td>EELS</td>\n",
       "            <td>TEM EELS</td>\n",
       "            <td>EELSSpectrum</td>\n",
       "            <td>hyperspy</td>\n",
       "        </tr>\n",
       "        <tr>\n",
       "            <td>electron_diffraction</td>\n",
       "            <td></td>\n",
       "            <td>ElectronDiffraction1D</td>\n",
       "            <td>pyxem</td>\n",
       "        </tr>\n",
       "        <tr>\n",
       "            <td>electron_diffraction</td>\n",
       "            <td></td>\n",
       "            <td>ElectronDiffraction2D</td>\n",
       "            <td>pyxem</td>\n",
       "        </tr>\n",
       "        <tr>\n",
       "            <td>hologram</td>\n",
       "            <td></td>\n",
       "            <td>HologramImage</td>\n",
       "            <td>hyperspy</td>\n",
       "        </tr>\n",
       "        <tr>\n",
       "            <td>pair_distribution_function</td>\n",
       "            <td></td>\n",
       "            <td>PairDistributionFunction1D</td>\n",
       "            <td>pyxem</td>\n",
       "        </tr>\n",
       "        <tr>\n",
       "            <td>polar_diffraction</td>\n",
       "            <td></td>\n",
       "            <td>PolarDiffraction2D</td>\n",
       "            <td>pyxem</td>\n",
       "        </tr>\n",
       "        <tr>\n",
       "            <td>power</td>\n",
       "            <td></td>\n",
       "            <td>Power2D</td>\n",
       "            <td>pyxem</td>\n",
       "        </tr>\n",
       "        <tr>\n",
       "            <td>reduced_intensity</td>\n",
       "            <td></td>\n",
       "            <td>ReducedIntensity1D</td>\n",
       "            <td>pyxem</td>\n",
       "        </tr>\n",
       "        <tr>\n",
       "            <td>template_matching</td>\n",
       "            <td></td>\n",
       "            <td>TemplateMatchingResults</td>\n",
       "            <td>pyxem</td>\n",
       "        </tr>\n",
       "        <tr>\n",
       "            <td>vector_matching</td>\n",
       "            <td></td>\n",
       "            <td>VectorMatchingResults</td>\n",
       "            <td>pyxem</td>\n",
       "        </tr>\n",
       "        <tr>\n",
       "            <td>virtual_dark_field</td>\n",
       "            <td></td>\n",
       "            <td>VirtualDarkFieldImage</td>\n",
       "            <td>pyxem</td>\n",
       "        </tr>\n",
       "    </tbody>\n",
       "</table>"
      ],
      "text/plain": [
       "+----------------------------+---------------------+----------------------------+----------+\n",
       "|        signal_type         |       aliases       |         class name         | package  |\n",
       "+----------------------------+---------------------+----------------------------+----------+\n",
       "|        correlation         |                     |       Correlation2D        |  pyxem   |\n",
       "|            dpc             |                     |       DPCBaseSignal        |  pyxem   |\n",
       "|            dpc             |                     |        DPCSignal1D         |  pyxem   |\n",
       "|            dpc             |                     |        DPCSignal2D         |  pyxem   |\n",
       "|     DielectricFunction     | dielectric function |     DielectricFunction     | hyperspy |\n",
       "|        diffraction         |                     |       Diffraction1D        |  pyxem   |\n",
       "|        diffraction         |                     |       Diffraction2D        |  pyxem   |\n",
       "|    diffraction_variance    |                     |   DiffractionVariance1D    |  pyxem   |\n",
       "|    diffraction_variance    |                     |   DiffractionVariance2D    |  pyxem   |\n",
       "|    diffraction_vectors     |                     |     DiffractionVectors     |  pyxem   |\n",
       "|    diffraction_vectors     |                     |    DiffractionVectors2D    |  pyxem   |\n",
       "|        tensor_field        |                     |  DisplacementGradientMap   |  pyxem   |\n",
       "|          EDS_SEM           |                     |       EDSSEMSpectrum       | hyperspy |\n",
       "|          EDS_TEM           |                     |       EDSTEMSpectrum       | hyperspy |\n",
       "|            EELS            |       TEM EELS      |        EELSSpectrum        | hyperspy |\n",
       "|    electron_diffraction    |                     |   ElectronDiffraction1D    |  pyxem   |\n",
       "|    electron_diffraction    |                     |   ElectronDiffraction2D    |  pyxem   |\n",
       "|          hologram          |                     |       HologramImage        | hyperspy |\n",
       "| pair_distribution_function |                     | PairDistributionFunction1D |  pyxem   |\n",
       "|     polar_diffraction      |                     |     PolarDiffraction2D     |  pyxem   |\n",
       "|           power            |                     |          Power2D           |  pyxem   |\n",
       "|     reduced_intensity      |                     |     ReducedIntensity1D     |  pyxem   |\n",
       "|     template_matching      |                     |  TemplateMatchingResults   |  pyxem   |\n",
       "|      vector_matching       |                     |   VectorMatchingResults    |  pyxem   |\n",
       "|     virtual_dark_field     |                     |   VirtualDarkFieldImage    |  pyxem   |\n",
       "+----------------------------+---------------------+----------------------------+----------+"
      ]
     },
     "execution_count": 74,
     "metadata": {},
     "output_type": "execute_result"
    }
   ],
   "source": [
    "hs.print_known_signal_types()"
   ]
  },
  {
   "cell_type": "code",
   "execution_count": 132,
   "id": "46055f0e-d493-42f4-87b9-4eb8684fbcf7",
   "metadata": {
    "pycharm": {
     "name": "#%%\n"
    }
   },
   "outputs": [],
   "source": [
    "s_corr.plot()"
   ]
  },
  {
   "cell_type": "code",
   "execution_count": 66,
   "id": "9d7a5940-dc20-429a-8b16-e18ff1fdb62e",
   "metadata": {
    "pycharm": {
     "name": "#%%\n"
    }
   },
   "outputs": [],
   "source": [
    "adf_roi = hs.roi.CircleROI(cx=64, cy=64, r=35, r_inner=20)"
   ]
  },
  {
   "cell_type": "code",
   "execution_count": 84,
   "id": "309f51ce-72ef-478e-bcc6-371d1443a587",
   "metadata": {
    "pycharm": {
     "name": "#%%\n"
    }
   },
   "outputs": [
    {
     "name": "stdout",
     "output_type": "stream",
     "text": [
      "[########################################] | 100% Completed |  1min 20.6s\n"
     ]
    }
   ],
   "source": [
    "s_corr.compute()"
   ]
  },
  {
   "cell_type": "code",
   "execution_count": 85,
   "id": "a2a5156c-ce1a-4dd2-bb28-82f3474ed470",
   "metadata": {
    "pycharm": {
     "name": "#%%\n"
    }
   },
   "outputs": [
    {
     "ename": "AttributeError",
     "evalue": "'Diffraction2D' object has no attribute 'virtual_bright_field'",
     "output_type": "error",
     "traceback": [
      "\u001B[1;31m---------------------------------------------------------------------------\u001B[0m",
      "\u001B[1;31mAttributeError\u001B[0m                            Traceback (most recent call last)",
      "Input \u001B[1;32mIn [85]\u001B[0m, in \u001B[0;36m<cell line: 1>\u001B[1;34m()\u001B[0m\n\u001B[1;32m----> 1\u001B[0m s_bf \u001B[38;5;241m=\u001B[39m \u001B[43ms_corr\u001B[49m\u001B[38;5;241;43m.\u001B[39;49m\u001B[43mvirtual_bright_field\u001B[49m(\u001B[38;5;241m128\u001B[39m, \u001B[38;5;241m128\u001B[39m, \u001B[38;5;241m85\u001B[39m, show_progressbar\u001B[38;5;241m=\u001B[39m\u001B[38;5;28;01mTrue\u001B[39;00m)\n\u001B[0;32m      2\u001B[0m s_corr\u001B[38;5;241m.\u001B[39mplot(navigator\u001B[38;5;241m=\u001B[39ms_bf)\n",
      "\u001B[1;31mAttributeError\u001B[0m: 'Diffraction2D' object has no attribute 'virtual_bright_field'"
     ]
    }
   ],
   "source": [
    "s_bf = s_corr.virtual_bright_field(128, 128, 85, show_progressbar=True)\n",
    "s_corr.plot(navigator=s_bf) "
   ]
  },
  {
   "cell_type": "code",
   "execution_count": 67,
   "id": "5d2d32d7-1042-4f13-b346-f6975cfd6ecf",
   "metadata": {
    "pycharm": {
     "name": "#%%\n"
    }
   },
   "outputs": [],
   "source": [
    "s_adf = adf_roi(s_rebin, axes=(2,3))\n",
    "s_adf_sum = s_adf.nansum(axis=(2,3), rechunk=False)\n",
    "s_adf_sum = s_adf_sum.T"
   ]
  },
  {
   "cell_type": "code",
   "execution_count": 69,
   "id": "f60bead6-bafa-40ac-a05c-32a0453f1f62",
   "metadata": {
    "pycharm": {
     "name": "#%%\n"
    }
   },
   "outputs": [
    {
     "data": {
      "text/html": [
       "<table>\n",
       "    <tr>\n",
       "        <td>\n",
       "            <table>\n",
       "                <thead>\n",
       "                    <tr>\n",
       "                        <th> Title: </th>\n",
       "                        <td>  </td>\n",
       "                    </tr>\n",
       "                    <tr>\n",
       "                        <th> SignalType: </th>\n",
       "                        <td> electron_diffraction </td>\n",
       "                    </tr>\n",
       "                </thead>\n",
       "                <thead>\n",
       "                    <tr>\n",
       "                        <td>  </td>\n",
       "                        <th> Array </th>\n",
       "                        <th> Chunk </th>\n",
       "                    </tr>\n",
       "                </thead>\n",
       "                <tbody>\n",
       "                    \n",
       "                    <tr>\n",
       "                        <th> Bytes </th>\n",
       "                        <td> 6.00 GiB </td>\n",
       "                        <td> 2.00 MiB </td>\n",
       "                    </tr>\n",
       "                    \n",
       "                    <tr>\n",
       "                        <th> Shape </th>\n",
       "                        <td> (384, 128|256, 256) </td>\n",
       "                        <td> (32,32|32,32) </td>\n",
       "                    </tr>\n",
       "                    <tr>\n",
       "                        <th> Count </th>\n",
       "                        <td> 3073 Tasks </td>\n",
       "                        <td> 3072 Chunks </td>\n",
       "                    </tr>\n",
       "                    <tr>\n",
       "                    <th> Type </th>\n",
       "                    <td> uint16 </td>\n",
       "                    <td> numpy.ndarray </td>\n",
       "                    </tr>\n",
       "                </tbody>\n",
       "            </table>\n",
       "        </td>\n",
       "        <td>\n",
       "            <table>\n",
       "                <thead>\n",
       "                    <tr>\n",
       "                        <th><p style=\"text-align:left;\">Navigation Axes</p>  </th>\n",
       "                        <th> <p style=\"text-align:left;\">Signal Axes</p> </th>\n",
       "                    </tr>\n",
       "                </thead>\n",
       "                <tbody>\n",
       "                    <tr>\n",
       "                        <td> <svg width=\"170\" height=\"93\" style=\"stroke:rgb(0,0,0);stroke-width:1\" >\n",
       "\n",
       "  <!-- Horizontal lines -->\n",
       "  <line x1=\"0\" y1=\"0\" x2=\"120\" y2=\"0\" style=\"stroke-width:2\" />\n",
       "  <line x1=\"0\" y1=\"10\" x2=\"120\" y2=\"10\" />\n",
       "  <line x1=\"0\" y1=\"21\" x2=\"120\" y2=\"21\" />\n",
       "  <line x1=\"0\" y1=\"32\" x2=\"120\" y2=\"32\" />\n",
       "  <line x1=\"0\" y1=\"43\" x2=\"120\" y2=\"43\" style=\"stroke-width:2\" />\n",
       "\n",
       "  <!-- Vertical lines -->\n",
       "  <line x1=\"0\" y1=\"0\" x2=\"0\" y2=\"43\" style=\"stroke-width:2\" />\n",
       "  <line x1=\"10\" y1=\"0\" x2=\"10\" y2=\"43\" />\n",
       "  <line x1=\"20\" y1=\"0\" x2=\"20\" y2=\"43\" />\n",
       "  <line x1=\"30\" y1=\"0\" x2=\"30\" y2=\"43\" />\n",
       "  <line x1=\"40\" y1=\"0\" x2=\"40\" y2=\"43\" />\n",
       "  <line x1=\"50\" y1=\"0\" x2=\"50\" y2=\"43\" />\n",
       "  <line x1=\"60\" y1=\"0\" x2=\"60\" y2=\"43\" />\n",
       "  <line x1=\"70\" y1=\"0\" x2=\"70\" y2=\"43\" />\n",
       "  <line x1=\"80\" y1=\"0\" x2=\"80\" y2=\"43\" />\n",
       "  <line x1=\"90\" y1=\"0\" x2=\"90\" y2=\"43\" />\n",
       "  <line x1=\"100\" y1=\"0\" x2=\"100\" y2=\"43\" />\n",
       "  <line x1=\"110\" y1=\"0\" x2=\"110\" y2=\"43\" />\n",
       "  <line x1=\"120\" y1=\"0\" x2=\"120\" y2=\"43\" style=\"stroke-width:2\" />\n",
       "\n",
       "  <!-- Colored Rectangle -->\n",
       "  <polygon points=\"0.0,0.0 120.0,0.0 120.0,43.88583450710766 0.0,43.88583450710766\" style=\"fill:#ECB172A0;stroke-width:0\"/>\n",
       "\n",
       "  <!-- Text -->\n",
       "  <text x=\"60.000000\" y=\"63.885835\" font-size=\"1.0rem\" font-weight=\"100\" text-anchor=\"middle\" >384</text>\n",
       "  <text x=\"140.000000\" y=\"21.942917\" font-size=\"1.0rem\" font-weight=\"100\" text-anchor=\"middle\" transform=\"rotate(-90,140.000000,21.942917)\">128</text>\n",
       "</svg> </td>\n",
       "                        <td> <svg width=\"170\" height=\"170\" style=\"stroke:rgb(0,0,0);stroke-width:1\" >\n",
       "\n",
       "  <!-- Horizontal lines -->\n",
       "  <line x1=\"0\" y1=\"0\" x2=\"120\" y2=\"0\" style=\"stroke-width:2\" />\n",
       "  <line x1=\"0\" y1=\"15\" x2=\"120\" y2=\"15\" />\n",
       "  <line x1=\"0\" y1=\"30\" x2=\"120\" y2=\"30\" />\n",
       "  <line x1=\"0\" y1=\"45\" x2=\"120\" y2=\"45\" />\n",
       "  <line x1=\"0\" y1=\"60\" x2=\"120\" y2=\"60\" />\n",
       "  <line x1=\"0\" y1=\"75\" x2=\"120\" y2=\"75\" />\n",
       "  <line x1=\"0\" y1=\"90\" x2=\"120\" y2=\"90\" />\n",
       "  <line x1=\"0\" y1=\"105\" x2=\"120\" y2=\"105\" />\n",
       "  <line x1=\"0\" y1=\"120\" x2=\"120\" y2=\"120\" style=\"stroke-width:2\" />\n",
       "\n",
       "  <!-- Vertical lines -->\n",
       "  <line x1=\"0\" y1=\"0\" x2=\"0\" y2=\"120\" style=\"stroke-width:2\" />\n",
       "  <line x1=\"15\" y1=\"0\" x2=\"15\" y2=\"120\" />\n",
       "  <line x1=\"30\" y1=\"0\" x2=\"30\" y2=\"120\" />\n",
       "  <line x1=\"45\" y1=\"0\" x2=\"45\" y2=\"120\" />\n",
       "  <line x1=\"60\" y1=\"0\" x2=\"60\" y2=\"120\" />\n",
       "  <line x1=\"75\" y1=\"0\" x2=\"75\" y2=\"120\" />\n",
       "  <line x1=\"90\" y1=\"0\" x2=\"90\" y2=\"120\" />\n",
       "  <line x1=\"105\" y1=\"0\" x2=\"105\" y2=\"120\" />\n",
       "  <line x1=\"120\" y1=\"0\" x2=\"120\" y2=\"120\" style=\"stroke-width:2\" />\n",
       "\n",
       "  <!-- Colored Rectangle -->\n",
       "  <polygon points=\"0.0,0.0 120.0,0.0 120.0,120.0 0.0,120.0\" style=\"fill:#ECB172A0;stroke-width:0\"/>\n",
       "\n",
       "  <!-- Text -->\n",
       "  <text x=\"60.000000\" y=\"140.000000\" font-size=\"1.0rem\" font-weight=\"100\" text-anchor=\"middle\" >256</text>\n",
       "  <text x=\"140.000000\" y=\"60.000000\" font-size=\"1.0rem\" font-weight=\"100\" text-anchor=\"middle\" transform=\"rotate(-90,140.000000,60.000000)\">256</text>\n",
       "</svg> </td>\n",
       "                    </tr>\n",
       "                </tbody>\n",
       "            </table>\n",
       "        </td>\n",
       "    </tr>\n",
       "</table>"
      ],
      "text/plain": [
       "<LazyElectronDiffraction2D, title: , dimensions: (384, 128|256, 256)>"
      ]
     },
     "execution_count": 69,
     "metadata": {},
     "output_type": "execute_result"
    }
   ],
   "source": [
    "s"
   ]
  },
  {
   "cell_type": "code",
   "execution_count": 68,
   "id": "98a8867e-daf9-47d4-b067-f935f6c9ea13",
   "metadata": {
    "pycharm": {
     "name": "#%%\n"
    }
   },
   "outputs": [
    {
     "ename": "AttributeError",
     "evalue": "'ElectronDiffraction2D' object has no attribute 'compute'",
     "output_type": "error",
     "traceback": [
      "\u001B[1;31m---------------------------------------------------------------------------\u001B[0m",
      "\u001B[1;31mAttributeError\u001B[0m                            Traceback (most recent call last)",
      "Input \u001B[1;32mIn [68]\u001B[0m, in \u001B[0;36m<cell line: 1>\u001B[1;34m()\u001B[0m\n\u001B[1;32m----> 1\u001B[0m \u001B[43ms_adf_sum\u001B[49m\u001B[38;5;241;43m.\u001B[39;49m\u001B[43mcompute\u001B[49m()\n",
      "\u001B[1;31mAttributeError\u001B[0m: 'ElectronDiffraction2D' object has no attribute 'compute'"
     ]
    }
   ],
   "source": [
    "s_adf_sum.compute()"
   ]
  },
  {
   "cell_type": "code",
   "execution_count": null,
   "id": "1d08c661-2eff-4828-a955-cc4ce23ef0f4",
   "metadata": {
    "pycharm": {
     "name": "#%%\n"
    }
   },
   "outputs": [],
   "source": [
    "s_rebin.navigator = s_adf_sum"
   ]
  },
  {
   "cell_type": "code",
   "execution_count": null,
   "id": "98adc08c-377e-4fc3-b0f7-bf5dce604baa",
   "metadata": {
    "pycharm": {
     "name": "#%%\n"
    }
   },
   "outputs": [],
   "source": [
    "s_rebin.plot(norm=\"symlog\")"
   ]
  },
  {
   "cell_type": "code",
   "execution_count": 38,
   "id": "c2be7b6b-26db-4b2d-b1fc-56aff3f7c197",
   "metadata": {
    "pycharm": {
     "name": "#%%\n"
    }
   },
   "outputs": [
    {
     "data": {
      "text/html": [
       "<table>\n",
       "    <tr>\n",
       "        <td>\n",
       "            <table>\n",
       "                <thead>\n",
       "                    <tr>\n",
       "                        <th> Title: </th>\n",
       "                        <td>  </td>\n",
       "                    </tr>\n",
       "                    <tr>\n",
       "                        <th> SignalType: </th>\n",
       "                        <td> diffraction </td>\n",
       "                    </tr>\n",
       "                </thead>\n",
       "                <thead>\n",
       "                    <tr>\n",
       "                        <td>  </td>\n",
       "                        <th> Array </th>\n",
       "                        <th> Chunk </th>\n",
       "                    </tr>\n",
       "                </thead>\n",
       "                <tbody>\n",
       "                    \n",
       "                    <tr>\n",
       "                        <th> Bytes </th>\n",
       "                        <td> 1.50 GiB </td>\n",
       "                        <td> 7.75 MiB </td>\n",
       "                    </tr>\n",
       "                    \n",
       "                    <tr>\n",
       "                        <th> Shape </th>\n",
       "                        <td> (192, 64|128, 128) </td>\n",
       "                        <td> (16,16|63,63) </td>\n",
       "                    </tr>\n",
       "                    <tr>\n",
       "                        <th> Count </th>\n",
       "                        <td> 31064 Tasks </td>\n",
       "                        <td> 1728 Chunks </td>\n",
       "                    </tr>\n",
       "                    <tr>\n",
       "                    <th> Type </th>\n",
       "                    <td> float64 </td>\n",
       "                    <td> numpy.ndarray </td>\n",
       "                    </tr>\n",
       "                </tbody>\n",
       "            </table>\n",
       "        </td>\n",
       "        <td>\n",
       "            <table>\n",
       "                <thead>\n",
       "                    <tr>\n",
       "                        <th><p style=\"text-align:left;\">Navigation Axes</p>  </th>\n",
       "                        <th> <p style=\"text-align:left;\">Signal Axes</p> </th>\n",
       "                    </tr>\n",
       "                </thead>\n",
       "                <tbody>\n",
       "                    <tr>\n",
       "                        <td> <svg width=\"170\" height=\"93\" style=\"stroke:rgb(0,0,0);stroke-width:1\" >\n",
       "\n",
       "  <!-- Horizontal lines -->\n",
       "  <line x1=\"0\" y1=\"0\" x2=\"120\" y2=\"0\" style=\"stroke-width:2\" />\n",
       "  <line x1=\"0\" y1=\"10\" x2=\"120\" y2=\"10\" />\n",
       "  <line x1=\"0\" y1=\"21\" x2=\"120\" y2=\"21\" />\n",
       "  <line x1=\"0\" y1=\"32\" x2=\"120\" y2=\"32\" />\n",
       "  <line x1=\"0\" y1=\"43\" x2=\"120\" y2=\"43\" style=\"stroke-width:2\" />\n",
       "\n",
       "  <!-- Vertical lines -->\n",
       "  <line x1=\"0\" y1=\"0\" x2=\"0\" y2=\"43\" style=\"stroke-width:2\" />\n",
       "  <line x1=\"10\" y1=\"0\" x2=\"10\" y2=\"43\" />\n",
       "  <line x1=\"20\" y1=\"0\" x2=\"20\" y2=\"43\" />\n",
       "  <line x1=\"30\" y1=\"0\" x2=\"30\" y2=\"43\" />\n",
       "  <line x1=\"40\" y1=\"0\" x2=\"40\" y2=\"43\" />\n",
       "  <line x1=\"50\" y1=\"0\" x2=\"50\" y2=\"43\" />\n",
       "  <line x1=\"60\" y1=\"0\" x2=\"60\" y2=\"43\" />\n",
       "  <line x1=\"70\" y1=\"0\" x2=\"70\" y2=\"43\" />\n",
       "  <line x1=\"80\" y1=\"0\" x2=\"80\" y2=\"43\" />\n",
       "  <line x1=\"90\" y1=\"0\" x2=\"90\" y2=\"43\" />\n",
       "  <line x1=\"100\" y1=\"0\" x2=\"100\" y2=\"43\" />\n",
       "  <line x1=\"110\" y1=\"0\" x2=\"110\" y2=\"43\" />\n",
       "  <line x1=\"120\" y1=\"0\" x2=\"120\" y2=\"43\" style=\"stroke-width:2\" />\n",
       "\n",
       "  <!-- Colored Rectangle -->\n",
       "  <polygon points=\"0.0,0.0 120.0,0.0 120.0,43.88583450710766 0.0,43.88583450710766\" style=\"fill:#ECB172A0;stroke-width:0\"/>\n",
       "\n",
       "  <!-- Text -->\n",
       "  <text x=\"60.000000\" y=\"63.885835\" font-size=\"1.0rem\" font-weight=\"100\" text-anchor=\"middle\" >192</text>\n",
       "  <text x=\"140.000000\" y=\"21.942917\" font-size=\"1.0rem\" font-weight=\"100\" text-anchor=\"middle\" transform=\"rotate(0,140.000000,21.942917)\">64</text>\n",
       "</svg> </td>\n",
       "                        <td> <svg width=\"170\" height=\"170\" style=\"stroke:rgb(0,0,0);stroke-width:1\" >\n",
       "\n",
       "  <!-- Horizontal lines -->\n",
       "  <line x1=\"0\" y1=\"0\" x2=\"120\" y2=\"0\" style=\"stroke-width:2\" />\n",
       "  <line x1=\"0\" y1=\"0\" x2=\"120\" y2=\"0\" />\n",
       "  <line x1=\"0\" y1=\"60\" x2=\"120\" y2=\"60\" />\n",
       "  <line x1=\"0\" y1=\"75\" x2=\"120\" y2=\"75\" />\n",
       "  <line x1=\"0\" y1=\"75\" x2=\"120\" y2=\"75\" />\n",
       "  <line x1=\"0\" y1=\"119\" x2=\"120\" y2=\"119\" />\n",
       "  <line x1=\"0\" y1=\"120\" x2=\"120\" y2=\"120\" style=\"stroke-width:2\" />\n",
       "\n",
       "  <!-- Vertical lines -->\n",
       "  <line x1=\"0\" y1=\"0\" x2=\"0\" y2=\"120\" style=\"stroke-width:2\" />\n",
       "  <line x1=\"0\" y1=\"0\" x2=\"0\" y2=\"120\" />\n",
       "  <line x1=\"60\" y1=\"0\" x2=\"60\" y2=\"120\" />\n",
       "  <line x1=\"75\" y1=\"0\" x2=\"75\" y2=\"120\" />\n",
       "  <line x1=\"75\" y1=\"0\" x2=\"75\" y2=\"120\" />\n",
       "  <line x1=\"119\" y1=\"0\" x2=\"119\" y2=\"120\" />\n",
       "  <line x1=\"120\" y1=\"0\" x2=\"120\" y2=\"120\" style=\"stroke-width:2\" />\n",
       "\n",
       "  <!-- Colored Rectangle -->\n",
       "  <polygon points=\"0.0,0.0 120.0,0.0 120.0,120.0 0.0,120.0\" style=\"fill:#ECB172A0;stroke-width:0\"/>\n",
       "\n",
       "  <!-- Text -->\n",
       "  <text x=\"60.000000\" y=\"140.000000\" font-size=\"1.0rem\" font-weight=\"100\" text-anchor=\"middle\" >128</text>\n",
       "  <text x=\"140.000000\" y=\"60.000000\" font-size=\"1.0rem\" font-weight=\"100\" text-anchor=\"middle\" transform=\"rotate(-90,140.000000,60.000000)\">128</text>\n",
       "</svg> </td>\n",
       "                    </tr>\n",
       "                </tbody>\n",
       "            </table>\n",
       "        </td>\n",
       "    </tr>\n",
       "</table>"
      ],
      "text/plain": [
       "<LazyDiffraction2D, title: , dimensions: (192, 64|128, 128)>"
      ]
     },
     "execution_count": 38,
     "metadata": {},
     "output_type": "execute_result"
    }
   ],
   "source": [
    "s_corr"
   ]
  },
  {
   "cell_type": "code",
   "execution_count": 63,
   "id": "203b69ce-87c7-4610-a587-b24796d20a83",
   "metadata": {
    "collapsed": true,
    "jupyter": {
     "outputs_hidden": true
    },
    "tags": [],
    "pycharm": {
     "name": "#%%\n"
    }
   },
   "outputs": [
    {
     "name": "stdout",
     "output_type": "stream",
     "text": [
      "[##############################          ] | 77% Completed |  2min 21.7s\n"
     ]
    },
    {
     "ename": "OSError",
     "evalue": "Can't read data (memory allocation failed for shuffle buffer)",
     "output_type": "error",
     "traceback": [
      "\u001B[1;31m---------------------------------------------------------------------------\u001B[0m",
      "\u001B[1;31mOSError\u001B[0m                                   Traceback (most recent call last)",
      "Input \u001B[1;32mIn [63]\u001B[0m, in \u001B[0;36m<cell line: 1>\u001B[1;34m()\u001B[0m\n\u001B[1;32m----> 1\u001B[0m \u001B[43ms\u001B[49m\u001B[38;5;241;43m.\u001B[39;49m\u001B[43mcompute\u001B[49m\u001B[43m(\u001B[49m\u001B[43m)\u001B[49m\n",
      "File \u001B[1;32m~\\Anaconda3\\envs\\hspy_environment\\lib\\site-packages\\hyperspy\\_signals\\lazy.py:265\u001B[0m, in \u001B[0;36mLazySignal.compute\u001B[1;34m(self, close_file, show_progressbar, **kwargs)\u001B[0m\n\u001B[0;32m    263\u001B[0m \u001B[38;5;28;01mwith\u001B[39;00m cm():\n\u001B[0;32m    264\u001B[0m     da \u001B[38;5;241m=\u001B[39m \u001B[38;5;28mself\u001B[39m\u001B[38;5;241m.\u001B[39mdata\n\u001B[1;32m--> 265\u001B[0m     data \u001B[38;5;241m=\u001B[39m \u001B[43mda\u001B[49m\u001B[38;5;241;43m.\u001B[39;49m\u001B[43mcompute\u001B[49m\u001B[43m(\u001B[49m\u001B[43m)\u001B[49m\n\u001B[0;32m    266\u001B[0m     \u001B[38;5;28;01mif\u001B[39;00m close_file:\n\u001B[0;32m    267\u001B[0m         \u001B[38;5;28mself\u001B[39m\u001B[38;5;241m.\u001B[39mclose_file()\n",
      "File \u001B[1;32m~\\Anaconda3\\envs\\hspy_environment\\lib\\site-packages\\dask\\base.py:292\u001B[0m, in \u001B[0;36mDaskMethodsMixin.compute\u001B[1;34m(self, **kwargs)\u001B[0m\n\u001B[0;32m    268\u001B[0m \u001B[38;5;28;01mdef\u001B[39;00m \u001B[38;5;21mcompute\u001B[39m(\u001B[38;5;28mself\u001B[39m, \u001B[38;5;241m*\u001B[39m\u001B[38;5;241m*\u001B[39mkwargs):\n\u001B[0;32m    269\u001B[0m     \u001B[38;5;124;03m\"\"\"Compute this dask collection\u001B[39;00m\n\u001B[0;32m    270\u001B[0m \n\u001B[0;32m    271\u001B[0m \u001B[38;5;124;03m    This turns a lazy Dask collection into its in-memory equivalent.\u001B[39;00m\n\u001B[1;32m   (...)\u001B[0m\n\u001B[0;32m    290\u001B[0m \u001B[38;5;124;03m    dask.base.compute\u001B[39;00m\n\u001B[0;32m    291\u001B[0m \u001B[38;5;124;03m    \"\"\"\u001B[39;00m\n\u001B[1;32m--> 292\u001B[0m     (result,) \u001B[38;5;241m=\u001B[39m compute(\u001B[38;5;28mself\u001B[39m, traverse\u001B[38;5;241m=\u001B[39m\u001B[38;5;28;01mFalse\u001B[39;00m, \u001B[38;5;241m*\u001B[39m\u001B[38;5;241m*\u001B[39mkwargs)\n\u001B[0;32m    293\u001B[0m     \u001B[38;5;28;01mreturn\u001B[39;00m result\n",
      "File \u001B[1;32m~\\Anaconda3\\envs\\hspy_environment\\lib\\site-packages\\dask\\base.py:575\u001B[0m, in \u001B[0;36mcompute\u001B[1;34m(traverse, optimize_graph, scheduler, get, *args, **kwargs)\u001B[0m\n\u001B[0;32m    572\u001B[0m     keys\u001B[38;5;241m.\u001B[39mappend(x\u001B[38;5;241m.\u001B[39m__dask_keys__())\n\u001B[0;32m    573\u001B[0m     postcomputes\u001B[38;5;241m.\u001B[39mappend(x\u001B[38;5;241m.\u001B[39m__dask_postcompute__())\n\u001B[1;32m--> 575\u001B[0m results \u001B[38;5;241m=\u001B[39m schedule(dsk, keys, \u001B[38;5;241m*\u001B[39m\u001B[38;5;241m*\u001B[39mkwargs)\n\u001B[0;32m    576\u001B[0m \u001B[38;5;28;01mreturn\u001B[39;00m repack([f(r, \u001B[38;5;241m*\u001B[39ma) \u001B[38;5;28;01mfor\u001B[39;00m r, (f, a) \u001B[38;5;129;01min\u001B[39;00m \u001B[38;5;28mzip\u001B[39m(results, postcomputes)])\n",
      "File \u001B[1;32m~\\Anaconda3\\envs\\hspy_environment\\lib\\site-packages\\dask\\threaded.py:81\u001B[0m, in \u001B[0;36mget\u001B[1;34m(dsk, result, cache, num_workers, pool, **kwargs)\u001B[0m\n\u001B[0;32m     78\u001B[0m     \u001B[38;5;28;01melif\u001B[39;00m \u001B[38;5;28misinstance\u001B[39m(pool, multiprocessing\u001B[38;5;241m.\u001B[39mpool\u001B[38;5;241m.\u001B[39mPool):\n\u001B[0;32m     79\u001B[0m         pool \u001B[38;5;241m=\u001B[39m MultiprocessingPoolExecutor(pool)\n\u001B[1;32m---> 81\u001B[0m results \u001B[38;5;241m=\u001B[39m get_async(\n\u001B[0;32m     82\u001B[0m     pool\u001B[38;5;241m.\u001B[39msubmit,\n\u001B[0;32m     83\u001B[0m     pool\u001B[38;5;241m.\u001B[39m_max_workers,\n\u001B[0;32m     84\u001B[0m     dsk,\n\u001B[0;32m     85\u001B[0m     result,\n\u001B[0;32m     86\u001B[0m     cache\u001B[38;5;241m=\u001B[39mcache,\n\u001B[0;32m     87\u001B[0m     get_id\u001B[38;5;241m=\u001B[39m_thread_get_id,\n\u001B[0;32m     88\u001B[0m     pack_exception\u001B[38;5;241m=\u001B[39mpack_exception,\n\u001B[0;32m     89\u001B[0m     \u001B[38;5;241m*\u001B[39m\u001B[38;5;241m*\u001B[39mkwargs,\n\u001B[0;32m     90\u001B[0m )\n\u001B[0;32m     92\u001B[0m \u001B[38;5;66;03m# Cleanup pools associated to dead threads\u001B[39;00m\n\u001B[0;32m     93\u001B[0m \u001B[38;5;28;01mwith\u001B[39;00m pools_lock:\n",
      "File \u001B[1;32m~\\Anaconda3\\envs\\hspy_environment\\lib\\site-packages\\dask\\local.py:508\u001B[0m, in \u001B[0;36mget_async\u001B[1;34m(submit, num_workers, dsk, result, cache, get_id, rerun_exceptions_locally, pack_exception, raise_exception, callbacks, dumps, loads, chunksize, **kwargs)\u001B[0m\n\u001B[0;32m    506\u001B[0m         _execute_task(task, data)  \u001B[38;5;66;03m# Re-execute locally\u001B[39;00m\n\u001B[0;32m    507\u001B[0m     \u001B[38;5;28;01melse\u001B[39;00m:\n\u001B[1;32m--> 508\u001B[0m         \u001B[43mraise_exception\u001B[49m\u001B[43m(\u001B[49m\u001B[43mexc\u001B[49m\u001B[43m,\u001B[49m\u001B[43m \u001B[49m\u001B[43mtb\u001B[49m\u001B[43m)\u001B[49m\n\u001B[0;32m    509\u001B[0m res, worker_id \u001B[38;5;241m=\u001B[39m loads(res_info)\n\u001B[0;32m    510\u001B[0m state[\u001B[38;5;124m\"\u001B[39m\u001B[38;5;124mcache\u001B[39m\u001B[38;5;124m\"\u001B[39m][key] \u001B[38;5;241m=\u001B[39m res\n",
      "File \u001B[1;32m~\\Anaconda3\\envs\\hspy_environment\\lib\\site-packages\\dask\\local.py:316\u001B[0m, in \u001B[0;36mreraise\u001B[1;34m(exc, tb)\u001B[0m\n\u001B[0;32m    314\u001B[0m \u001B[38;5;28;01mif\u001B[39;00m exc\u001B[38;5;241m.\u001B[39m__traceback__ \u001B[38;5;129;01mis\u001B[39;00m \u001B[38;5;129;01mnot\u001B[39;00m tb:\n\u001B[0;32m    315\u001B[0m     \u001B[38;5;28;01mraise\u001B[39;00m exc\u001B[38;5;241m.\u001B[39mwith_traceback(tb)\n\u001B[1;32m--> 316\u001B[0m \u001B[38;5;28;01mraise\u001B[39;00m exc\n",
      "File \u001B[1;32m~\\Anaconda3\\envs\\hspy_environment\\lib\\site-packages\\dask\\local.py:221\u001B[0m, in \u001B[0;36mexecute_task\u001B[1;34m(key, task_info, dumps, loads, get_id, pack_exception)\u001B[0m\n\u001B[0;32m    219\u001B[0m \u001B[38;5;28;01mtry\u001B[39;00m:\n\u001B[0;32m    220\u001B[0m     task, data \u001B[38;5;241m=\u001B[39m loads(task_info)\n\u001B[1;32m--> 221\u001B[0m     result \u001B[38;5;241m=\u001B[39m \u001B[43m_execute_task\u001B[49m\u001B[43m(\u001B[49m\u001B[43mtask\u001B[49m\u001B[43m,\u001B[49m\u001B[43m \u001B[49m\u001B[43mdata\u001B[49m\u001B[43m)\u001B[49m\n\u001B[0;32m    222\u001B[0m     \u001B[38;5;28mid\u001B[39m \u001B[38;5;241m=\u001B[39m get_id()\n\u001B[0;32m    223\u001B[0m     result \u001B[38;5;241m=\u001B[39m dumps((result, \u001B[38;5;28mid\u001B[39m))\n",
      "File \u001B[1;32m~\\Anaconda3\\envs\\hspy_environment\\lib\\site-packages\\dask\\core.py:119\u001B[0m, in \u001B[0;36m_execute_task\u001B[1;34m(arg, cache, dsk)\u001B[0m\n\u001B[0;32m    115\u001B[0m     func, args \u001B[38;5;241m=\u001B[39m arg[\u001B[38;5;241m0\u001B[39m], arg[\u001B[38;5;241m1\u001B[39m:]\n\u001B[0;32m    116\u001B[0m     \u001B[38;5;66;03m# Note: Don't assign the subtask results to a variable. numpy detects\u001B[39;00m\n\u001B[0;32m    117\u001B[0m     \u001B[38;5;66;03m# temporaries by their reference count and can execute certain\u001B[39;00m\n\u001B[0;32m    118\u001B[0m     \u001B[38;5;66;03m# operations in-place.\u001B[39;00m\n\u001B[1;32m--> 119\u001B[0m     \u001B[38;5;28;01mreturn\u001B[39;00m \u001B[43mfunc\u001B[49m\u001B[43m(\u001B[49m\u001B[38;5;241;43m*\u001B[39;49m\u001B[43m(\u001B[49m\u001B[43m_execute_task\u001B[49m\u001B[43m(\u001B[49m\u001B[43ma\u001B[49m\u001B[43m,\u001B[49m\u001B[43m \u001B[49m\u001B[43mcache\u001B[49m\u001B[43m)\u001B[49m\u001B[43m \u001B[49m\u001B[38;5;28;43;01mfor\u001B[39;49;00m\u001B[43m \u001B[49m\u001B[43ma\u001B[49m\u001B[43m \u001B[49m\u001B[38;5;129;43;01min\u001B[39;49;00m\u001B[43m \u001B[49m\u001B[43margs\u001B[49m\u001B[43m)\u001B[49m\u001B[43m)\u001B[49m\n\u001B[0;32m    120\u001B[0m \u001B[38;5;28;01melif\u001B[39;00m \u001B[38;5;129;01mnot\u001B[39;00m ishashable(arg):\n\u001B[0;32m    121\u001B[0m     \u001B[38;5;28;01mreturn\u001B[39;00m arg\n",
      "File \u001B[1;32m~\\Anaconda3\\envs\\hspy_environment\\lib\\site-packages\\dask\\array\\core.py:116\u001B[0m, in \u001B[0;36mgetter\u001B[1;34m(a, b, asarray, lock)\u001B[0m\n\u001B[0;32m    114\u001B[0m     lock\u001B[38;5;241m.\u001B[39macquire()\n\u001B[0;32m    115\u001B[0m \u001B[38;5;28;01mtry\u001B[39;00m:\n\u001B[1;32m--> 116\u001B[0m     c \u001B[38;5;241m=\u001B[39m \u001B[43ma\u001B[49m\u001B[43m[\u001B[49m\u001B[43mb\u001B[49m\u001B[43m]\u001B[49m\n\u001B[0;32m    117\u001B[0m     \u001B[38;5;66;03m# Below we special-case `np.matrix` to force a conversion to\u001B[39;00m\n\u001B[0;32m    118\u001B[0m     \u001B[38;5;66;03m# `np.ndarray` and preserve original Dask behavior for `getter`,\u001B[39;00m\n\u001B[0;32m    119\u001B[0m     \u001B[38;5;66;03m# as for all purposes `np.matrix` is array-like and thus\u001B[39;00m\n\u001B[0;32m    120\u001B[0m     \u001B[38;5;66;03m# `is_arraylike` evaluates to `True` in that case.\u001B[39;00m\n\u001B[0;32m    121\u001B[0m     \u001B[38;5;28;01mif\u001B[39;00m asarray \u001B[38;5;129;01mand\u001B[39;00m (\u001B[38;5;129;01mnot\u001B[39;00m is_arraylike(c) \u001B[38;5;129;01mor\u001B[39;00m \u001B[38;5;28misinstance\u001B[39m(c, np\u001B[38;5;241m.\u001B[39mmatrix)):\n",
      "File \u001B[1;32mh5py\\_objects.pyx:54\u001B[0m, in \u001B[0;36mh5py._objects.with_phil.wrapper\u001B[1;34m()\u001B[0m\n",
      "File \u001B[1;32mh5py\\_objects.pyx:55\u001B[0m, in \u001B[0;36mh5py._objects.with_phil.wrapper\u001B[1;34m()\u001B[0m\n",
      "File \u001B[1;32m~\\Anaconda3\\envs\\hspy_environment\\lib\\site-packages\\h5py\\_hl\\dataset.py:710\u001B[0m, in \u001B[0;36mDataset.__getitem__\u001B[1;34m(self, args, new_dtype)\u001B[0m\n\u001B[0;32m    708\u001B[0m \u001B[38;5;28;01mif\u001B[39;00m \u001B[38;5;28mself\u001B[39m\u001B[38;5;241m.\u001B[39m_fast_read_ok \u001B[38;5;129;01mand\u001B[39;00m (new_dtype \u001B[38;5;129;01mis\u001B[39;00m \u001B[38;5;28;01mNone\u001B[39;00m):\n\u001B[0;32m    709\u001B[0m     \u001B[38;5;28;01mtry\u001B[39;00m:\n\u001B[1;32m--> 710\u001B[0m         \u001B[38;5;28;01mreturn\u001B[39;00m \u001B[38;5;28;43mself\u001B[39;49m\u001B[38;5;241;43m.\u001B[39;49m\u001B[43m_fast_reader\u001B[49m\u001B[38;5;241;43m.\u001B[39;49m\u001B[43mread\u001B[49m\u001B[43m(\u001B[49m\u001B[43margs\u001B[49m\u001B[43m)\u001B[49m\n\u001B[0;32m    711\u001B[0m     \u001B[38;5;28;01mexcept\u001B[39;00m \u001B[38;5;167;01mTypeError\u001B[39;00m:\n\u001B[0;32m    712\u001B[0m         \u001B[38;5;28;01mpass\u001B[39;00m  \u001B[38;5;66;03m# Fall back to Python read pathway below\u001B[39;00m\n",
      "File \u001B[1;32mh5py\\_selector.pyx:366\u001B[0m, in \u001B[0;36mh5py._selector.Reader.read\u001B[1;34m()\u001B[0m\n",
      "\u001B[1;31mOSError\u001B[0m: Can't read data (memory allocation failed for shuffle buffer)"
     ]
    }
   ],
   "source": [
    "s.compute()"
   ]
  },
  {
   "cell_type": "code",
   "execution_count": 62,
   "id": "6bc117dc-f9c8-4a6a-ab4e-5f864ee1d300",
   "metadata": {
    "pycharm": {
     "name": "#%%\n"
    }
   },
   "outputs": [
    {
     "ename": "AttributeError",
     "evalue": "'LazyElectronDiffraction2D' object has no attribute 'virtual_bright_field'",
     "output_type": "error",
     "traceback": [
      "\u001B[1;31m---------------------------------------------------------------------------\u001B[0m",
      "\u001B[1;31mAttributeError\u001B[0m                            Traceback (most recent call last)",
      "Input \u001B[1;32mIn [62]\u001B[0m, in \u001B[0;36m<cell line: 1>\u001B[1;34m()\u001B[0m\n\u001B[1;32m----> 1\u001B[0m s_bf \u001B[38;5;241m=\u001B[39m \u001B[43ms\u001B[49m\u001B[38;5;241;43m.\u001B[39;49m\u001B[43mvirtual_bright_field\u001B[49m(\u001B[38;5;241m128\u001B[39m, \u001B[38;5;241m128\u001B[39m, \u001B[38;5;241m85\u001B[39m, show_progressbar\u001B[38;5;241m=\u001B[39m\u001B[38;5;28;01mTrue\u001B[39;00m)\n\u001B[0;32m      2\u001B[0m s\u001B[38;5;241m.\u001B[39mplot(navigator\u001B[38;5;241m=\u001B[39ms_bf)\n",
      "\u001B[1;31mAttributeError\u001B[0m: 'LazyElectronDiffraction2D' object has no attribute 'virtual_bright_field'"
     ]
    }
   ],
   "source": [
    "s_bf = s.virtual_bright_field(128, 128, 85, show_progressbar=True)\n",
    "s.plot(navigator=s_bf)"
   ]
  },
  {
   "cell_type": "code",
   "execution_count": 110,
   "id": "abb7c498-0774-489e-87f4-936df44ccd8d",
   "metadata": {
    "pycharm": {
     "name": "#%%\n"
    }
   },
   "outputs": [
    {
     "name": "stderr",
     "output_type": "stream",
     "text": [
      "C:\\Users\\hedda\\Anaconda3\\envs\\hspy_environment\\lib\\site-packages\\pyxem\\signals\\diffraction2d.py:1502: FutureWarning: This method is depreacted and will be removed in the next version\n",
      "  warnings.warn(\"This method is depreacted and will be removed in the next version\",FutureWarning)\n"
     ]
    },
    {
     "name": "stdout",
     "output_type": "stream",
     "text": [
      "[######                                  ] | 17% Completed |  0.1s"
     ]
    },
    {
     "name": "stderr",
     "output_type": "stream",
     "text": [
      "C:\\Users\\hedda\\Anaconda3\\envs\\hspy_environment\\lib\\site-packages\\hyperspy\\_signals\\lazy.py:251: VisibleDeprecationWarning: The `progressbar` keyword is deprecated and will be removed in HyperSpy 2.0. Use `show_progressbar` instead.\n",
      "  warnings.warn(\n"
     ]
    },
    {
     "name": "stdout",
     "output_type": "stream",
     "text": [
      "[########################################] | 100% Completed |  1.6s\n"
     ]
    }
   ],
   "source": [
    "s_bf = s_corr.lazy_virtual_bright_field(128, 128, 85, show_progressbar=True)\n",
    "s_corr.plot(navigator=s_bf)"
   ]
  },
  {
   "cell_type": "code",
   "execution_count": 113,
   "id": "07701be4-f7e4-47e7-a87b-92b6aeaf9658",
   "metadata": {
    "pycharm": {
     "name": "#%%\n"
    }
   },
   "outputs": [
    {
     "ename": "AttributeError",
     "evalue": "'NoneType' object has no attribute 'T'",
     "output_type": "error",
     "traceback": [
      "\u001B[1;31m---------------------------------------------------------------------------\u001B[0m",
      "\u001B[1;31mAttributeError\u001B[0m                            Traceback (most recent call last)",
      "Input \u001B[1;32mIn [113]\u001B[0m, in \u001B[0;36m<cell line: 1>\u001B[1;34m()\u001B[0m\n\u001B[1;32m----> 1\u001B[0m \u001B[43ms_corr\u001B[49m\u001B[38;5;241;43m.\u001B[39;49m\u001B[43mplot\u001B[49m\u001B[43m(\u001B[49m\u001B[43mnavigator\u001B[49m\u001B[38;5;241;43m=\u001B[39;49m\u001B[43ms_bf\u001B[49m\u001B[43m)\u001B[49m\u001B[38;5;241;43m.\u001B[39;49m\u001B[43mT\u001B[49m\n",
      "\u001B[1;31mAttributeError\u001B[0m: 'NoneType' object has no attribute 'T'"
     ]
    }
   ],
   "source": [
    "s_corr.plot(navigator=s_bf)"
   ]
  },
  {
   "cell_type": "markdown",
   "id": "5daa8b2f-44cf-4a02-b9c4-75d1d666a8fc",
   "metadata": {
    "pycharm": {
     "name": "#%% md\n"
    }
   },
   "source": [
    "## Sobel filter"
   ]
  },
  {
   "cell_type": "code",
   "execution_count": 162,
   "id": "adc1d99f-6843-4af6-a9f9-83b4a62aedb2",
   "metadata": {
    "pycharm": {
     "name": "#%%\n"
    }
   },
   "outputs": [
    {
     "name": "stdout",
     "output_type": "stream",
     "text": [
      "[########################################] | 100% Completed |  1.8s\n"
     ]
    }
   ],
   "source": [
    "s_sobel = s.map(ndimage.sobel,mode='nearest')"
   ]
  },
  {
   "cell_type": "markdown",
   "id": "bcaea8ff-b268-4399-9524-525b38a62374",
   "metadata": {
    "pycharm": {
     "name": "#%% md\n"
    }
   },
   "source": [
    "## Apply canny filter"
   ]
  },
  {
   "cell_type": "code",
   "execution_count": 124,
   "id": "17f9826d-ba9b-4b79-9c1a-2b540654f858",
   "metadata": {
    "pycharm": {
     "name": "#%%\n"
    }
   },
   "outputs": [
    {
     "name": "stdout",
     "output_type": "stream",
     "text": [
      "[########################################] | 100% Completed |  1.6s\n"
     ]
    }
   ],
   "source": [
    "s_out = s_corr.map(feature.canny, high_threshold = 250, low_threshold=10, sigma = 10, show_progressbar = True, inplace = False, lazy_output=True)"
   ]
  },
  {
   "cell_type": "markdown",
   "id": "65eca61f-6e99-405c-a049-9f0669e0c383",
   "metadata": {
    "pycharm": {
     "name": "#%% md\n"
    }
   },
   "source": [
    "## Center of mass"
   ]
  },
  {
   "cell_type": "code",
   "execution_count": 126,
   "id": "70aa9ccb-c1a7-4a39-82a6-04addce824d0",
   "metadata": {
    "pycharm": {
     "name": "#%%\n"
    }
   },
   "outputs": [
    {
     "name": "stdout",
     "output_type": "stream",
     "text": [
      "[########################################] | 100% Completed |  5min 10.1s\n",
      "[########################################] | 100% Completed |  5min 10.1s\n",
      "[########################################] | 100% Completed |  3.6s\n",
      "[########################################] | 100% Completed |  3.5s\n",
      "[########################################] | 100% Completed |  3.3s\n"
     ]
    }
   ],
   "source": [
    "s_out.plot()"
   ]
  },
  {
   "cell_type": "code",
   "execution_count": 138,
   "id": "85f03ffa-1eef-4078-aa7e-1001f18d1b57",
   "metadata": {
    "pycharm": {
     "name": "#%%\n"
    }
   },
   "outputs": [
    {
     "name": "stdout",
     "output_type": "stream",
     "text": [
      "[########################################] | 100% Completed |  3.5s\n"
     ]
    }
   ],
   "source": [
    "s_out.plot()"
   ]
  },
  {
   "cell_type": "code",
   "execution_count": 125,
   "id": "30db7384-8690-49a4-9ebd-ccf263285561",
   "metadata": {
    "pycharm": {
     "name": "#%%\n"
    }
   },
   "outputs": [
    {
     "name": "stdout",
     "output_type": "stream",
     "text": [
      "[#######################                 ] | 57% Completed |  2min 42.2s"
     ]
    },
    {
     "name": "stderr",
     "output_type": "stream",
     "text": [
      "C:\\Users\\hedda\\Anaconda3\\envs\\hspy_environment\\lib\\site-packages\\dask\\array\\core.py:4743: RuntimeWarning: invalid value encountered in true_divide\n",
      "  result = function(*args, **kwargs)\n"
     ]
    },
    {
     "name": "stdout",
     "output_type": "stream",
     "text": [
      "[########################################] | 100% Completed |  4min 40.1s\n",
      "[########################################] | 100% Completed |  4min 40.1s\n"
     ]
    }
   ],
   "source": [
    "s_com = s_out.center_of_mass()\n",
    "s_com.plot()"
   ]
  },
  {
   "cell_type": "code",
   "execution_count": 223,
   "id": "a5cd705d-df0c-41bd-9f41-b928d9e44fa2",
   "metadata": {
    "pycharm": {
     "name": "#%%\n"
    }
   },
   "outputs": [],
   "source": [
    "s_com.T.plot(cmap='viridis')"
   ]
  },
  {
   "cell_type": "code",
   "execution_count": 97,
   "id": "ab9104ce-1110-493e-8aa6-e2e321ec3c5a",
   "metadata": {
    "pycharm": {
     "name": "#%%\n"
    }
   },
   "outputs": [],
   "source": [
    "s_com.navigator"
   ]
  },
  {
   "cell_type": "code",
   "execution_count": 102,
   "id": "d1001638-bbdb-411d-9495-cad2c2f3e37f",
   "metadata": {
    "pycharm": {
     "name": "#%%\n"
    }
   },
   "outputs": [
    {
     "name": "stdout",
     "output_type": "stream",
     "text": [
      "[########################################] | 100% Completed |  2.5s\n"
     ]
    }
   ],
   "source": [
    "s.isig[:].sum(-1).plot()"
   ]
  },
  {
   "cell_type": "code",
   "execution_count": 104,
   "id": "0b14f755-368b-4447-89dc-0121fce8d421",
   "metadata": {
    "pycharm": {
     "name": "#%%\n"
    }
   },
   "outputs": [
    {
     "name": "stderr",
     "output_type": "stream",
     "text": [
      "C:\\Users\\hedda\\Anaconda3\\envs\\hspy_environment\\lib\\site-packages\\pyxem\\signals\\diffraction2d.py:1546: FutureWarning: This method is depreacted and will be removed in the next version\n",
      "  warnings.warn(\"This method is depreacted and will be removed in the next version\",FutureWarning)\n",
      "C:\\Users\\hedda\\Anaconda3\\envs\\hspy_environment\\lib\\site-packages\\hyperspy\\_signals\\lazy.py:251: VisibleDeprecationWarning: The `progressbar` keyword is deprecated and will be removed in HyperSpy 2.0. Use `show_progressbar` instead.\n",
      "  warnings.warn(\n"
     ]
    },
    {
     "name": "stdout",
     "output_type": "stream",
     "text": [
      "[########################################] | 100% Completed | 13.8s\n"
     ]
    }
   ],
   "source": [
    "s_abf = s.lazy_virtual_annular_dark_field(128, 128, 40, 80, show_progressbar=True)\n",
    "s.plot(navigator=s_abf)"
   ]
  },
  {
   "cell_type": "code",
   "execution_count": 111,
   "id": "ebf57d15-bf13-4fdf-a45d-ac2d1d734dd6",
   "metadata": {
    "pycharm": {
     "name": "#%%\n"
    }
   },
   "outputs": [
    {
     "ename": "AttributeError",
     "evalue": "'NoneType' object has no attribute 'sum'",
     "output_type": "error",
     "traceback": [
      "\u001B[1;31m---------------------------------------------------------------------------\u001B[0m",
      "\u001B[1;31mAttributeError\u001B[0m                            Traceback (most recent call last)",
      "Input \u001B[1;32mIn [111]\u001B[0m, in \u001B[0;36m<cell line: 1>\u001B[1;34m()\u001B[0m\n\u001B[1;32m----> 1\u001B[0m \u001B[43ms\u001B[49m\u001B[38;5;241;43m.\u001B[39;49m\u001B[43mplot\u001B[49m\u001B[43m(\u001B[49m\u001B[43mnavigator\u001B[49m\u001B[38;5;241;43m=\u001B[39;49m\u001B[43ms_abf\u001B[49m\u001B[43m)\u001B[49m\u001B[38;5;241;43m.\u001B[39;49m\u001B[43msum\u001B[49m(\u001B[38;5;241m-\u001B[39m\u001B[38;5;241m1\u001B[39m)\n",
      "\u001B[1;31mAttributeError\u001B[0m: 'NoneType' object has no attribute 'sum'"
     ]
    }
   ],
   "source": [
    "s.plot(navigator=s_abf)"
   ]
  },
  {
   "cell_type": "code",
   "execution_count": 123,
   "id": "f37e1219-3a7f-4cb1-98f2-1f32621544d3",
   "metadata": {
    "pycharm": {
     "name": "#%%\n"
    }
   },
   "outputs": [
    {
     "data": {
      "text/html": [
       "<table>\n",
       "    <tr>\n",
       "        <td>\n",
       "            <table>\n",
       "                <thead>\n",
       "                    <tr>\n",
       "                        <th> Title: </th>\n",
       "                        <td>  </td>\n",
       "                    </tr>\n",
       "                    <tr>\n",
       "                        <th> SignalType: </th>\n",
       "                        <td> electron_diffraction </td>\n",
       "                    </tr>\n",
       "                </thead>\n",
       "                <thead>\n",
       "                    <tr>\n",
       "                        <td>  </td>\n",
       "                        <th> Array </th>\n",
       "                        <th> Chunk </th>\n",
       "                    </tr>\n",
       "                </thead>\n",
       "                <tbody>\n",
       "                    \n",
       "                    <tr>\n",
       "                        <th> Bytes </th>\n",
       "                        <td> 6.00 GiB </td>\n",
       "                        <td> 2.00 MiB </td>\n",
       "                    </tr>\n",
       "                    \n",
       "                    <tr>\n",
       "                        <th> Shape </th>\n",
       "                        <td> (384, 128|256, 256) </td>\n",
       "                        <td> (32,32|32,32) </td>\n",
       "                    </tr>\n",
       "                    <tr>\n",
       "                        <th> Count </th>\n",
       "                        <td> 3073 Tasks </td>\n",
       "                        <td> 3072 Chunks </td>\n",
       "                    </tr>\n",
       "                    <tr>\n",
       "                    <th> Type </th>\n",
       "                    <td> uint16 </td>\n",
       "                    <td> numpy.ndarray </td>\n",
       "                    </tr>\n",
       "                </tbody>\n",
       "            </table>\n",
       "        </td>\n",
       "        <td>\n",
       "            <table>\n",
       "                <thead>\n",
       "                    <tr>\n",
       "                        <th><p style=\"text-align:left;\">Navigation Axes</p>  </th>\n",
       "                        <th> <p style=\"text-align:left;\">Signal Axes</p> </th>\n",
       "                    </tr>\n",
       "                </thead>\n",
       "                <tbody>\n",
       "                    <tr>\n",
       "                        <td> <svg width=\"170\" height=\"93\" style=\"stroke:rgb(0,0,0);stroke-width:1\" >\n",
       "\n",
       "  <!-- Horizontal lines -->\n",
       "  <line x1=\"0\" y1=\"0\" x2=\"120\" y2=\"0\" style=\"stroke-width:2\" />\n",
       "  <line x1=\"0\" y1=\"10\" x2=\"120\" y2=\"10\" />\n",
       "  <line x1=\"0\" y1=\"21\" x2=\"120\" y2=\"21\" />\n",
       "  <line x1=\"0\" y1=\"32\" x2=\"120\" y2=\"32\" />\n",
       "  <line x1=\"0\" y1=\"43\" x2=\"120\" y2=\"43\" style=\"stroke-width:2\" />\n",
       "\n",
       "  <!-- Vertical lines -->\n",
       "  <line x1=\"0\" y1=\"0\" x2=\"0\" y2=\"43\" style=\"stroke-width:2\" />\n",
       "  <line x1=\"10\" y1=\"0\" x2=\"10\" y2=\"43\" />\n",
       "  <line x1=\"20\" y1=\"0\" x2=\"20\" y2=\"43\" />\n",
       "  <line x1=\"30\" y1=\"0\" x2=\"30\" y2=\"43\" />\n",
       "  <line x1=\"40\" y1=\"0\" x2=\"40\" y2=\"43\" />\n",
       "  <line x1=\"50\" y1=\"0\" x2=\"50\" y2=\"43\" />\n",
       "  <line x1=\"60\" y1=\"0\" x2=\"60\" y2=\"43\" />\n",
       "  <line x1=\"70\" y1=\"0\" x2=\"70\" y2=\"43\" />\n",
       "  <line x1=\"80\" y1=\"0\" x2=\"80\" y2=\"43\" />\n",
       "  <line x1=\"90\" y1=\"0\" x2=\"90\" y2=\"43\" />\n",
       "  <line x1=\"100\" y1=\"0\" x2=\"100\" y2=\"43\" />\n",
       "  <line x1=\"110\" y1=\"0\" x2=\"110\" y2=\"43\" />\n",
       "  <line x1=\"120\" y1=\"0\" x2=\"120\" y2=\"43\" style=\"stroke-width:2\" />\n",
       "\n",
       "  <!-- Colored Rectangle -->\n",
       "  <polygon points=\"0.0,0.0 120.0,0.0 120.0,43.88583450710766 0.0,43.88583450710766\" style=\"fill:#ECB172A0;stroke-width:0\"/>\n",
       "\n",
       "  <!-- Text -->\n",
       "  <text x=\"60.000000\" y=\"63.885835\" font-size=\"1.0rem\" font-weight=\"100\" text-anchor=\"middle\" >384</text>\n",
       "  <text x=\"140.000000\" y=\"21.942917\" font-size=\"1.0rem\" font-weight=\"100\" text-anchor=\"middle\" transform=\"rotate(-90,140.000000,21.942917)\">128</text>\n",
       "</svg> </td>\n",
       "                        <td> <svg width=\"170\" height=\"170\" style=\"stroke:rgb(0,0,0);stroke-width:1\" >\n",
       "\n",
       "  <!-- Horizontal lines -->\n",
       "  <line x1=\"0\" y1=\"0\" x2=\"120\" y2=\"0\" style=\"stroke-width:2\" />\n",
       "  <line x1=\"0\" y1=\"15\" x2=\"120\" y2=\"15\" />\n",
       "  <line x1=\"0\" y1=\"30\" x2=\"120\" y2=\"30\" />\n",
       "  <line x1=\"0\" y1=\"45\" x2=\"120\" y2=\"45\" />\n",
       "  <line x1=\"0\" y1=\"60\" x2=\"120\" y2=\"60\" />\n",
       "  <line x1=\"0\" y1=\"75\" x2=\"120\" y2=\"75\" />\n",
       "  <line x1=\"0\" y1=\"90\" x2=\"120\" y2=\"90\" />\n",
       "  <line x1=\"0\" y1=\"105\" x2=\"120\" y2=\"105\" />\n",
       "  <line x1=\"0\" y1=\"120\" x2=\"120\" y2=\"120\" style=\"stroke-width:2\" />\n",
       "\n",
       "  <!-- Vertical lines -->\n",
       "  <line x1=\"0\" y1=\"0\" x2=\"0\" y2=\"120\" style=\"stroke-width:2\" />\n",
       "  <line x1=\"15\" y1=\"0\" x2=\"15\" y2=\"120\" />\n",
       "  <line x1=\"30\" y1=\"0\" x2=\"30\" y2=\"120\" />\n",
       "  <line x1=\"45\" y1=\"0\" x2=\"45\" y2=\"120\" />\n",
       "  <line x1=\"60\" y1=\"0\" x2=\"60\" y2=\"120\" />\n",
       "  <line x1=\"75\" y1=\"0\" x2=\"75\" y2=\"120\" />\n",
       "  <line x1=\"90\" y1=\"0\" x2=\"90\" y2=\"120\" />\n",
       "  <line x1=\"105\" y1=\"0\" x2=\"105\" y2=\"120\" />\n",
       "  <line x1=\"120\" y1=\"0\" x2=\"120\" y2=\"120\" style=\"stroke-width:2\" />\n",
       "\n",
       "  <!-- Colored Rectangle -->\n",
       "  <polygon points=\"0.0,0.0 120.0,0.0 120.0,120.0 0.0,120.0\" style=\"fill:#ECB172A0;stroke-width:0\"/>\n",
       "\n",
       "  <!-- Text -->\n",
       "  <text x=\"60.000000\" y=\"140.000000\" font-size=\"1.0rem\" font-weight=\"100\" text-anchor=\"middle\" >256</text>\n",
       "  <text x=\"140.000000\" y=\"60.000000\" font-size=\"1.0rem\" font-weight=\"100\" text-anchor=\"middle\" transform=\"rotate(-90,140.000000,60.000000)\">256</text>\n",
       "</svg> </td>\n",
       "                    </tr>\n",
       "                </tbody>\n",
       "            </table>\n",
       "        </td>\n",
       "    </tr>\n",
       "</table>"
      ],
      "text/plain": [
       "<LazyElectronDiffraction2D, title: , dimensions: (384, 128|256, 256)>"
      ]
     },
     "execution_count": 123,
     "metadata": {},
     "output_type": "execute_result"
    }
   ],
   "source": [
    "s"
   ]
  },
  {
   "cell_type": "code",
   "execution_count": 107,
   "id": "dab37d43-4022-483b-a9be-c98c253b4ad3",
   "metadata": {
    "pycharm": {
     "name": "#%%\n"
    }
   },
   "outputs": [],
   "source": [
    "s_rebin.plot()"
   ]
  },
  {
   "cell_type": "code",
   "execution_count": 126,
   "id": "33f51190-878a-422d-957f-1303d07410d3",
   "metadata": {
    "pycharm": {
     "name": "#%%\n"
    }
   },
   "outputs": [],
   "source": [
    "s.navigator.plot()"
   ]
  },
  {
   "cell_type": "code",
   "execution_count": 147,
   "id": "62828258-164c-4d84-aa13-a7b277768bd1",
   "metadata": {
    "pycharm": {
     "name": "#%%\n"
    }
   },
   "outputs": [],
   "source": [
    "adf_roi = hs.roi.CircleROI(cx=128, cy=128, r=50, r_inner=0)"
   ]
  },
  {
   "cell_type": "code",
   "execution_count": 151,
   "id": "c7b80bb6-ba47-47e8-b63b-2c9d11eb89e5",
   "metadata": {
    "pycharm": {
     "name": "#%%\n"
    }
   },
   "outputs": [
    {
     "ename": "AttributeError",
     "evalue": "'CircleROI' object has no attribute 'plot'",
     "output_type": "error",
     "traceback": [
      "\u001B[1;31m---------------------------------------------------------------------------\u001B[0m",
      "\u001B[1;31mAttributeError\u001B[0m                            Traceback (most recent call last)",
      "Input \u001B[1;32mIn [151]\u001B[0m, in \u001B[0;36m<cell line: 1>\u001B[1;34m()\u001B[0m\n\u001B[1;32m----> 1\u001B[0m \u001B[43madf_roi\u001B[49m\u001B[38;5;241;43m.\u001B[39;49m\u001B[43mplot\u001B[49m()\n",
      "\u001B[1;31mAttributeError\u001B[0m: 'CircleROI' object has no attribute 'plot'"
     ]
    }
   ],
   "source": [
    "adf_roi"
   ]
  },
  {
   "cell_type": "code",
   "execution_count": 179,
   "id": "22e932cd-3d06-48c1-88f6-168c685ba65c",
   "metadata": {
    "pycharm": {
     "name": "#%%\n"
    }
   },
   "outputs": [],
   "source": [
    "s_adf = adf_roi(s, axes=(2, 3))\n",
    "s_adf_sum = s_adf.nansum(axis=(2, 3), rechunk=False)\n",
    "s_adf_sum = s_adf_sum.T"
   ]
  },
  {
   "cell_type": "code",
   "execution_count": 180,
   "id": "ccf0eea8-eb29-45dd-8155-26f6091f936c",
   "metadata": {
    "pycharm": {
     "name": "#%%\n"
    }
   },
   "outputs": [
    {
     "name": "stdout",
     "output_type": "stream",
     "text": [
      "[########################################] | 100% Completed | 10.5s\n"
     ]
    }
   ],
   "source": [
    "s_adf_sum.compute()"
   ]
  },
  {
   "cell_type": "code",
   "execution_count": 187,
   "id": "e5a866e6-5e4d-42a3-ac25-89dbba3f8fc2",
   "metadata": {
    "pycharm": {
     "name": "#%%\n"
    }
   },
   "outputs": [],
   "source": [
    "s.signal = s_adf_sum"
   ]
  },
  {
   "cell_type": "code",
   "execution_count": 188,
   "id": "1c05aad0-e8b1-4a4f-926a-fcc5d067d865",
   "metadata": {
    "pycharm": {
     "name": "#%%\n"
    }
   },
   "outputs": [],
   "source": [
    "s.plot(norm=\"symlog\")"
   ]
  },
  {
   "cell_type": "code",
   "execution_count": 189,
   "id": "045d5a24-1d8b-4e04-a12d-d97fcc3c6760",
   "metadata": {
    "pycharm": {
     "name": "#%%\n"
    }
   },
   "outputs": [],
   "source": [
    "s_adf_sum.plot()"
   ]
  },
  {
   "cell_type": "code",
   "execution_count": 192,
   "id": "a9c042ef-22c0-40ed-be15-c8fdf6caaf7c",
   "metadata": {
    "pycharm": {
     "name": "#%%\n"
    }
   },
   "outputs": [],
   "source": [
    "image_ROI = adf_roi.interactive(s_adf_sum)"
   ]
  },
  {
   "cell_type": "code",
   "execution_count": 153,
   "id": "f1e69a56-b227-48ac-80fe-6728e59e464e",
   "metadata": {
    "pycharm": {
     "name": "#%%\n"
    }
   },
   "outputs": [],
   "source": [
    "# Create an interactive ROI, show it on the previous adf image\n",
    "# Calculate the PACBED pattern from the ROI, plot \n",
    "\n",
    "s_bf_ROI=hs.roi.RectangularROI(left=0.5, right=1.0, top=0.5, bottom=1.0)\n",
    "image_ROI=s_bf_ROI.interactive(s_bf)"
   ]
  },
  {
   "cell_type": "code",
   "execution_count": 194,
   "id": "15990bf7-a2d5-47e4-b938-64aa732d444f",
   "metadata": {
    "pycharm": {
     "name": "#%%\n"
    }
   },
   "outputs": [],
   "source": [
    "adf_roi(s_adf_sum).plot()"
   ]
  },
  {
   "cell_type": "markdown",
   "id": "65ef6a53-a76e-47cb-89cd-6d502e71d954",
   "metadata": {
    "pycharm": {
     "name": "#%% md\n"
    }
   },
   "source": [
    "### ROI"
   ]
  },
  {
   "cell_type": "code",
   "execution_count": 195,
   "id": "70c50b3c-33ea-43d2-b330-08741792dc91",
   "metadata": {
    "pycharm": {
     "name": "#%%\n"
    }
   },
   "outputs": [
    {
     "name": "stdout",
     "output_type": "stream",
     "text": [
      "[########################################] | 100% Completed | 11.1s\n"
     ]
    }
   ],
   "source": [
    "s.sum().compute()"
   ]
  },
  {
   "cell_type": "code",
   "execution_count": 41,
   "id": "0f51496d-401a-4a51-95e2-36be36851ee5",
   "metadata": {
    "pycharm": {
     "name": "#%%\n"
    }
   },
   "outputs": [],
   "source": [
    "s.plot()"
   ]
  },
  {
   "cell_type": "code",
   "execution_count": 42,
   "id": "c59dd9c7-86b1-431e-84ac-e9d90f8bd205",
   "metadata": {
    "pycharm": {
     "name": "#%%\n"
    }
   },
   "outputs": [],
   "source": [
    "roi = hs.roi.CircleROI(cx=8.3/2, cy=8.3/2, r=2.0, r_inner=0)"
   ]
  },
  {
   "cell_type": "code",
   "execution_count": 12,
   "id": "350a427b-f3f2-4948-973d-8febbe4a6097",
   "metadata": {
    "pycharm": {
     "name": "#%%\n"
    }
   },
   "outputs": [],
   "source": [
    "s_roi = roi(s_corr)"
   ]
  },
  {
   "cell_type": "code",
   "execution_count": 13,
   "id": "786a6b5b-9b9e-4e8f-aa51-be26a7f34b4a",
   "metadata": {
    "pycharm": {
     "name": "#%%\n"
    }
   },
   "outputs": [
    {
     "name": "stdout",
     "output_type": "stream",
     "text": [
      "[########################################] | 100% Completed |  1.6s\n"
     ]
    }
   ],
   "source": [
    "s_roi.plot()"
   ]
  },
  {
   "cell_type": "code",
   "execution_count": 92,
   "id": "05a84ca6-b8e1-4d41-a61d-d6f11705e297",
   "metadata": {
    "pycharm": {
     "name": "#%%\n"
    }
   },
   "outputs": [
    {
     "name": "stdout",
     "output_type": "stream",
     "text": [
      "[########################################] | 100% Completed |  0.6s\n"
     ]
    }
   ],
   "source": [
    "s.T.plot()"
   ]
  },
  {
   "cell_type": "code",
   "execution_count": 100,
   "id": "879caa9e-ddc9-46ae-8846-b25a300c7ae5",
   "metadata": {
    "pycharm": {
     "name": "#%%\n"
    }
   },
   "outputs": [],
   "source": [
    "s_corr.inav[77,46].plot()"
   ]
  },
  {
   "cell_type": "code",
   "execution_count": 91,
   "id": "edf0105e-8863-4113-b728-6a58b5eb702d",
   "metadata": {
    "pycharm": {
     "name": "#%%\n"
    }
   },
   "outputs": [],
   "source": [
    "\n",
    "fig,ax = plt.subplots(figsize=(10,10))\n",
    "\n",
    "for dx in range(20):\n",
    "    x = 150 + dx\n",
    "    y = 16\n",
    "    ax.imshow(s_corr.inav[x,y],cmap='viridis')\n",
    "    plt.tight_layout()\n",
    "    plt.axis('off')\n",
    "    plt.savefig('a_cross_'+str(x)+'_'+str(y)+'.png')\n",
    "    \n",
    "\n",
    "\n"
   ]
  },
  {
   "cell_type": "code",
   "execution_count": 44,
   "id": "e4bc2bda-b10e-4a9f-87de-25956be19e9d",
   "metadata": {
    "pycharm": {
     "name": "#%%\n"
    }
   },
   "outputs": [
    {
     "name": "stderr",
     "output_type": "stream",
     "text": [
      "C:\\Users\\hedda\\Anaconda3\\envs\\hspy_environment\\lib\\site-packages\\dask\\array\\core.py:4656: PerformanceWarning: Increasing number of chunks by factor of 48\n",
      "  result = blockwise(\n"
     ]
    }
   ],
   "source": [
    "s_adf = roi(s, axes=(2, 3))\n",
    "s_adf_sum = s_adf.nansum(axis=(2, 3), rechunk=False)\n",
    "s_adf_sum = s_adf_sum.T"
   ]
  },
  {
   "cell_type": "code",
   "execution_count": 45,
   "id": "2d0a9aad-f278-4a1f-898d-a2b7a802fd3d",
   "metadata": {
    "pycharm": {
     "name": "#%%\n"
    }
   },
   "outputs": [
    {
     "ename": "KeyboardInterrupt",
     "evalue": "",
     "output_type": "error",
     "traceback": [
      "\u001B[1;31m---------------------------------------------------------------------------\u001B[0m",
      "\u001B[1;31mKeyboardInterrupt\u001B[0m                         Traceback (most recent call last)",
      "Input \u001B[1;32mIn [45]\u001B[0m, in \u001B[0;36m<cell line: 1>\u001B[1;34m()\u001B[0m\n\u001B[1;32m----> 1\u001B[0m \u001B[43ms_adf_sum\u001B[49m\u001B[38;5;241;43m.\u001B[39;49m\u001B[43mcompute\u001B[49m\u001B[43m(\u001B[49m\u001B[43m)\u001B[49m\n",
      "File \u001B[1;32m~\\Anaconda3\\envs\\hspy_environment\\lib\\site-packages\\hyperspy\\_signals\\lazy.py:265\u001B[0m, in \u001B[0;36mLazySignal.compute\u001B[1;34m(self, close_file, show_progressbar, **kwargs)\u001B[0m\n\u001B[0;32m    263\u001B[0m \u001B[38;5;28;01mwith\u001B[39;00m cm():\n\u001B[0;32m    264\u001B[0m     da \u001B[38;5;241m=\u001B[39m \u001B[38;5;28mself\u001B[39m\u001B[38;5;241m.\u001B[39mdata\n\u001B[1;32m--> 265\u001B[0m     data \u001B[38;5;241m=\u001B[39m \u001B[43mda\u001B[49m\u001B[38;5;241;43m.\u001B[39;49m\u001B[43mcompute\u001B[49m\u001B[43m(\u001B[49m\u001B[43m)\u001B[49m\n\u001B[0;32m    266\u001B[0m     \u001B[38;5;28;01mif\u001B[39;00m close_file:\n\u001B[0;32m    267\u001B[0m         \u001B[38;5;28mself\u001B[39m\u001B[38;5;241m.\u001B[39mclose_file()\n",
      "File \u001B[1;32m~\\Anaconda3\\envs\\hspy_environment\\lib\\site-packages\\dask\\base.py:292\u001B[0m, in \u001B[0;36mDaskMethodsMixin.compute\u001B[1;34m(self, **kwargs)\u001B[0m\n\u001B[0;32m    268\u001B[0m \u001B[38;5;28;01mdef\u001B[39;00m \u001B[38;5;21mcompute\u001B[39m(\u001B[38;5;28mself\u001B[39m, \u001B[38;5;241m*\u001B[39m\u001B[38;5;241m*\u001B[39mkwargs):\n\u001B[0;32m    269\u001B[0m     \u001B[38;5;124;03m\"\"\"Compute this dask collection\u001B[39;00m\n\u001B[0;32m    270\u001B[0m \n\u001B[0;32m    271\u001B[0m \u001B[38;5;124;03m    This turns a lazy Dask collection into its in-memory equivalent.\u001B[39;00m\n\u001B[1;32m   (...)\u001B[0m\n\u001B[0;32m    290\u001B[0m \u001B[38;5;124;03m    dask.base.compute\u001B[39;00m\n\u001B[0;32m    291\u001B[0m \u001B[38;5;124;03m    \"\"\"\u001B[39;00m\n\u001B[1;32m--> 292\u001B[0m     (result,) \u001B[38;5;241m=\u001B[39m compute(\u001B[38;5;28mself\u001B[39m, traverse\u001B[38;5;241m=\u001B[39m\u001B[38;5;28;01mFalse\u001B[39;00m, \u001B[38;5;241m*\u001B[39m\u001B[38;5;241m*\u001B[39mkwargs)\n\u001B[0;32m    293\u001B[0m     \u001B[38;5;28;01mreturn\u001B[39;00m result\n",
      "File \u001B[1;32m~\\Anaconda3\\envs\\hspy_environment\\lib\\site-packages\\dask\\base.py:569\u001B[0m, in \u001B[0;36mcompute\u001B[1;34m(traverse, optimize_graph, scheduler, get, *args, **kwargs)\u001B[0m\n\u001B[0;32m    561\u001B[0m     \u001B[38;5;28;01mreturn\u001B[39;00m args\n\u001B[0;32m    563\u001B[0m schedule \u001B[38;5;241m=\u001B[39m get_scheduler(\n\u001B[0;32m    564\u001B[0m     scheduler\u001B[38;5;241m=\u001B[39mscheduler,\n\u001B[0;32m    565\u001B[0m     collections\u001B[38;5;241m=\u001B[39mcollections,\n\u001B[0;32m    566\u001B[0m     get\u001B[38;5;241m=\u001B[39mget,\n\u001B[0;32m    567\u001B[0m )\n\u001B[1;32m--> 569\u001B[0m dsk \u001B[38;5;241m=\u001B[39m collections_to_dsk(collections, optimize_graph, \u001B[38;5;241m*\u001B[39m\u001B[38;5;241m*\u001B[39mkwargs)\n\u001B[0;32m    570\u001B[0m keys, postcomputes \u001B[38;5;241m=\u001B[39m [], []\n\u001B[0;32m    571\u001B[0m \u001B[38;5;28;01mfor\u001B[39;00m x \u001B[38;5;129;01min\u001B[39;00m collections:\n",
      "File \u001B[1;32m~\\Anaconda3\\envs\\hspy_environment\\lib\\site-packages\\dask\\base.py:344\u001B[0m, in \u001B[0;36mcollections_to_dsk\u001B[1;34m(collections, optimize_graph, optimizations, **kwargs)\u001B[0m\n\u001B[0;32m    342\u001B[0m \u001B[38;5;28;01mfor\u001B[39;00m opt, val \u001B[38;5;129;01min\u001B[39;00m groups\u001B[38;5;241m.\u001B[39mitems():\n\u001B[0;32m    343\u001B[0m     dsk, keys \u001B[38;5;241m=\u001B[39m _extract_graph_and_keys(val)\n\u001B[1;32m--> 344\u001B[0m     dsk \u001B[38;5;241m=\u001B[39m opt(dsk, keys, \u001B[38;5;241m*\u001B[39m\u001B[38;5;241m*\u001B[39mkwargs)\n\u001B[0;32m    346\u001B[0m     \u001B[38;5;28;01mfor\u001B[39;00m opt_inner \u001B[38;5;129;01min\u001B[39;00m optimizations:\n\u001B[0;32m    347\u001B[0m         dsk \u001B[38;5;241m=\u001B[39m opt_inner(dsk, keys, \u001B[38;5;241m*\u001B[39m\u001B[38;5;241m*\u001B[39mkwargs)\n",
      "File \u001B[1;32m~\\Anaconda3\\envs\\hspy_environment\\lib\\site-packages\\dask\\array\\optimization.py:73\u001B[0m, in \u001B[0;36moptimize\u001B[1;34m(dsk, keys, fuse_keys, fast_functions, inline_functions_fast_functions, rename_fused_keys, **kwargs)\u001B[0m\n\u001B[0;32m     66\u001B[0m dsk, dependencies \u001B[38;5;241m=\u001B[39m fuse(\n\u001B[0;32m     67\u001B[0m     dsk,\n\u001B[0;32m     68\u001B[0m     hold \u001B[38;5;241m+\u001B[39m keys \u001B[38;5;241m+\u001B[39m (fuse_keys \u001B[38;5;129;01mor\u001B[39;00m []),\n\u001B[0;32m     69\u001B[0m     dependencies,\n\u001B[0;32m     70\u001B[0m     rename_keys\u001B[38;5;241m=\u001B[39mrename_fused_keys,\n\u001B[0;32m     71\u001B[0m )\n\u001B[0;32m     72\u001B[0m \u001B[38;5;28;01mif\u001B[39;00m inline_functions_fast_functions:\n\u001B[1;32m---> 73\u001B[0m     dsk \u001B[38;5;241m=\u001B[39m \u001B[43minline_functions\u001B[49m\u001B[43m(\u001B[49m\n\u001B[0;32m     74\u001B[0m \u001B[43m        \u001B[49m\u001B[43mdsk\u001B[49m\u001B[43m,\u001B[49m\n\u001B[0;32m     75\u001B[0m \u001B[43m        \u001B[49m\u001B[43mkeys\u001B[49m\u001B[43m,\u001B[49m\n\u001B[0;32m     76\u001B[0m \u001B[43m        \u001B[49m\u001B[43mdependencies\u001B[49m\u001B[38;5;241;43m=\u001B[39;49m\u001B[43mdependencies\u001B[49m\u001B[43m,\u001B[49m\n\u001B[0;32m     77\u001B[0m \u001B[43m        \u001B[49m\u001B[43mfast_functions\u001B[49m\u001B[38;5;241;43m=\u001B[39;49m\u001B[43minline_functions_fast_functions\u001B[49m\u001B[43m,\u001B[49m\n\u001B[0;32m     78\u001B[0m \u001B[43m    \u001B[49m\u001B[43m)\u001B[49m\n\u001B[0;32m     80\u001B[0m \u001B[38;5;28;01mreturn\u001B[39;00m optimize_slices(dsk)\n",
      "File \u001B[1;32m~\\Anaconda3\\envs\\hspy_environment\\lib\\site-packages\\dask\\optimization.py:341\u001B[0m, in \u001B[0;36minline_functions\u001B[1;34m(dsk, output, fast_functions, inline_constants, dependencies)\u001B[0m\n\u001B[0;32m    339\u001B[0m \u001B[38;5;28;01mif\u001B[39;00m dependencies \u001B[38;5;129;01mis\u001B[39;00m \u001B[38;5;28;01mNone\u001B[39;00m:\n\u001B[0;32m    340\u001B[0m     dependencies \u001B[38;5;241m=\u001B[39m {k: get_dependencies(dsk, k) \u001B[38;5;28;01mfor\u001B[39;00m k \u001B[38;5;129;01min\u001B[39;00m dsk}\n\u001B[1;32m--> 341\u001B[0m dependents \u001B[38;5;241m=\u001B[39m \u001B[43mreverse_dict\u001B[49m\u001B[43m(\u001B[49m\u001B[43mdependencies\u001B[49m\u001B[43m)\u001B[49m\n\u001B[0;32m    343\u001B[0m \u001B[38;5;28;01mdef\u001B[39;00m \u001B[38;5;21minlinable\u001B[39m(v):\n\u001B[0;32m    344\u001B[0m     \u001B[38;5;28;01mtry\u001B[39;00m:\n",
      "File \u001B[1;32m~\\Anaconda3\\envs\\hspy_environment\\lib\\site-packages\\dask\\core.py:320\u001B[0m, in \u001B[0;36mreverse_dict\u001B[1;34m(d)\u001B[0m\n\u001B[0;32m    318\u001B[0m     result[k]\n\u001B[0;32m    319\u001B[0m     \u001B[38;5;28;01mfor\u001B[39;00m val \u001B[38;5;129;01min\u001B[39;00m vals:\n\u001B[1;32m--> 320\u001B[0m         \u001B[43m_add\u001B[49m\u001B[43m(\u001B[49m\u001B[43mresult\u001B[49m\u001B[43m[\u001B[49m\u001B[43mval\u001B[49m\u001B[43m]\u001B[49m\u001B[43m,\u001B[49m\u001B[43m \u001B[49m\u001B[43mk\u001B[49m\u001B[43m)\u001B[49m\n\u001B[0;32m    321\u001B[0m result\u001B[38;5;241m.\u001B[39mdefault_factory \u001B[38;5;241m=\u001B[39m \u001B[38;5;28;01mNone\u001B[39;00m\n\u001B[0;32m    322\u001B[0m \u001B[38;5;28;01mreturn\u001B[39;00m result\n",
      "\u001B[1;31mKeyboardInterrupt\u001B[0m: "
     ]
    }
   ],
   "source": [
    "s_adf_sum.compute()"
   ]
  },
  {
   "cell_type": "code",
   "execution_count": 39,
   "id": "d18f0e6b-50f7-4388-b919-744e1703b8b0",
   "metadata": {
    "pycharm": {
     "name": "#%%\n"
    }
   },
   "outputs": [],
   "source": [
    "s.navigator = s_adf_sum"
   ]
  },
  {
   "cell_type": "code",
   "execution_count": null,
   "id": "1931d10a-229c-4a31-86fe-043157af2878",
   "metadata": {
    "pycharm": {
     "name": "#%%\n"
    }
   },
   "outputs": [],
   "source": [
    "s_adf_sum.plot()"
   ]
  },
  {
   "cell_type": "code",
   "execution_count": 190,
   "id": "367cab6c-bf13-4fae-986c-7851ddfcd927",
   "metadata": {
    "pycharm": {
     "name": "#%%\n"
    }
   },
   "outputs": [
    {
     "ename": "AttributeError",
     "evalue": "'NoneType' object has no attribute 'data'",
     "output_type": "error",
     "traceback": [
      "\u001B[1;31m---------------------------------------------------------------------------\u001B[0m",
      "\u001B[1;31mAttributeError\u001B[0m                            Traceback (most recent call last)",
      "Input \u001B[1;32mIn [190]\u001B[0m, in \u001B[0;36m<cell line: 1>\u001B[1;34m()\u001B[0m\n\u001B[1;32m----> 1\u001B[0m \u001B[43ms\u001B[49m\u001B[38;5;241;43m.\u001B[39;49m\u001B[43mdata\u001B[49m\n",
      "\u001B[1;31mAttributeError\u001B[0m: 'NoneType' object has no attribute 'data'"
     ]
    }
   ],
   "source": []
  },
  {
   "cell_type": "code",
   "execution_count": 178,
   "id": "222c0939-f0f6-42db-ba90-5cac25bfc17b",
   "metadata": {
    "collapsed": true,
    "jupyter": {
     "outputs_hidden": true
    },
    "tags": [],
    "pycharm": {
     "name": "#%%\n"
    }
   },
   "outputs": [
    {
     "ename": "AttributeError",
     "evalue": "'AxesImage' object has no property 'navigator_dimension'",
     "output_type": "error",
     "traceback": [
      "\u001B[1;31m---------------------------------------------------------------------------\u001B[0m",
      "\u001B[1;31mAttributeError\u001B[0m                            Traceback (most recent call last)",
      "Input \u001B[1;32mIn [178]\u001B[0m, in \u001B[0;36m<cell line: 2>\u001B[1;34m()\u001B[0m\n\u001B[0;32m      1\u001B[0m roi \u001B[38;5;241m=\u001B[39m hs\u001B[38;5;241m.\u001B[39mroi\u001B[38;5;241m.\u001B[39mCircleROI(cx \u001B[38;5;241m=\u001B[39m \u001B[38;5;241m32\u001B[39m, cy\u001B[38;5;241m=\u001B[39m\u001B[38;5;241m32\u001B[39m, r \u001B[38;5;241m=\u001B[39m \u001B[38;5;241m20\u001B[39m, r_inner\u001B[38;5;241m=\u001B[39m\u001B[38;5;241m0\u001B[39m)\n\u001B[1;32m----> 2\u001B[0m \u001B[43ms\u001B[49m\u001B[38;5;241;43m.\u001B[39;49m\u001B[43mplot\u001B[49m\u001B[43m(\u001B[49m\u001B[43mnavigator_dimension\u001B[49m\u001B[38;5;241;43m=\u001B[39;49m\u001B[38;5;241;43m1\u001B[39;49m\u001B[43m)\u001B[49m \u001B[38;5;66;03m# plot signal to have where to display the widget\u001B[39;00m\n\u001B[0;32m      3\u001B[0m imr \u001B[38;5;241m=\u001B[39m roi\u001B[38;5;241m.\u001B[39minteractive(s\u001B[38;5;241m.\u001B[39mT, navigation_signal\u001B[38;5;241m=\u001B[39ms, color\u001B[38;5;241m=\u001B[39m\u001B[38;5;124m\"\u001B[39m\u001B[38;5;124mred\u001B[39m\u001B[38;5;124m\"\u001B[39m)\n\u001B[0;32m      4\u001B[0m roi(imr)\u001B[38;5;241m.\u001B[39mplot()\n",
      "File \u001B[1;32m~\\Anaconda3\\envs\\hspy_environment\\lib\\site-packages\\hyperspy\\_signals\\lazy.py:1237\u001B[0m, in \u001B[0;36mLazySignal.plot\u001B[1;34m(self, navigator, **kwargs)\u001B[0m\n\u001B[0;32m   1235\u001B[0m         \u001B[38;5;28;01melif\u001B[39;00m nav_dim \u001B[38;5;241m>\u001B[39m \u001B[38;5;241m2\u001B[39m:\n\u001B[0;32m   1236\u001B[0m             navigator \u001B[38;5;241m=\u001B[39m \u001B[38;5;124m'\u001B[39m\u001B[38;5;124mslider\u001B[39m\u001B[38;5;124m'\u001B[39m\n\u001B[1;32m-> 1237\u001B[0m \u001B[38;5;28msuper\u001B[39m()\u001B[38;5;241m.\u001B[39mplot(navigator\u001B[38;5;241m=\u001B[39mnavigator, \u001B[38;5;241m*\u001B[39m\u001B[38;5;241m*\u001B[39mkwargs)\n",
      "File \u001B[1;32m~\\Anaconda3\\envs\\hspy_environment\\lib\\site-packages\\pyxem\\signals\\diffraction2d.py:1350\u001B[0m, in \u001B[0;36mDiffraction2D.plot\u001B[1;34m(self, *args, **kwargs)\u001B[0m\n\u001B[0;32m   1348\u001B[0m \u001B[38;5;28;01mdef\u001B[39;00m \u001B[38;5;21mplot\u001B[39m(\u001B[38;5;28mself\u001B[39m, \u001B[38;5;241m*\u001B[39margs, \u001B[38;5;241m*\u001B[39m\u001B[38;5;241m*\u001B[39mkwargs):\n\u001B[0;32m   1349\u001B[0m     \u001B[38;5;28;01mif\u001B[39;00m \u001B[38;5;124m\"\u001B[39m\u001B[38;5;124mnavigator\u001B[39m\u001B[38;5;124m\"\u001B[39m \u001B[38;5;129;01min\u001B[39;00m kwargs:\n\u001B[1;32m-> 1350\u001B[0m         \u001B[38;5;28msuper\u001B[39m()\u001B[38;5;241m.\u001B[39mplot(\u001B[38;5;241m*\u001B[39margs, \u001B[38;5;241m*\u001B[39m\u001B[38;5;241m*\u001B[39mkwargs)\n\u001B[0;32m   1351\u001B[0m     \u001B[38;5;28;01melif\u001B[39;00m \u001B[38;5;28mself\u001B[39m\u001B[38;5;241m.\u001B[39maxes_manager\u001B[38;5;241m.\u001B[39mnavigation_dimension \u001B[38;5;241m>\u001B[39m \u001B[38;5;241m2\u001B[39m:\n\u001B[0;32m   1352\u001B[0m         \u001B[38;5;28msuper\u001B[39m()\u001B[38;5;241m.\u001B[39mplot(\u001B[38;5;241m*\u001B[39margs, \u001B[38;5;241m*\u001B[39m\u001B[38;5;241m*\u001B[39mkwargs)\n",
      "File \u001B[1;32m~\\Anaconda3\\envs\\hspy_environment\\lib\\site-packages\\hyperspy\\_signals\\signal2d.py:355\u001B[0m, in \u001B[0;36mSignal2D.plot\u001B[1;34m(self, navigator, plot_markers, autoscale, saturated_pixels, norm, vmin, vmax, gamma, linthresh, linscale, scalebar, scalebar_color, axes_ticks, axes_off, axes_manager, no_nans, colorbar, centre_colormap, min_aspect, navigator_kwds, **kwargs)\u001B[0m\n\u001B[0;32m    352\u001B[0m     \u001B[38;5;28;01mif\u001B[39;00m c \u001B[38;5;129;01mnot\u001B[39;00m \u001B[38;5;129;01min\u001B[39;00m [\u001B[38;5;124m'\u001B[39m\u001B[38;5;124mx\u001B[39m\u001B[38;5;124m'\u001B[39m, \u001B[38;5;124m'\u001B[39m\u001B[38;5;124my\u001B[39m\u001B[38;5;124m'\u001B[39m, \u001B[38;5;124m'\u001B[39m\u001B[38;5;124mv\u001B[39m\u001B[38;5;124m'\u001B[39m]:\n\u001B[0;32m    353\u001B[0m         \u001B[38;5;28;01mraise\u001B[39;00m \u001B[38;5;167;01mValueError\u001B[39;00m(\u001B[38;5;124m\"\u001B[39m\u001B[38;5;124m`autoscale` only accepts \u001B[39m\u001B[38;5;124m'\u001B[39m\u001B[38;5;124mx\u001B[39m\u001B[38;5;124m'\u001B[39m\u001B[38;5;124m, \u001B[39m\u001B[38;5;124m'\u001B[39m\u001B[38;5;124my\u001B[39m\u001B[38;5;124m'\u001B[39m\u001B[38;5;124m, \u001B[39m\u001B[38;5;124m'\u001B[39m\u001B[38;5;124mv\u001B[39m\u001B[38;5;124m'\u001B[39m\u001B[38;5;124m as \u001B[39m\u001B[38;5;124m\"\u001B[39m\n\u001B[0;32m    354\u001B[0m                          \u001B[38;5;124m\"\u001B[39m\u001B[38;5;124mvalid characters.\u001B[39m\u001B[38;5;124m\"\u001B[39m)\n\u001B[1;32m--> 355\u001B[0m \u001B[38;5;28msuper\u001B[39m()\u001B[38;5;241m.\u001B[39mplot(\n\u001B[0;32m    356\u001B[0m     navigator\u001B[38;5;241m=\u001B[39mnavigator,\n\u001B[0;32m    357\u001B[0m     plot_markers\u001B[38;5;241m=\u001B[39mplot_markers,\n\u001B[0;32m    358\u001B[0m     autoscale\u001B[38;5;241m=\u001B[39mautoscale,\n\u001B[0;32m    359\u001B[0m     saturated_pixels\u001B[38;5;241m=\u001B[39msaturated_pixels,\n\u001B[0;32m    360\u001B[0m     norm\u001B[38;5;241m=\u001B[39mnorm,\n\u001B[0;32m    361\u001B[0m     vmin\u001B[38;5;241m=\u001B[39mvmin,\n\u001B[0;32m    362\u001B[0m     vmax\u001B[38;5;241m=\u001B[39mvmax,\n\u001B[0;32m    363\u001B[0m     gamma\u001B[38;5;241m=\u001B[39mgamma,\n\u001B[0;32m    364\u001B[0m     linthresh\u001B[38;5;241m=\u001B[39mlinthresh,\n\u001B[0;32m    365\u001B[0m     linscale\u001B[38;5;241m=\u001B[39mlinscale,\n\u001B[0;32m    366\u001B[0m     scalebar\u001B[38;5;241m=\u001B[39mscalebar,\n\u001B[0;32m    367\u001B[0m     scalebar_color\u001B[38;5;241m=\u001B[39mscalebar_color,\n\u001B[0;32m    368\u001B[0m     axes_ticks\u001B[38;5;241m=\u001B[39maxes_ticks,\n\u001B[0;32m    369\u001B[0m     axes_off\u001B[38;5;241m=\u001B[39maxes_off,\n\u001B[0;32m    370\u001B[0m     axes_manager\u001B[38;5;241m=\u001B[39maxes_manager,\n\u001B[0;32m    371\u001B[0m     no_nans\u001B[38;5;241m=\u001B[39mno_nans,\n\u001B[0;32m    372\u001B[0m     colorbar\u001B[38;5;241m=\u001B[39mcolorbar,\n\u001B[0;32m    373\u001B[0m     centre_colormap\u001B[38;5;241m=\u001B[39mcentre_colormap,\n\u001B[0;32m    374\u001B[0m     min_aspect\u001B[38;5;241m=\u001B[39mmin_aspect,\n\u001B[0;32m    375\u001B[0m     navigator_kwds\u001B[38;5;241m=\u001B[39mnavigator_kwds,\n\u001B[0;32m    376\u001B[0m     \u001B[38;5;241m*\u001B[39m\u001B[38;5;241m*\u001B[39mkwargs\n\u001B[0;32m    377\u001B[0m )\n",
      "File \u001B[1;32m~\\Anaconda3\\envs\\hspy_environment\\lib\\site-packages\\hyperspy\\signal.py:2899\u001B[0m, in \u001B[0;36mBaseSignal.plot\u001B[1;34m(self, navigator, axes_manager, plot_markers, **kwargs)\u001B[0m\n\u001B[0;32m   2894\u001B[0m     \u001B[38;5;28;01melse\u001B[39;00m:\n\u001B[0;32m   2895\u001B[0m         \u001B[38;5;28;01mraise\u001B[39;00m \u001B[38;5;167;01mValueError\u001B[39;00m(\n\u001B[0;32m   2896\u001B[0m             \u001B[38;5;124m'\u001B[39m\u001B[38;5;124mnavigator must be one of \u001B[39m\u001B[38;5;124m\"\u001B[39m\u001B[38;5;124mspectrum\u001B[39m\u001B[38;5;124m\"\u001B[39m\u001B[38;5;124m,\u001B[39m\u001B[38;5;124m\"\u001B[39m\u001B[38;5;124mauto\u001B[39m\u001B[38;5;124m\"\u001B[39m\u001B[38;5;124m, \u001B[39m\u001B[38;5;124m'\u001B[39m\n\u001B[0;32m   2897\u001B[0m             \u001B[38;5;124m'\u001B[39m\u001B[38;5;124m\"\u001B[39m\u001B[38;5;124mslider\u001B[39m\u001B[38;5;124m\"\u001B[39m\u001B[38;5;124m, None, a Signal instance\u001B[39m\u001B[38;5;124m'\u001B[39m)\n\u001B[1;32m-> 2899\u001B[0m \u001B[38;5;28mself\u001B[39m\u001B[38;5;241m.\u001B[39m_plot\u001B[38;5;241m.\u001B[39mplot(\u001B[38;5;241m*\u001B[39m\u001B[38;5;241m*\u001B[39mkwargs)\n\u001B[0;32m   2900\u001B[0m \u001B[38;5;28mself\u001B[39m\u001B[38;5;241m.\u001B[39mevents\u001B[38;5;241m.\u001B[39mdata_changed\u001B[38;5;241m.\u001B[39mconnect(\u001B[38;5;28mself\u001B[39m\u001B[38;5;241m.\u001B[39mupdate_plot, [])\n\u001B[0;32m   2902\u001B[0m p \u001B[38;5;241m=\u001B[39m \u001B[38;5;28mself\u001B[39m\u001B[38;5;241m.\u001B[39m_plot\u001B[38;5;241m.\u001B[39msignal_plot \u001B[38;5;28;01mif\u001B[39;00m \u001B[38;5;28mself\u001B[39m\u001B[38;5;241m.\u001B[39m_plot\u001B[38;5;241m.\u001B[39msignal_plot \u001B[38;5;28;01melse\u001B[39;00m \u001B[38;5;28mself\u001B[39m\u001B[38;5;241m.\u001B[39m_plot\u001B[38;5;241m.\u001B[39mnavigator_plot\n",
      "File \u001B[1;32m~\\Anaconda3\\envs\\hspy_environment\\lib\\site-packages\\hyperspy\\drawing\\mpl_he.py:193\u001B[0m, in \u001B[0;36mMPL_HyperExplorer.plot\u001B[1;34m(self, **kwargs)\u001B[0m\n\u001B[0;32m    190\u001B[0m     \u001B[38;5;28;01mif\u001B[39;00m pointer \u001B[38;5;129;01mis\u001B[39;00m \u001B[38;5;129;01mnot\u001B[39;00m \u001B[38;5;28;01mNone\u001B[39;00m:\n\u001B[0;32m    191\u001B[0m         \u001B[38;5;28mself\u001B[39m\u001B[38;5;241m.\u001B[39mnavigator_plot\u001B[38;5;241m.\u001B[39mevents\u001B[38;5;241m.\u001B[39mclosed\u001B[38;5;241m.\u001B[39mconnect(\n\u001B[0;32m    192\u001B[0m             \u001B[38;5;28mself\u001B[39m\u001B[38;5;241m.\u001B[39mpointer\u001B[38;5;241m.\u001B[39mdisconnect, [])\n\u001B[1;32m--> 193\u001B[0m \u001B[38;5;28mself\u001B[39m\u001B[38;5;241m.\u001B[39mplot_signal(\u001B[38;5;241m*\u001B[39m\u001B[38;5;241m*\u001B[39mkwargs)\n",
      "File \u001B[1;32m~\\Anaconda3\\envs\\hspy_environment\\lib\\site-packages\\hyperspy\\drawing\\mpl_hie.py:52\u001B[0m, in \u001B[0;36mMPL_HyperImage_Explorer.plot_signal\u001B[1;34m(self, **kwargs)\u001B[0m\n\u001B[0;32m     50\u001B[0m \u001B[38;5;28;01mif\u001B[39;00m \u001B[38;5;124m\"\u001B[39m\u001B[38;5;124mcmap\u001B[39m\u001B[38;5;124m\"\u001B[39m \u001B[38;5;129;01mnot\u001B[39;00m \u001B[38;5;129;01min\u001B[39;00m kwargs\u001B[38;5;241m.\u001B[39mkeys() \u001B[38;5;129;01mor\u001B[39;00m kwargs[\u001B[38;5;124m'\u001B[39m\u001B[38;5;124mcmap\u001B[39m\u001B[38;5;124m'\u001B[39m] \u001B[38;5;129;01mis\u001B[39;00m \u001B[38;5;28;01mNone\u001B[39;00m:\n\u001B[0;32m     51\u001B[0m     kwargs[\u001B[38;5;124m\"\u001B[39m\u001B[38;5;124mcmap\u001B[39m\u001B[38;5;124m\"\u001B[39m] \u001B[38;5;241m=\u001B[39m preferences\u001B[38;5;241m.\u001B[39mPlot\u001B[38;5;241m.\u001B[39mcmap_signal\n\u001B[1;32m---> 52\u001B[0m imf\u001B[38;5;241m.\u001B[39mplot(\u001B[38;5;241m*\u001B[39m\u001B[38;5;241m*\u001B[39mkwargs)\n\u001B[0;32m     53\u001B[0m \u001B[38;5;28mself\u001B[39m\u001B[38;5;241m.\u001B[39msignal_plot \u001B[38;5;241m=\u001B[39m imf\n\u001B[0;32m     55\u001B[0m \u001B[38;5;28;01mif\u001B[39;00m imf\u001B[38;5;241m.\u001B[39mfigure \u001B[38;5;129;01mis\u001B[39;00m \u001B[38;5;129;01mnot\u001B[39;00m \u001B[38;5;28;01mNone\u001B[39;00m:\n",
      "File \u001B[1;32m~\\Anaconda3\\envs\\hspy_environment\\lib\\site-packages\\hyperspy\\drawing\\image.py:360\u001B[0m, in \u001B[0;36mImagePlot.plot\u001B[1;34m(self, data_function_kwargs, **kwargs)\u001B[0m\n\u001B[0;32m    358\u001B[0m     \u001B[38;5;28;01mif\u001B[39;00m attribute \u001B[38;5;129;01min\u001B[39;00m kwargs\u001B[38;5;241m.\u001B[39mkeys():\n\u001B[0;32m    359\u001B[0m         \u001B[38;5;28msetattr\u001B[39m(\u001B[38;5;28mself\u001B[39m, attribute, kwargs\u001B[38;5;241m.\u001B[39mpop(attribute))\n\u001B[1;32m--> 360\u001B[0m \u001B[38;5;28mself\u001B[39m\u001B[38;5;241m.\u001B[39mupdate(data_changed\u001B[38;5;241m=\u001B[39m\u001B[38;5;28;01mTrue\u001B[39;00m, auto_contrast\u001B[38;5;241m=\u001B[39m\u001B[38;5;28;01mTrue\u001B[39;00m, \u001B[38;5;241m*\u001B[39m\u001B[38;5;241m*\u001B[39mkwargs)\n\u001B[0;32m    361\u001B[0m \u001B[38;5;28;01mif\u001B[39;00m \u001B[38;5;28mself\u001B[39m\u001B[38;5;241m.\u001B[39mscalebar \u001B[38;5;129;01mis\u001B[39;00m \u001B[38;5;28;01mTrue\u001B[39;00m:\n\u001B[0;32m    362\u001B[0m     \u001B[38;5;28;01mif\u001B[39;00m \u001B[38;5;28mself\u001B[39m\u001B[38;5;241m.\u001B[39mpixel_units \u001B[38;5;129;01mis\u001B[39;00m \u001B[38;5;129;01mnot\u001B[39;00m \u001B[38;5;28;01mNone\u001B[39;00m:\n",
      "File \u001B[1;32m~\\Anaconda3\\envs\\hspy_environment\\lib\\site-packages\\hyperspy\\drawing\\image.py:582\u001B[0m, in \u001B[0;36mImagePlot.update\u001B[1;34m(self, data_changed, auto_contrast, vmin, vmax, **kwargs)\u001B[0m\n\u001B[0;32m    580\u001B[0m             new_args[\u001B[38;5;124m'\u001B[39m\u001B[38;5;124mnorm\u001B[39m\u001B[38;5;124m'\u001B[39m] \u001B[38;5;241m=\u001B[39m norm\n\u001B[0;32m    581\u001B[0m     new_args\u001B[38;5;241m.\u001B[39mupdate(kwargs)\n\u001B[1;32m--> 582\u001B[0m     \u001B[38;5;28mself\u001B[39m\u001B[38;5;241m.\u001B[39max\u001B[38;5;241m.\u001B[39mimshow(data, \u001B[38;5;241m*\u001B[39m\u001B[38;5;241m*\u001B[39mnew_args)\n\u001B[0;32m    584\u001B[0m \u001B[38;5;28;01mif\u001B[39;00m \u001B[38;5;28mself\u001B[39m\u001B[38;5;241m.\u001B[39maxes_ticks \u001B[38;5;241m==\u001B[39m \u001B[38;5;124m'\u001B[39m\u001B[38;5;124moff\u001B[39m\u001B[38;5;124m'\u001B[39m:\n\u001B[0;32m    585\u001B[0m     \u001B[38;5;28mself\u001B[39m\u001B[38;5;241m.\u001B[39max\u001B[38;5;241m.\u001B[39mset_axis_off()\n",
      "File \u001B[1;32m~\\Anaconda3\\envs\\hspy_environment\\lib\\site-packages\\matplotlib\\_api\\deprecation.py:456\u001B[0m, in \u001B[0;36mmake_keyword_only.<locals>.wrapper\u001B[1;34m(*args, **kwargs)\u001B[0m\n\u001B[0;32m    450\u001B[0m \u001B[38;5;28;01mif\u001B[39;00m \u001B[38;5;28mlen\u001B[39m(args) \u001B[38;5;241m>\u001B[39m name_idx:\n\u001B[0;32m    451\u001B[0m     warn_deprecated(\n\u001B[0;32m    452\u001B[0m         since, message\u001B[38;5;241m=\u001B[39m\u001B[38;5;124m\"\u001B[39m\u001B[38;5;124mPassing the \u001B[39m\u001B[38;5;132;01m%(name)s\u001B[39;00m\u001B[38;5;124m \u001B[39m\u001B[38;5;132;01m%(obj_type)s\u001B[39;00m\u001B[38;5;124m \u001B[39m\u001B[38;5;124m\"\u001B[39m\n\u001B[0;32m    453\u001B[0m         \u001B[38;5;124m\"\u001B[39m\u001B[38;5;124mpositionally is deprecated since Matplotlib \u001B[39m\u001B[38;5;132;01m%(since)s\u001B[39;00m\u001B[38;5;124m; the \u001B[39m\u001B[38;5;124m\"\u001B[39m\n\u001B[0;32m    454\u001B[0m         \u001B[38;5;124m\"\u001B[39m\u001B[38;5;124mparameter will become keyword-only \u001B[39m\u001B[38;5;132;01m%(removal)s\u001B[39;00m\u001B[38;5;124m.\u001B[39m\u001B[38;5;124m\"\u001B[39m,\n\u001B[0;32m    455\u001B[0m         name\u001B[38;5;241m=\u001B[39mname, obj_type\u001B[38;5;241m=\u001B[39m\u001B[38;5;124mf\u001B[39m\u001B[38;5;124m\"\u001B[39m\u001B[38;5;124mparameter of \u001B[39m\u001B[38;5;132;01m{\u001B[39;00mfunc\u001B[38;5;241m.\u001B[39m\u001B[38;5;18m__name__\u001B[39m\u001B[38;5;132;01m}\u001B[39;00m\u001B[38;5;124m()\u001B[39m\u001B[38;5;124m\"\u001B[39m)\n\u001B[1;32m--> 456\u001B[0m \u001B[38;5;28;01mreturn\u001B[39;00m func(\u001B[38;5;241m*\u001B[39margs, \u001B[38;5;241m*\u001B[39m\u001B[38;5;241m*\u001B[39mkwargs)\n",
      "File \u001B[1;32m~\\Anaconda3\\envs\\hspy_environment\\lib\\site-packages\\matplotlib\\__init__.py:1412\u001B[0m, in \u001B[0;36m_preprocess_data.<locals>.inner\u001B[1;34m(ax, data, *args, **kwargs)\u001B[0m\n\u001B[0;32m   1409\u001B[0m \u001B[38;5;129m@functools\u001B[39m\u001B[38;5;241m.\u001B[39mwraps(func)\n\u001B[0;32m   1410\u001B[0m \u001B[38;5;28;01mdef\u001B[39;00m \u001B[38;5;21minner\u001B[39m(ax, \u001B[38;5;241m*\u001B[39margs, data\u001B[38;5;241m=\u001B[39m\u001B[38;5;28;01mNone\u001B[39;00m, \u001B[38;5;241m*\u001B[39m\u001B[38;5;241m*\u001B[39mkwargs):\n\u001B[0;32m   1411\u001B[0m     \u001B[38;5;28;01mif\u001B[39;00m data \u001B[38;5;129;01mis\u001B[39;00m \u001B[38;5;28;01mNone\u001B[39;00m:\n\u001B[1;32m-> 1412\u001B[0m         \u001B[38;5;28;01mreturn\u001B[39;00m func(ax, \u001B[38;5;241m*\u001B[39m\u001B[38;5;28mmap\u001B[39m(sanitize_sequence, args), \u001B[38;5;241m*\u001B[39m\u001B[38;5;241m*\u001B[39mkwargs)\n\u001B[0;32m   1414\u001B[0m     bound \u001B[38;5;241m=\u001B[39m new_sig\u001B[38;5;241m.\u001B[39mbind(ax, \u001B[38;5;241m*\u001B[39margs, \u001B[38;5;241m*\u001B[39m\u001B[38;5;241m*\u001B[39mkwargs)\n\u001B[0;32m   1415\u001B[0m     auto_label \u001B[38;5;241m=\u001B[39m (bound\u001B[38;5;241m.\u001B[39marguments\u001B[38;5;241m.\u001B[39mget(label_namer)\n\u001B[0;32m   1416\u001B[0m                   \u001B[38;5;129;01mor\u001B[39;00m bound\u001B[38;5;241m.\u001B[39mkwargs\u001B[38;5;241m.\u001B[39mget(label_namer))\n",
      "File \u001B[1;32m~\\Anaconda3\\envs\\hspy_environment\\lib\\site-packages\\matplotlib\\axes\\_axes.py:5482\u001B[0m, in \u001B[0;36mAxes.imshow\u001B[1;34m(self, X, cmap, norm, aspect, interpolation, alpha, vmin, vmax, origin, extent, interpolation_stage, filternorm, filterrad, resample, url, **kwargs)\u001B[0m\n\u001B[0;32m   5480\u001B[0m     aspect \u001B[38;5;241m=\u001B[39m rcParams[\u001B[38;5;124m'\u001B[39m\u001B[38;5;124mimage.aspect\u001B[39m\u001B[38;5;124m'\u001B[39m]\n\u001B[0;32m   5481\u001B[0m \u001B[38;5;28mself\u001B[39m\u001B[38;5;241m.\u001B[39mset_aspect(aspect)\n\u001B[1;32m-> 5482\u001B[0m im \u001B[38;5;241m=\u001B[39m mimage\u001B[38;5;241m.\u001B[39mAxesImage(\u001B[38;5;28mself\u001B[39m, cmap, norm, interpolation,\n\u001B[0;32m   5483\u001B[0m                       origin, extent, filternorm\u001B[38;5;241m=\u001B[39mfilternorm,\n\u001B[0;32m   5484\u001B[0m                       filterrad\u001B[38;5;241m=\u001B[39mfilterrad, resample\u001B[38;5;241m=\u001B[39mresample,\n\u001B[0;32m   5485\u001B[0m                       interpolation_stage\u001B[38;5;241m=\u001B[39minterpolation_stage,\n\u001B[0;32m   5486\u001B[0m                       \u001B[38;5;241m*\u001B[39m\u001B[38;5;241m*\u001B[39mkwargs)\n\u001B[0;32m   5488\u001B[0m im\u001B[38;5;241m.\u001B[39mset_data(X)\n\u001B[0;32m   5489\u001B[0m im\u001B[38;5;241m.\u001B[39mset_alpha(alpha)\n",
      "File \u001B[1;32m~\\Anaconda3\\envs\\hspy_environment\\lib\\site-packages\\matplotlib\\image.py:929\u001B[0m, in \u001B[0;36mAxesImage.__init__\u001B[1;34m(self, ax, cmap, norm, interpolation, origin, extent, filternorm, filterrad, resample, interpolation_stage, **kwargs)\u001B[0m\n\u001B[0;32m    913\u001B[0m \u001B[38;5;28;01mdef\u001B[39;00m \u001B[38;5;21m__init__\u001B[39m(\u001B[38;5;28mself\u001B[39m, ax,\n\u001B[0;32m    914\u001B[0m              cmap\u001B[38;5;241m=\u001B[39m\u001B[38;5;28;01mNone\u001B[39;00m,\n\u001B[0;32m    915\u001B[0m              norm\u001B[38;5;241m=\u001B[39m\u001B[38;5;28;01mNone\u001B[39;00m,\n\u001B[1;32m   (...)\u001B[0m\n\u001B[0;32m    924\u001B[0m              \u001B[38;5;241m*\u001B[39m\u001B[38;5;241m*\u001B[39mkwargs\n\u001B[0;32m    925\u001B[0m              ):\n\u001B[0;32m    927\u001B[0m     \u001B[38;5;28mself\u001B[39m\u001B[38;5;241m.\u001B[39m_extent \u001B[38;5;241m=\u001B[39m extent\n\u001B[1;32m--> 929\u001B[0m     \u001B[38;5;28msuper\u001B[39m()\u001B[38;5;241m.\u001B[39m\u001B[38;5;21m__init__\u001B[39m(\n\u001B[0;32m    930\u001B[0m         ax,\n\u001B[0;32m    931\u001B[0m         cmap\u001B[38;5;241m=\u001B[39mcmap,\n\u001B[0;32m    932\u001B[0m         norm\u001B[38;5;241m=\u001B[39mnorm,\n\u001B[0;32m    933\u001B[0m         interpolation\u001B[38;5;241m=\u001B[39minterpolation,\n\u001B[0;32m    934\u001B[0m         origin\u001B[38;5;241m=\u001B[39morigin,\n\u001B[0;32m    935\u001B[0m         filternorm\u001B[38;5;241m=\u001B[39mfilternorm,\n\u001B[0;32m    936\u001B[0m         filterrad\u001B[38;5;241m=\u001B[39mfilterrad,\n\u001B[0;32m    937\u001B[0m         resample\u001B[38;5;241m=\u001B[39mresample,\n\u001B[0;32m    938\u001B[0m         interpolation_stage\u001B[38;5;241m=\u001B[39minterpolation_stage,\n\u001B[0;32m    939\u001B[0m         \u001B[38;5;241m*\u001B[39m\u001B[38;5;241m*\u001B[39mkwargs\n\u001B[0;32m    940\u001B[0m     )\n",
      "File \u001B[1;32m~\\Anaconda3\\envs\\hspy_environment\\lib\\site-packages\\matplotlib\\image.py:260\u001B[0m, in \u001B[0;36m_ImageBase.__init__\u001B[1;34m(self, ax, cmap, norm, interpolation, origin, filternorm, filterrad, resample, interpolation_stage, **kwargs)\u001B[0m\n\u001B[0;32m    256\u001B[0m \u001B[38;5;28mself\u001B[39m\u001B[38;5;241m.\u001B[39maxes \u001B[38;5;241m=\u001B[39m ax\n\u001B[0;32m    258\u001B[0m \u001B[38;5;28mself\u001B[39m\u001B[38;5;241m.\u001B[39m_imcache \u001B[38;5;241m=\u001B[39m \u001B[38;5;28;01mNone\u001B[39;00m\n\u001B[1;32m--> 260\u001B[0m \u001B[38;5;28;43mself\u001B[39;49m\u001B[38;5;241;43m.\u001B[39;49m\u001B[43mupdate\u001B[49m\u001B[43m(\u001B[49m\u001B[43mkwargs\u001B[49m\u001B[43m)\u001B[49m\n",
      "File \u001B[1;32m~\\Anaconda3\\envs\\hspy_environment\\lib\\site-packages\\matplotlib\\artist.py:1064\u001B[0m, in \u001B[0;36mArtist.update\u001B[1;34m(self, props)\u001B[0m\n\u001B[0;32m   1062\u001B[0m             func \u001B[38;5;241m=\u001B[39m \u001B[38;5;28mgetattr\u001B[39m(\u001B[38;5;28mself\u001B[39m, \u001B[38;5;124mf\u001B[39m\u001B[38;5;124m\"\u001B[39m\u001B[38;5;124mset_\u001B[39m\u001B[38;5;132;01m{\u001B[39;00mk\u001B[38;5;132;01m}\u001B[39;00m\u001B[38;5;124m\"\u001B[39m, \u001B[38;5;28;01mNone\u001B[39;00m)\n\u001B[0;32m   1063\u001B[0m             \u001B[38;5;28;01mif\u001B[39;00m \u001B[38;5;129;01mnot\u001B[39;00m callable(func):\n\u001B[1;32m-> 1064\u001B[0m                 \u001B[38;5;28;01mraise\u001B[39;00m \u001B[38;5;167;01mAttributeError\u001B[39;00m(\u001B[38;5;124mf\u001B[39m\u001B[38;5;124m\"\u001B[39m\u001B[38;5;132;01m{\u001B[39;00m\u001B[38;5;28mtype\u001B[39m(\u001B[38;5;28mself\u001B[39m)\u001B[38;5;241m.\u001B[39m\u001B[38;5;18m__name__\u001B[39m\u001B[38;5;132;01m!r}\u001B[39;00m\u001B[38;5;124m object \u001B[39m\u001B[38;5;124m\"\u001B[39m\n\u001B[0;32m   1065\u001B[0m                                      \u001B[38;5;124mf\u001B[39m\u001B[38;5;124m\"\u001B[39m\u001B[38;5;124mhas no property \u001B[39m\u001B[38;5;132;01m{\u001B[39;00mk\u001B[38;5;132;01m!r}\u001B[39;00m\u001B[38;5;124m\"\u001B[39m)\n\u001B[0;32m   1066\u001B[0m             ret\u001B[38;5;241m.\u001B[39mappend(func(v))\n\u001B[0;32m   1067\u001B[0m \u001B[38;5;28;01mif\u001B[39;00m ret:\n",
      "\u001B[1;31mAttributeError\u001B[0m: 'AxesImage' object has no property 'navigator_dimension'"
     ]
    }
   ],
   "source": [
    "roi = hs.roi.CircleROI(cx = 32, cy=32, r = 20, r_inner=0)\n",
    "s.plot(navigator_dimension=1) # plot signal to have where to display the widget\n",
    "imr = roi.interactive(s.T, navigation_signal=s, color=\"red\")\n",
    "roi(imr).plot()"
   ]
  },
  {
   "cell_type": "code",
   "execution_count": 139,
   "id": "51598986-1357-4b12-86dd-9898c0b40098",
   "metadata": {
    "pycharm": {
     "name": "#%%\n"
    }
   },
   "outputs": [
    {
     "ename": "AttributeError",
     "evalue": "'NoneType' object has no attribute 'plot'",
     "output_type": "error",
     "traceback": [
      "\u001B[1;31m---------------------------------------------------------------------------\u001B[0m",
      "\u001B[1;31mAttributeError\u001B[0m                            Traceback (most recent call last)",
      "Input \u001B[1;32mIn [139]\u001B[0m, in \u001B[0;36m<cell line: 1>\u001B[1;34m()\u001B[0m\n\u001B[1;32m----> 1\u001B[0m \u001B[43mnav\u001B[49m\u001B[38;5;241;43m.\u001B[39;49m\u001B[43mplot\u001B[49m()\n",
      "\u001B[1;31mAttributeError\u001B[0m: 'NoneType' object has no attribute 'plot'"
     ]
    }
   ],
   "source": [
    "nav.plot()"
   ]
  },
  {
   "cell_type": "code",
   "execution_count": 143,
   "id": "cf28b4e5-bf8f-4623-9583-634e686814a2",
   "metadata": {
    "pycharm": {
     "name": "#%%\n"
    }
   },
   "outputs": [],
   "source": [
    "imr = roi.interactive(s,navigation_signal=nav,color='red')"
   ]
  },
  {
   "cell_type": "code",
   "execution_count": 144,
   "id": "c76c3dd3-c5b3-4f8b-a0b2-07f5227340d4",
   "metadata": {
    "pycharm": {
     "name": "#%%\n"
    }
   },
   "outputs": [
    {
     "name": "stdout",
     "output_type": "stream",
     "text": [
      "[########################################] | 100% Completed |  0.1s\n"
     ]
    }
   ],
   "source": [
    "imr.plot()"
   ]
  },
  {
   "cell_type": "code",
   "execution_count": 204,
   "id": "1bbcd5a6-8d3b-41e6-a443-3724b030e86e",
   "metadata": {
    "collapsed": true,
    "jupyter": {
     "outputs_hidden": true
    },
    "tags": [],
    "pycharm": {
     "name": "#%%\n"
    }
   },
   "outputs": [
    {
     "ename": "KeyboardInterrupt",
     "evalue": "",
     "output_type": "error",
     "traceback": [
      "\u001B[1;31m---------------------------------------------------------------------------\u001B[0m",
      "\u001B[1;31mKeyboardInterrupt\u001B[0m                         Traceback (most recent call last)",
      "Input \u001B[1;32mIn [204]\u001B[0m, in \u001B[0;36m<cell line: 1>\u001B[1;34m()\u001B[0m\n\u001B[1;32m----> 1\u001B[0m \u001B[43ms\u001B[49m\u001B[38;5;241;43m.\u001B[39;49m\u001B[43mplot_integrated_intensity\u001B[49m\u001B[43m(\u001B[49m\u001B[43mroi\u001B[49m\u001B[43m)\u001B[49m\n",
      "File \u001B[1;32m~\\Anaconda3\\envs\\hspy_environment\\lib\\site-packages\\pyxem\\signals\\common_diffraction.py:127\u001B[0m, in \u001B[0;36mCommonDiffraction.plot_integrated_intensity\u001B[1;34m(self, roi, out_signal_axes, **kwargs)\u001B[0m\n\u001B[0;32m    118\u001B[0m interactive(\n\u001B[0;32m    119\u001B[0m     sliced_signal\u001B[38;5;241m.\u001B[39msum,\n\u001B[0;32m    120\u001B[0m     axis\u001B[38;5;241m=\u001B[39msliced_signal\u001B[38;5;241m.\u001B[39maxes_manager\u001B[38;5;241m.\u001B[39msignal_axes,\n\u001B[1;32m   (...)\u001B[0m\n\u001B[0;32m    123\u001B[0m     out\u001B[38;5;241m=\u001B[39mout,\n\u001B[0;32m    124\u001B[0m )\n\u001B[0;32m    126\u001B[0m \u001B[38;5;66;03m# Plot the result\u001B[39;00m\n\u001B[1;32m--> 127\u001B[0m out\u001B[38;5;241m.\u001B[39mplot(\u001B[38;5;241m*\u001B[39m\u001B[38;5;241m*\u001B[39mkwargs)\n",
      "File \u001B[1;32m~\\Anaconda3\\envs\\hspy_environment\\lib\\site-packages\\hyperspy\\_signals\\lazy.py:1237\u001B[0m, in \u001B[0;36mLazySignal.plot\u001B[1;34m(self, navigator, **kwargs)\u001B[0m\n\u001B[0;32m   1235\u001B[0m         \u001B[38;5;28;01melif\u001B[39;00m nav_dim \u001B[38;5;241m>\u001B[39m \u001B[38;5;241m2\u001B[39m:\n\u001B[0;32m   1236\u001B[0m             navigator \u001B[38;5;241m=\u001B[39m \u001B[38;5;124m'\u001B[39m\u001B[38;5;124mslider\u001B[39m\u001B[38;5;124m'\u001B[39m\n\u001B[1;32m-> 1237\u001B[0m \u001B[38;5;28msuper\u001B[39m()\u001B[38;5;241m.\u001B[39mplot(navigator\u001B[38;5;241m=\u001B[39mnavigator, \u001B[38;5;241m*\u001B[39m\u001B[38;5;241m*\u001B[39mkwargs)\n",
      "File \u001B[1;32m~\\Anaconda3\\envs\\hspy_environment\\lib\\site-packages\\hyperspy\\_signals\\signal2d.py:355\u001B[0m, in \u001B[0;36mSignal2D.plot\u001B[1;34m(self, navigator, plot_markers, autoscale, saturated_pixels, norm, vmin, vmax, gamma, linthresh, linscale, scalebar, scalebar_color, axes_ticks, axes_off, axes_manager, no_nans, colorbar, centre_colormap, min_aspect, navigator_kwds, **kwargs)\u001B[0m\n\u001B[0;32m    352\u001B[0m     \u001B[38;5;28;01mif\u001B[39;00m c \u001B[38;5;129;01mnot\u001B[39;00m \u001B[38;5;129;01min\u001B[39;00m [\u001B[38;5;124m'\u001B[39m\u001B[38;5;124mx\u001B[39m\u001B[38;5;124m'\u001B[39m, \u001B[38;5;124m'\u001B[39m\u001B[38;5;124my\u001B[39m\u001B[38;5;124m'\u001B[39m, \u001B[38;5;124m'\u001B[39m\u001B[38;5;124mv\u001B[39m\u001B[38;5;124m'\u001B[39m]:\n\u001B[0;32m    353\u001B[0m         \u001B[38;5;28;01mraise\u001B[39;00m \u001B[38;5;167;01mValueError\u001B[39;00m(\u001B[38;5;124m\"\u001B[39m\u001B[38;5;124m`autoscale` only accepts \u001B[39m\u001B[38;5;124m'\u001B[39m\u001B[38;5;124mx\u001B[39m\u001B[38;5;124m'\u001B[39m\u001B[38;5;124m, \u001B[39m\u001B[38;5;124m'\u001B[39m\u001B[38;5;124my\u001B[39m\u001B[38;5;124m'\u001B[39m\u001B[38;5;124m, \u001B[39m\u001B[38;5;124m'\u001B[39m\u001B[38;5;124mv\u001B[39m\u001B[38;5;124m'\u001B[39m\u001B[38;5;124m as \u001B[39m\u001B[38;5;124m\"\u001B[39m\n\u001B[0;32m    354\u001B[0m                          \u001B[38;5;124m\"\u001B[39m\u001B[38;5;124mvalid characters.\u001B[39m\u001B[38;5;124m\"\u001B[39m)\n\u001B[1;32m--> 355\u001B[0m \u001B[38;5;28msuper\u001B[39m()\u001B[38;5;241m.\u001B[39mplot(\n\u001B[0;32m    356\u001B[0m     navigator\u001B[38;5;241m=\u001B[39mnavigator,\n\u001B[0;32m    357\u001B[0m     plot_markers\u001B[38;5;241m=\u001B[39mplot_markers,\n\u001B[0;32m    358\u001B[0m     autoscale\u001B[38;5;241m=\u001B[39mautoscale,\n\u001B[0;32m    359\u001B[0m     saturated_pixels\u001B[38;5;241m=\u001B[39msaturated_pixels,\n\u001B[0;32m    360\u001B[0m     norm\u001B[38;5;241m=\u001B[39mnorm,\n\u001B[0;32m    361\u001B[0m     vmin\u001B[38;5;241m=\u001B[39mvmin,\n\u001B[0;32m    362\u001B[0m     vmax\u001B[38;5;241m=\u001B[39mvmax,\n\u001B[0;32m    363\u001B[0m     gamma\u001B[38;5;241m=\u001B[39mgamma,\n\u001B[0;32m    364\u001B[0m     linthresh\u001B[38;5;241m=\u001B[39mlinthresh,\n\u001B[0;32m    365\u001B[0m     linscale\u001B[38;5;241m=\u001B[39mlinscale,\n\u001B[0;32m    366\u001B[0m     scalebar\u001B[38;5;241m=\u001B[39mscalebar,\n\u001B[0;32m    367\u001B[0m     scalebar_color\u001B[38;5;241m=\u001B[39mscalebar_color,\n\u001B[0;32m    368\u001B[0m     axes_ticks\u001B[38;5;241m=\u001B[39maxes_ticks,\n\u001B[0;32m    369\u001B[0m     axes_off\u001B[38;5;241m=\u001B[39maxes_off,\n\u001B[0;32m    370\u001B[0m     axes_manager\u001B[38;5;241m=\u001B[39maxes_manager,\n\u001B[0;32m    371\u001B[0m     no_nans\u001B[38;5;241m=\u001B[39mno_nans,\n\u001B[0;32m    372\u001B[0m     colorbar\u001B[38;5;241m=\u001B[39mcolorbar,\n\u001B[0;32m    373\u001B[0m     centre_colormap\u001B[38;5;241m=\u001B[39mcentre_colormap,\n\u001B[0;32m    374\u001B[0m     min_aspect\u001B[38;5;241m=\u001B[39mmin_aspect,\n\u001B[0;32m    375\u001B[0m     navigator_kwds\u001B[38;5;241m=\u001B[39mnavigator_kwds,\n\u001B[0;32m    376\u001B[0m     \u001B[38;5;241m*\u001B[39m\u001B[38;5;241m*\u001B[39mkwargs\n\u001B[0;32m    377\u001B[0m )\n",
      "File \u001B[1;32m~\\Anaconda3\\envs\\hspy_environment\\lib\\site-packages\\hyperspy\\signal.py:2899\u001B[0m, in \u001B[0;36mBaseSignal.plot\u001B[1;34m(self, navigator, axes_manager, plot_markers, **kwargs)\u001B[0m\n\u001B[0;32m   2894\u001B[0m     \u001B[38;5;28;01melse\u001B[39;00m:\n\u001B[0;32m   2895\u001B[0m         \u001B[38;5;28;01mraise\u001B[39;00m \u001B[38;5;167;01mValueError\u001B[39;00m(\n\u001B[0;32m   2896\u001B[0m             \u001B[38;5;124m'\u001B[39m\u001B[38;5;124mnavigator must be one of \u001B[39m\u001B[38;5;124m\"\u001B[39m\u001B[38;5;124mspectrum\u001B[39m\u001B[38;5;124m\"\u001B[39m\u001B[38;5;124m,\u001B[39m\u001B[38;5;124m\"\u001B[39m\u001B[38;5;124mauto\u001B[39m\u001B[38;5;124m\"\u001B[39m\u001B[38;5;124m, \u001B[39m\u001B[38;5;124m'\u001B[39m\n\u001B[0;32m   2897\u001B[0m             \u001B[38;5;124m'\u001B[39m\u001B[38;5;124m\"\u001B[39m\u001B[38;5;124mslider\u001B[39m\u001B[38;5;124m\"\u001B[39m\u001B[38;5;124m, None, a Signal instance\u001B[39m\u001B[38;5;124m'\u001B[39m)\n\u001B[1;32m-> 2899\u001B[0m \u001B[38;5;28mself\u001B[39m\u001B[38;5;241m.\u001B[39m_plot\u001B[38;5;241m.\u001B[39mplot(\u001B[38;5;241m*\u001B[39m\u001B[38;5;241m*\u001B[39mkwargs)\n\u001B[0;32m   2900\u001B[0m \u001B[38;5;28mself\u001B[39m\u001B[38;5;241m.\u001B[39mevents\u001B[38;5;241m.\u001B[39mdata_changed\u001B[38;5;241m.\u001B[39mconnect(\u001B[38;5;28mself\u001B[39m\u001B[38;5;241m.\u001B[39mupdate_plot, [])\n\u001B[0;32m   2902\u001B[0m p \u001B[38;5;241m=\u001B[39m \u001B[38;5;28mself\u001B[39m\u001B[38;5;241m.\u001B[39m_plot\u001B[38;5;241m.\u001B[39msignal_plot \u001B[38;5;28;01mif\u001B[39;00m \u001B[38;5;28mself\u001B[39m\u001B[38;5;241m.\u001B[39m_plot\u001B[38;5;241m.\u001B[39msignal_plot \u001B[38;5;28;01melse\u001B[39;00m \u001B[38;5;28mself\u001B[39m\u001B[38;5;241m.\u001B[39m_plot\u001B[38;5;241m.\u001B[39mnavigator_plot\n",
      "File \u001B[1;32m~\\Anaconda3\\envs\\hspy_environment\\lib\\site-packages\\hyperspy\\drawing\\mpl_he.py:193\u001B[0m, in \u001B[0;36mMPL_HyperExplorer.plot\u001B[1;34m(self, **kwargs)\u001B[0m\n\u001B[0;32m    190\u001B[0m     \u001B[38;5;28;01mif\u001B[39;00m pointer \u001B[38;5;129;01mis\u001B[39;00m \u001B[38;5;129;01mnot\u001B[39;00m \u001B[38;5;28;01mNone\u001B[39;00m:\n\u001B[0;32m    191\u001B[0m         \u001B[38;5;28mself\u001B[39m\u001B[38;5;241m.\u001B[39mnavigator_plot\u001B[38;5;241m.\u001B[39mevents\u001B[38;5;241m.\u001B[39mclosed\u001B[38;5;241m.\u001B[39mconnect(\n\u001B[0;32m    192\u001B[0m             \u001B[38;5;28mself\u001B[39m\u001B[38;5;241m.\u001B[39mpointer\u001B[38;5;241m.\u001B[39mdisconnect, [])\n\u001B[1;32m--> 193\u001B[0m \u001B[38;5;28mself\u001B[39m\u001B[38;5;241m.\u001B[39mplot_signal(\u001B[38;5;241m*\u001B[39m\u001B[38;5;241m*\u001B[39mkwargs)\n",
      "File \u001B[1;32m~\\Anaconda3\\envs\\hspy_environment\\lib\\site-packages\\hyperspy\\drawing\\mpl_hie.py:52\u001B[0m, in \u001B[0;36mMPL_HyperImage_Explorer.plot_signal\u001B[1;34m(self, **kwargs)\u001B[0m\n\u001B[0;32m     50\u001B[0m \u001B[38;5;28;01mif\u001B[39;00m \u001B[38;5;124m\"\u001B[39m\u001B[38;5;124mcmap\u001B[39m\u001B[38;5;124m\"\u001B[39m \u001B[38;5;129;01mnot\u001B[39;00m \u001B[38;5;129;01min\u001B[39;00m kwargs\u001B[38;5;241m.\u001B[39mkeys() \u001B[38;5;129;01mor\u001B[39;00m kwargs[\u001B[38;5;124m'\u001B[39m\u001B[38;5;124mcmap\u001B[39m\u001B[38;5;124m'\u001B[39m] \u001B[38;5;129;01mis\u001B[39;00m \u001B[38;5;28;01mNone\u001B[39;00m:\n\u001B[0;32m     51\u001B[0m     kwargs[\u001B[38;5;124m\"\u001B[39m\u001B[38;5;124mcmap\u001B[39m\u001B[38;5;124m\"\u001B[39m] \u001B[38;5;241m=\u001B[39m preferences\u001B[38;5;241m.\u001B[39mPlot\u001B[38;5;241m.\u001B[39mcmap_signal\n\u001B[1;32m---> 52\u001B[0m imf\u001B[38;5;241m.\u001B[39mplot(\u001B[38;5;241m*\u001B[39m\u001B[38;5;241m*\u001B[39mkwargs)\n\u001B[0;32m     53\u001B[0m \u001B[38;5;28mself\u001B[39m\u001B[38;5;241m.\u001B[39msignal_plot \u001B[38;5;241m=\u001B[39m imf\n\u001B[0;32m     55\u001B[0m \u001B[38;5;28;01mif\u001B[39;00m imf\u001B[38;5;241m.\u001B[39mfigure \u001B[38;5;129;01mis\u001B[39;00m \u001B[38;5;129;01mnot\u001B[39;00m \u001B[38;5;28;01mNone\u001B[39;00m:\n",
      "File \u001B[1;32m~\\Anaconda3\\envs\\hspy_environment\\lib\\site-packages\\hyperspy\\drawing\\image.py:360\u001B[0m, in \u001B[0;36mImagePlot.plot\u001B[1;34m(self, data_function_kwargs, **kwargs)\u001B[0m\n\u001B[0;32m    358\u001B[0m     \u001B[38;5;28;01mif\u001B[39;00m attribute \u001B[38;5;129;01min\u001B[39;00m kwargs\u001B[38;5;241m.\u001B[39mkeys():\n\u001B[0;32m    359\u001B[0m         \u001B[38;5;28msetattr\u001B[39m(\u001B[38;5;28mself\u001B[39m, attribute, kwargs\u001B[38;5;241m.\u001B[39mpop(attribute))\n\u001B[1;32m--> 360\u001B[0m \u001B[38;5;28mself\u001B[39m\u001B[38;5;241m.\u001B[39mupdate(data_changed\u001B[38;5;241m=\u001B[39m\u001B[38;5;28;01mTrue\u001B[39;00m, auto_contrast\u001B[38;5;241m=\u001B[39m\u001B[38;5;28;01mTrue\u001B[39;00m, \u001B[38;5;241m*\u001B[39m\u001B[38;5;241m*\u001B[39mkwargs)\n\u001B[0;32m    361\u001B[0m \u001B[38;5;28;01mif\u001B[39;00m \u001B[38;5;28mself\u001B[39m\u001B[38;5;241m.\u001B[39mscalebar \u001B[38;5;129;01mis\u001B[39;00m \u001B[38;5;28;01mTrue\u001B[39;00m:\n\u001B[0;32m    362\u001B[0m     \u001B[38;5;28;01mif\u001B[39;00m \u001B[38;5;28mself\u001B[39m\u001B[38;5;241m.\u001B[39mpixel_units \u001B[38;5;129;01mis\u001B[39;00m \u001B[38;5;129;01mnot\u001B[39;00m \u001B[38;5;28;01mNone\u001B[39;00m:\n",
      "File \u001B[1;32m~\\Anaconda3\\envs\\hspy_environment\\lib\\site-packages\\hyperspy\\drawing\\image.py:438\u001B[0m, in \u001B[0;36mImagePlot.update\u001B[1;34m(self, data_changed, auto_contrast, vmin, vmax, **kwargs)\u001B[0m\n\u001B[0;32m    432\u001B[0m \u001B[38;5;28;01mif\u001B[39;00m data_changed:\n\u001B[0;32m    433\u001B[0m     \u001B[38;5;66;03m# When working with lazy signals the following may reread the data\u001B[39;00m\n\u001B[0;32m    434\u001B[0m     \u001B[38;5;66;03m# from disk unnecessarily, for example when updating the image just\u001B[39;00m\n\u001B[0;32m    435\u001B[0m     \u001B[38;5;66;03m# to recompute the histogram to adjust the contrast. In those cases\u001B[39;00m\n\u001B[0;32m    436\u001B[0m     \u001B[38;5;66;03m# use `data_changed=True`.\u001B[39;00m\n\u001B[0;32m    437\u001B[0m     _logger\u001B[38;5;241m.\u001B[39mdebug(\u001B[38;5;124m\"\u001B[39m\u001B[38;5;124mUpdating image slowly because `data_changed=True`\u001B[39m\u001B[38;5;124m\"\u001B[39m)\n\u001B[1;32m--> 438\u001B[0m     \u001B[38;5;28;43mself\u001B[39;49m\u001B[38;5;241;43m.\u001B[39;49m\u001B[43m_update_data\u001B[49m\u001B[43m(\u001B[49m\u001B[43m)\u001B[49m\n\u001B[0;32m    439\u001B[0m data \u001B[38;5;241m=\u001B[39m \u001B[38;5;28mself\u001B[39m\u001B[38;5;241m.\u001B[39m_current_data\n\u001B[0;32m    440\u001B[0m \u001B[38;5;28;01mif\u001B[39;00m rgb_tools\u001B[38;5;241m.\u001B[39mis_rgbx(data):\n",
      "File \u001B[1;32m~\\Anaconda3\\envs\\hspy_environment\\lib\\site-packages\\hyperspy\\drawing\\image.py:399\u001B[0m, in \u001B[0;36mImagePlot._update_data\u001B[1;34m(self)\u001B[0m\n\u001B[0;32m    397\u001B[0m \u001B[38;5;28;01mdef\u001B[39;00m \u001B[38;5;21m_update_data\u001B[39m(\u001B[38;5;28mself\u001B[39m):\n\u001B[0;32m    398\u001B[0m     \u001B[38;5;66;03m# self._current_data caches the displayed data.\u001B[39;00m\n\u001B[1;32m--> 399\u001B[0m     data \u001B[38;5;241m=\u001B[39m \u001B[38;5;28mself\u001B[39m\u001B[38;5;241m.\u001B[39mdata_function(axes_manager\u001B[38;5;241m=\u001B[39m\u001B[38;5;28mself\u001B[39m\u001B[38;5;241m.\u001B[39maxes_manager,\n\u001B[0;32m    400\u001B[0m             \u001B[38;5;241m*\u001B[39m\u001B[38;5;241m*\u001B[39m\u001B[38;5;28mself\u001B[39m\u001B[38;5;241m.\u001B[39mdata_function_kwargs)\n\u001B[0;32m    401\u001B[0m     \u001B[38;5;66;03m# the colorbar of matplotlib ~< 3.2 doesn't support bool array\u001B[39;00m\n\u001B[0;32m    402\u001B[0m     \u001B[38;5;28;01mif\u001B[39;00m data\u001B[38;5;241m.\u001B[39mdtype \u001B[38;5;241m==\u001B[39m \u001B[38;5;28mbool\u001B[39m:\n",
      "File \u001B[1;32m~\\Anaconda3\\envs\\hspy_environment\\lib\\site-packages\\hyperspy\\signal.py:2716\u001B[0m, in \u001B[0;36mBaseSignal.__call__\u001B[1;34m(self, axes_manager, fft_shift, as_numpy)\u001B[0m\n\u001B[0;32m   2714\u001B[0m indices \u001B[38;5;241m=\u001B[39m axes_manager\u001B[38;5;241m.\u001B[39m_getitem_tuple\n\u001B[0;32m   2715\u001B[0m \u001B[38;5;28;01mif\u001B[39;00m \u001B[38;5;28mself\u001B[39m\u001B[38;5;241m.\u001B[39m_lazy:\n\u001B[1;32m-> 2716\u001B[0m     value \u001B[38;5;241m=\u001B[39m \u001B[38;5;28;43mself\u001B[39;49m\u001B[38;5;241;43m.\u001B[39;49m\u001B[43m_get_cache_dask_chunk\u001B[49m\u001B[43m(\u001B[49m\u001B[43mindices\u001B[49m\u001B[43m)\u001B[49m\n\u001B[0;32m   2717\u001B[0m \u001B[38;5;28;01melse\u001B[39;00m:\n\u001B[0;32m   2718\u001B[0m     value \u001B[38;5;241m=\u001B[39m \u001B[38;5;28mself\u001B[39m\u001B[38;5;241m.\u001B[39mdata\u001B[38;5;241m.\u001B[39m\u001B[38;5;21m__getitem__\u001B[39m(indices)\n",
      "File \u001B[1;32m~\\Anaconda3\\envs\\hspy_environment\\lib\\site-packages\\hyperspy\\_signals\\lazy.py:608\u001B[0m, in \u001B[0;36mLazySignal._get_cache_dask_chunk\u001B[1;34m(self, indices)\u001B[0m\n\u001B[0;32m    605\u001B[0m \u001B[38;5;28;01mif\u001B[39;00m (chunk_slice \u001B[38;5;241m!=\u001B[39m \u001B[38;5;28mself\u001B[39m\u001B[38;5;241m.\u001B[39m_cache_dask_chunk_slice \u001B[38;5;129;01mor\u001B[39;00m\n\u001B[0;32m    606\u001B[0m         \u001B[38;5;28mself\u001B[39m\u001B[38;5;241m.\u001B[39m_cache_dask_chunk \u001B[38;5;129;01mis\u001B[39;00m \u001B[38;5;28;01mNone\u001B[39;00m):\n\u001B[0;32m    607\u001B[0m     \u001B[38;5;28;01mwith\u001B[39;00m dummy_context_manager():\n\u001B[1;32m--> 608\u001B[0m         \u001B[38;5;28mself\u001B[39m\u001B[38;5;241m.\u001B[39m_cache_dask_chunk \u001B[38;5;241m=\u001B[39m \u001B[38;5;28;43mself\u001B[39;49m\u001B[38;5;241;43m.\u001B[39;49m\u001B[43mdata\u001B[49m\u001B[38;5;241;43m.\u001B[39;49m\u001B[38;5;21;43m__getitem__\u001B[39;49m\u001B[43m(\u001B[49m\u001B[43mchunk_slice\u001B[49m\u001B[43m)\u001B[49m\u001B[38;5;241;43m.\u001B[39;49m\u001B[43mcompute\u001B[49m\u001B[43m(\u001B[49m\u001B[43m)\u001B[49m\n\u001B[0;32m    609\u001B[0m     \u001B[38;5;28mself\u001B[39m\u001B[38;5;241m.\u001B[39m_cache_dask_chunk_slice \u001B[38;5;241m=\u001B[39m chunk_slice\n\u001B[0;32m    611\u001B[0m indices \u001B[38;5;241m=\u001B[39m \u001B[38;5;28mlist\u001B[39m(indices)\n",
      "File \u001B[1;32m~\\Anaconda3\\envs\\hspy_environment\\lib\\site-packages\\dask\\base.py:292\u001B[0m, in \u001B[0;36mDaskMethodsMixin.compute\u001B[1;34m(self, **kwargs)\u001B[0m\n\u001B[0;32m    268\u001B[0m \u001B[38;5;28;01mdef\u001B[39;00m \u001B[38;5;21mcompute\u001B[39m(\u001B[38;5;28mself\u001B[39m, \u001B[38;5;241m*\u001B[39m\u001B[38;5;241m*\u001B[39mkwargs):\n\u001B[0;32m    269\u001B[0m     \u001B[38;5;124;03m\"\"\"Compute this dask collection\u001B[39;00m\n\u001B[0;32m    270\u001B[0m \n\u001B[0;32m    271\u001B[0m \u001B[38;5;124;03m    This turns a lazy Dask collection into its in-memory equivalent.\u001B[39;00m\n\u001B[1;32m   (...)\u001B[0m\n\u001B[0;32m    290\u001B[0m \u001B[38;5;124;03m    dask.base.compute\u001B[39;00m\n\u001B[0;32m    291\u001B[0m \u001B[38;5;124;03m    \"\"\"\u001B[39;00m\n\u001B[1;32m--> 292\u001B[0m     (result,) \u001B[38;5;241m=\u001B[39m compute(\u001B[38;5;28mself\u001B[39m, traverse\u001B[38;5;241m=\u001B[39m\u001B[38;5;28;01mFalse\u001B[39;00m, \u001B[38;5;241m*\u001B[39m\u001B[38;5;241m*\u001B[39mkwargs)\n\u001B[0;32m    293\u001B[0m     \u001B[38;5;28;01mreturn\u001B[39;00m result\n",
      "File \u001B[1;32m~\\Anaconda3\\envs\\hspy_environment\\lib\\site-packages\\dask\\base.py:575\u001B[0m, in \u001B[0;36mcompute\u001B[1;34m(traverse, optimize_graph, scheduler, get, *args, **kwargs)\u001B[0m\n\u001B[0;32m    572\u001B[0m     keys\u001B[38;5;241m.\u001B[39mappend(x\u001B[38;5;241m.\u001B[39m__dask_keys__())\n\u001B[0;32m    573\u001B[0m     postcomputes\u001B[38;5;241m.\u001B[39mappend(x\u001B[38;5;241m.\u001B[39m__dask_postcompute__())\n\u001B[1;32m--> 575\u001B[0m results \u001B[38;5;241m=\u001B[39m schedule(dsk, keys, \u001B[38;5;241m*\u001B[39m\u001B[38;5;241m*\u001B[39mkwargs)\n\u001B[0;32m    576\u001B[0m \u001B[38;5;28;01mreturn\u001B[39;00m repack([f(r, \u001B[38;5;241m*\u001B[39ma) \u001B[38;5;28;01mfor\u001B[39;00m r, (f, a) \u001B[38;5;129;01min\u001B[39;00m \u001B[38;5;28mzip\u001B[39m(results, postcomputes)])\n",
      "File \u001B[1;32m~\\Anaconda3\\envs\\hspy_environment\\lib\\site-packages\\dask\\threaded.py:81\u001B[0m, in \u001B[0;36mget\u001B[1;34m(dsk, result, cache, num_workers, pool, **kwargs)\u001B[0m\n\u001B[0;32m     78\u001B[0m     \u001B[38;5;28;01melif\u001B[39;00m \u001B[38;5;28misinstance\u001B[39m(pool, multiprocessing\u001B[38;5;241m.\u001B[39mpool\u001B[38;5;241m.\u001B[39mPool):\n\u001B[0;32m     79\u001B[0m         pool \u001B[38;5;241m=\u001B[39m MultiprocessingPoolExecutor(pool)\n\u001B[1;32m---> 81\u001B[0m results \u001B[38;5;241m=\u001B[39m get_async(\n\u001B[0;32m     82\u001B[0m     pool\u001B[38;5;241m.\u001B[39msubmit,\n\u001B[0;32m     83\u001B[0m     pool\u001B[38;5;241m.\u001B[39m_max_workers,\n\u001B[0;32m     84\u001B[0m     dsk,\n\u001B[0;32m     85\u001B[0m     result,\n\u001B[0;32m     86\u001B[0m     cache\u001B[38;5;241m=\u001B[39mcache,\n\u001B[0;32m     87\u001B[0m     get_id\u001B[38;5;241m=\u001B[39m_thread_get_id,\n\u001B[0;32m     88\u001B[0m     pack_exception\u001B[38;5;241m=\u001B[39mpack_exception,\n\u001B[0;32m     89\u001B[0m     \u001B[38;5;241m*\u001B[39m\u001B[38;5;241m*\u001B[39mkwargs,\n\u001B[0;32m     90\u001B[0m )\n\u001B[0;32m     92\u001B[0m \u001B[38;5;66;03m# Cleanup pools associated to dead threads\u001B[39;00m\n\u001B[0;32m     93\u001B[0m \u001B[38;5;28;01mwith\u001B[39;00m pools_lock:\n",
      "File \u001B[1;32m~\\Anaconda3\\envs\\hspy_environment\\lib\\site-packages\\dask\\local.py:497\u001B[0m, in \u001B[0;36mget_async\u001B[1;34m(submit, num_workers, dsk, result, cache, get_id, rerun_exceptions_locally, pack_exception, raise_exception, callbacks, dumps, loads, chunksize, **kwargs)\u001B[0m\n\u001B[0;32m    495\u001B[0m \u001B[38;5;28;01mwhile\u001B[39;00m state[\u001B[38;5;124m\"\u001B[39m\u001B[38;5;124mwaiting\u001B[39m\u001B[38;5;124m\"\u001B[39m] \u001B[38;5;129;01mor\u001B[39;00m state[\u001B[38;5;124m\"\u001B[39m\u001B[38;5;124mready\u001B[39m\u001B[38;5;124m\"\u001B[39m] \u001B[38;5;129;01mor\u001B[39;00m state[\u001B[38;5;124m\"\u001B[39m\u001B[38;5;124mrunning\u001B[39m\u001B[38;5;124m\"\u001B[39m]:\n\u001B[0;32m    496\u001B[0m     fire_tasks(chunksize)\n\u001B[1;32m--> 497\u001B[0m     \u001B[38;5;28;01mfor\u001B[39;00m key, res_info, failed \u001B[38;5;129;01min\u001B[39;00m \u001B[43mqueue_get\u001B[49m\u001B[43m(\u001B[49m\u001B[43mqueue\u001B[49m\u001B[43m)\u001B[49m\u001B[38;5;241m.\u001B[39mresult():\n\u001B[0;32m    498\u001B[0m         \u001B[38;5;28;01mif\u001B[39;00m failed:\n\u001B[0;32m    499\u001B[0m             exc, tb \u001B[38;5;241m=\u001B[39m loads(res_info)\n",
      "File \u001B[1;32m~\\Anaconda3\\envs\\hspy_environment\\lib\\site-packages\\dask\\local.py:127\u001B[0m, in \u001B[0;36mqueue_get\u001B[1;34m(q)\u001B[0m\n\u001B[0;32m    125\u001B[0m \u001B[38;5;28;01mwhile\u001B[39;00m \u001B[38;5;28;01mTrue\u001B[39;00m:\n\u001B[0;32m    126\u001B[0m     \u001B[38;5;28;01mtry\u001B[39;00m:\n\u001B[1;32m--> 127\u001B[0m         \u001B[38;5;28;01mreturn\u001B[39;00m \u001B[43mq\u001B[49m\u001B[38;5;241;43m.\u001B[39;49m\u001B[43mget\u001B[49m\u001B[43m(\u001B[49m\u001B[43mblock\u001B[49m\u001B[38;5;241;43m=\u001B[39;49m\u001B[38;5;28;43;01mTrue\u001B[39;49;00m\u001B[43m,\u001B[49m\u001B[43m \u001B[49m\u001B[43mtimeout\u001B[49m\u001B[38;5;241;43m=\u001B[39;49m\u001B[38;5;241;43m0.1\u001B[39;49m\u001B[43m)\u001B[49m\n\u001B[0;32m    128\u001B[0m     \u001B[38;5;28;01mexcept\u001B[39;00m Empty:\n\u001B[0;32m    129\u001B[0m         \u001B[38;5;28;01mpass\u001B[39;00m\n",
      "File \u001B[1;32m~\\Anaconda3\\envs\\hspy_environment\\lib\\queue.py:180\u001B[0m, in \u001B[0;36mQueue.get\u001B[1;34m(self, block, timeout)\u001B[0m\n\u001B[0;32m    178\u001B[0m         \u001B[38;5;28;01mif\u001B[39;00m remaining \u001B[38;5;241m<\u001B[39m\u001B[38;5;241m=\u001B[39m \u001B[38;5;241m0.0\u001B[39m:\n\u001B[0;32m    179\u001B[0m             \u001B[38;5;28;01mraise\u001B[39;00m Empty\n\u001B[1;32m--> 180\u001B[0m         \u001B[38;5;28;43mself\u001B[39;49m\u001B[38;5;241;43m.\u001B[39;49m\u001B[43mnot_empty\u001B[49m\u001B[38;5;241;43m.\u001B[39;49m\u001B[43mwait\u001B[49m\u001B[43m(\u001B[49m\u001B[43mremaining\u001B[49m\u001B[43m)\u001B[49m\n\u001B[0;32m    181\u001B[0m item \u001B[38;5;241m=\u001B[39m \u001B[38;5;28mself\u001B[39m\u001B[38;5;241m.\u001B[39m_get()\n\u001B[0;32m    182\u001B[0m \u001B[38;5;28mself\u001B[39m\u001B[38;5;241m.\u001B[39mnot_full\u001B[38;5;241m.\u001B[39mnotify()\n",
      "File \u001B[1;32m~\\Anaconda3\\envs\\hspy_environment\\lib\\threading.py:316\u001B[0m, in \u001B[0;36mCondition.wait\u001B[1;34m(self, timeout)\u001B[0m\n\u001B[0;32m    314\u001B[0m \u001B[38;5;28;01melse\u001B[39;00m:\n\u001B[0;32m    315\u001B[0m     \u001B[38;5;28;01mif\u001B[39;00m timeout \u001B[38;5;241m>\u001B[39m \u001B[38;5;241m0\u001B[39m:\n\u001B[1;32m--> 316\u001B[0m         gotit \u001B[38;5;241m=\u001B[39m \u001B[43mwaiter\u001B[49m\u001B[38;5;241;43m.\u001B[39;49m\u001B[43macquire\u001B[49m\u001B[43m(\u001B[49m\u001B[38;5;28;43;01mTrue\u001B[39;49;00m\u001B[43m,\u001B[49m\u001B[43m \u001B[49m\u001B[43mtimeout\u001B[49m\u001B[43m)\u001B[49m\n\u001B[0;32m    317\u001B[0m     \u001B[38;5;28;01melse\u001B[39;00m:\n\u001B[0;32m    318\u001B[0m         gotit \u001B[38;5;241m=\u001B[39m waiter\u001B[38;5;241m.\u001B[39macquire(\u001B[38;5;28;01mFalse\u001B[39;00m)\n",
      "\u001B[1;31mKeyboardInterrupt\u001B[0m: "
     ]
    }
   ],
   "source": [
    "s.plot_integrated_intensity(roi)"
   ]
  },
  {
   "cell_type": "code",
   "execution_count": 205,
   "id": "0dd8733d-fe72-499c-b541-de1827962730",
   "metadata": {
    "pycharm": {
     "name": "#%%\n"
    }
   },
   "outputs": [],
   "source": [
    "vdf = s.get_integrated_intensity(roi)"
   ]
  },
  {
   "cell_type": "markdown",
   "id": "71363e64",
   "metadata": {
    "pycharm": {
     "name": "#%% md\n"
    }
   },
   "source": [
    "I want to:\n",
    "* COM with scikit edge detection\n",
    "* remove dead pixels (remove hot pixels)\n",
    "* BF image (virtual detector) from 4D-STEM from month 04 \n",
    "* Strain stuff, read article from Wei\n",
    "* Annotate figures like Wei, combine 4D with HR"
   ]
  },
  {
   "cell_type": "markdown",
   "id": "491ec2bb-4cb5-4b5e-8694-d2103ea6001d",
   "metadata": {
    "pycharm": {
     "name": "#%% md\n"
    }
   },
   "source": [
    "## General commands"
   ]
  },
  {
   "cell_type": "markdown",
   "id": "52f84a1f-da5d-498a-b0ce-d27a50371e6f",
   "metadata": {
    "pycharm": {
     "name": "#%% md\n"
    }
   },
   "source": [
    "#### Crop 4D data"
   ]
  },
  {
   "cell_type": "code",
   "execution_count": 28,
   "id": "f1a8c04b",
   "metadata": {
    "pycharm": {
     "name": "#%%\n"
    }
   },
   "outputs": [],
   "source": [
    "s_new = s.inav[30:70,30:70]"
   ]
  },
  {
   "cell_type": "markdown",
   "id": "f503ae97-d490-45eb-a45d-1417f8dd39ba",
   "metadata": {
    "pycharm": {
     "name": "#%% md\n"
    }
   },
   "source": [
    "#### Image of diffraction disk (signal dimension)"
   ]
  },
  {
   "cell_type": "code",
   "execution_count": 51,
   "id": "6670ba08",
   "metadata": {
    "pycharm": {
     "name": "#%%\n"
    }
   },
   "outputs": [],
   "source": [
    "s.inav[10,10].plot()\n",
    "# s.inav[10,10].save('Disk.png')"
   ]
  },
  {
   "cell_type": "markdown",
   "id": "7b6364e1-7714-4a0e-a743-8f6852b1ed81",
   "metadata": {
    "pycharm": {
     "name": "#%% md\n"
    }
   },
   "source": [
    "#### Image of sample (navigator dimension)"
   ]
  },
  {
   "cell_type": "code",
   "execution_count": 41,
   "id": "19fd3537",
   "metadata": {
    "pycharm": {
     "name": "#%%\n"
    }
   },
   "outputs": [],
   "source": [
    "s.isig[10,10].plot()\n",
    "# s.isig[10,10].save('Sample.png')"
   ]
  },
  {
   "cell_type": "markdown",
   "id": "cc5f46ee-db02-40a9-973a-4b3012916abb",
   "metadata": {
    "pycharm": {
     "name": "#%% md\n"
    }
   },
   "source": [
    "#### Access axes manager"
   ]
  },
  {
   "cell_type": "code",
   "execution_count": 14,
   "id": "bc67219b",
   "metadata": {
    "pycharm": {
     "name": "#%%\n"
    }
   },
   "outputs": [
    {
     "data": {
      "application/vnd.jupyter.widget-view+json": {
       "model_id": "f91caedeacb145998fccea54fae8b449",
       "version_major": 2,
       "version_minor": 0
      },
      "text/plain": [
       "HBox(children=(Accordion(children=(VBox(children=(HBox(children=(Label(value='Name'), Text(value='Length')), l…"
      ]
     },
     "metadata": {},
     "output_type": "display_data"
    }
   ],
   "source": [
    "s.axes_manager.gui()"
   ]
  },
  {
   "cell_type": "markdown",
   "id": "95f04c70-571a-4851-9475-ea21a2628fa0",
   "metadata": {
    "pycharm": {
     "name": "#%% md\n"
    }
   },
   "source": [
    "#### Access data information "
   ]
  },
  {
   "cell_type": "code",
   "execution_count": 33,
   "id": "590725f9",
   "metadata": {
    "pycharm": {
     "name": "#%%\n"
    }
   },
   "outputs": [
    {
     "data": {
      "text/html": [
       "<table>\n",
       "    <tr>\n",
       "        <td>\n",
       "            <table>\n",
       "                <thead>\n",
       "                    <tr>\n",
       "                        <td> </td>\n",
       "                        <th> Array </th>\n",
       "                        <th> Chunk </th>\n",
       "                    </tr>\n",
       "                </thead>\n",
       "                <tbody>\n",
       "                    \n",
       "                    <tr>\n",
       "                        <th> Bytes </th>\n",
       "                        <td> 2.00 GiB </td>\n",
       "                        <td> 16.00 MiB </td>\n",
       "                    </tr>\n",
       "                    \n",
       "                    <tr>\n",
       "                        <th> Shape </th>\n",
       "                        <td> (128, 256, 256, 256) </td>\n",
       "                        <td> (16, 16, 256, 256) </td>\n",
       "                    </tr>\n",
       "                    <tr>\n",
       "                        <th> Count </th>\n",
       "                        <td> 14084364 Tasks </td>\n",
       "                        <td> 128 Chunks </td>\n",
       "                    </tr>\n",
       "                    <tr>\n",
       "                    <th> Type </th>\n",
       "                    <td> bool </td>\n",
       "                    <td> numpy.ndarray </td>\n",
       "                    </tr>\n",
       "                </tbody>\n",
       "            </table>\n",
       "        </td>\n",
       "        <td>\n",
       "        <svg width=\"500\" height=\"240\" style=\"stroke:rgb(0,0,0);stroke-width:1\" >\n",
       "\n",
       "  <!-- Horizontal lines -->\n",
       "  <line x1=\"0\" y1=\"0\" x2=\"60\" y2=\"0\" style=\"stroke-width:2\" />\n",
       "  <line x1=\"0\" y1=\"25\" x2=\"60\" y2=\"25\" style=\"stroke-width:2\" />\n",
       "\n",
       "  <!-- Vertical lines -->\n",
       "  <line x1=\"0\" y1=\"0\" x2=\"0\" y2=\"25\" style=\"stroke-width:2\" />\n",
       "  <line x1=\"7\" y1=\"0\" x2=\"7\" y2=\"25\" />\n",
       "  <line x1=\"15\" y1=\"0\" x2=\"15\" y2=\"25\" />\n",
       "  <line x1=\"22\" y1=\"0\" x2=\"22\" y2=\"25\" />\n",
       "  <line x1=\"30\" y1=\"0\" x2=\"30\" y2=\"25\" />\n",
       "  <line x1=\"37\" y1=\"0\" x2=\"37\" y2=\"25\" />\n",
       "  <line x1=\"45\" y1=\"0\" x2=\"45\" y2=\"25\" />\n",
       "  <line x1=\"52\" y1=\"0\" x2=\"52\" y2=\"25\" />\n",
       "  <line x1=\"60\" y1=\"0\" x2=\"60\" y2=\"25\" style=\"stroke-width:2\" />\n",
       "\n",
       "  <!-- Colored Rectangle -->\n",
       "  <polygon points=\"0.0,0.0 60.0,0.0 60.0,25.412616514582485 0.0,25.412616514582485\" style=\"fill:#ECB172A0;stroke-width:0\"/>\n",
       "\n",
       "  <!-- Text -->\n",
       "  <text x=\"30.000000\" y=\"45.412617\" font-size=\"1.0rem\" font-weight=\"100\" text-anchor=\"middle\" >128</text>\n",
       "  <text x=\"80.000000\" y=\"12.706308\" font-size=\"1.0rem\" font-weight=\"100\" text-anchor=\"middle\" transform=\"rotate(0,80.000000,12.706308)\">1</text>\n",
       "\n",
       "\n",
       "  <!-- Horizontal lines -->\n",
       "  <line x1=\"130\" y1=\"0\" x2=\"200\" y2=\"70\" style=\"stroke-width:2\" />\n",
       "  <line x1=\"130\" y1=\"120\" x2=\"200\" y2=\"190\" style=\"stroke-width:2\" />\n",
       "\n",
       "  <!-- Vertical lines -->\n",
       "  <line x1=\"130\" y1=\"0\" x2=\"130\" y2=\"120\" style=\"stroke-width:2\" />\n",
       "  <line x1=\"134\" y1=\"4\" x2=\"134\" y2=\"124\" />\n",
       "  <line x1=\"138\" y1=\"8\" x2=\"138\" y2=\"128\" />\n",
       "  <line x1=\"143\" y1=\"13\" x2=\"143\" y2=\"133\" />\n",
       "  <line x1=\"147\" y1=\"17\" x2=\"147\" y2=\"137\" />\n",
       "  <line x1=\"152\" y1=\"22\" x2=\"152\" y2=\"142\" />\n",
       "  <line x1=\"156\" y1=\"26\" x2=\"156\" y2=\"146\" />\n",
       "  <line x1=\"160\" y1=\"30\" x2=\"160\" y2=\"150\" />\n",
       "  <line x1=\"165\" y1=\"35\" x2=\"165\" y2=\"155\" />\n",
       "  <line x1=\"169\" y1=\"39\" x2=\"169\" y2=\"159\" />\n",
       "  <line x1=\"174\" y1=\"44\" x2=\"174\" y2=\"164\" />\n",
       "  <line x1=\"178\" y1=\"48\" x2=\"178\" y2=\"168\" />\n",
       "  <line x1=\"182\" y1=\"52\" x2=\"182\" y2=\"172\" />\n",
       "  <line x1=\"187\" y1=\"57\" x2=\"187\" y2=\"177\" />\n",
       "  <line x1=\"191\" y1=\"61\" x2=\"191\" y2=\"181\" />\n",
       "  <line x1=\"196\" y1=\"66\" x2=\"196\" y2=\"186\" />\n",
       "  <line x1=\"200\" y1=\"70\" x2=\"200\" y2=\"190\" style=\"stroke-width:2\" />\n",
       "\n",
       "  <!-- Colored Rectangle -->\n",
       "  <polygon points=\"130.0,0.0 200.58823529411765,70.58823529411765 200.58823529411765,190.58823529411765 130.0,120.0\" style=\"fill:#ECB172A0;stroke-width:0\"/>\n",
       "\n",
       "  <!-- Horizontal lines -->\n",
       "  <line x1=\"130\" y1=\"0\" x2=\"250\" y2=\"0\" style=\"stroke-width:2\" />\n",
       "  <line x1=\"134\" y1=\"4\" x2=\"254\" y2=\"4\" />\n",
       "  <line x1=\"138\" y1=\"8\" x2=\"258\" y2=\"8\" />\n",
       "  <line x1=\"143\" y1=\"13\" x2=\"263\" y2=\"13\" />\n",
       "  <line x1=\"147\" y1=\"17\" x2=\"267\" y2=\"17\" />\n",
       "  <line x1=\"152\" y1=\"22\" x2=\"272\" y2=\"22\" />\n",
       "  <line x1=\"156\" y1=\"26\" x2=\"276\" y2=\"26\" />\n",
       "  <line x1=\"160\" y1=\"30\" x2=\"280\" y2=\"30\" />\n",
       "  <line x1=\"165\" y1=\"35\" x2=\"285\" y2=\"35\" />\n",
       "  <line x1=\"169\" y1=\"39\" x2=\"289\" y2=\"39\" />\n",
       "  <line x1=\"174\" y1=\"44\" x2=\"294\" y2=\"44\" />\n",
       "  <line x1=\"178\" y1=\"48\" x2=\"298\" y2=\"48\" />\n",
       "  <line x1=\"182\" y1=\"52\" x2=\"302\" y2=\"52\" />\n",
       "  <line x1=\"187\" y1=\"57\" x2=\"307\" y2=\"57\" />\n",
       "  <line x1=\"191\" y1=\"61\" x2=\"311\" y2=\"61\" />\n",
       "  <line x1=\"196\" y1=\"66\" x2=\"316\" y2=\"66\" />\n",
       "  <line x1=\"200\" y1=\"70\" x2=\"320\" y2=\"70\" style=\"stroke-width:2\" />\n",
       "\n",
       "  <!-- Vertical lines -->\n",
       "  <line x1=\"130\" y1=\"0\" x2=\"200\" y2=\"70\" style=\"stroke-width:2\" />\n",
       "  <line x1=\"250\" y1=\"0\" x2=\"320\" y2=\"70\" style=\"stroke-width:2\" />\n",
       "\n",
       "  <!-- Colored Rectangle -->\n",
       "  <polygon points=\"130.0,0.0 250.0,0.0 320.5882352941177,70.58823529411765 200.58823529411765,70.58823529411765\" style=\"fill:#ECB172A0;stroke-width:0\"/>\n",
       "\n",
       "  <!-- Horizontal lines -->\n",
       "  <line x1=\"200\" y1=\"70\" x2=\"320\" y2=\"70\" style=\"stroke-width:2\" />\n",
       "  <line x1=\"200\" y1=\"190\" x2=\"320\" y2=\"190\" style=\"stroke-width:2\" />\n",
       "\n",
       "  <!-- Vertical lines -->\n",
       "  <line x1=\"200\" y1=\"70\" x2=\"200\" y2=\"190\" style=\"stroke-width:2\" />\n",
       "  <line x1=\"320\" y1=\"70\" x2=\"320\" y2=\"190\" style=\"stroke-width:2\" />\n",
       "\n",
       "  <!-- Colored Rectangle -->\n",
       "  <polygon points=\"200.58823529411765,70.58823529411765 320.5882352941177,70.58823529411765 320.5882352941177,190.58823529411765 200.58823529411765,190.58823529411765\" style=\"fill:#ECB172A0;stroke-width:0\"/>\n",
       "\n",
       "  <!-- Text -->\n",
       "  <text x=\"260.588235\" y=\"210.588235\" font-size=\"1.0rem\" font-weight=\"100\" text-anchor=\"middle\" >256</text>\n",
       "  <text x=\"340.588235\" y=\"130.588235\" font-size=\"1.0rem\" font-weight=\"100\" text-anchor=\"middle\" transform=\"rotate(-90,340.588235,130.588235)\">256</text>\n",
       "  <text x=\"155.294118\" y=\"175.294118\" font-size=\"1.0rem\" font-weight=\"100\" text-anchor=\"middle\" transform=\"rotate(45,155.294118,175.294118)\">256</text>\n",
       "</svg>\n",
       "        </td>\n",
       "    </tr>\n",
       "</table>"
      ],
      "text/plain": [
       "dask.array<process_function_blockwise, shape=(128, 256, 256, 256), dtype=bool, chunksize=(16, 16, 256, 256), chunktype=numpy.ndarray>"
      ]
     },
     "execution_count": 33,
     "metadata": {},
     "output_type": "execute_result"
    }
   ],
   "source": [
    "s.data"
   ]
  },
  {
   "cell_type": "markdown",
   "id": "b7329e1d-98fc-4ceb-b39d-7ba072d9f370",
   "metadata": {
    "pycharm": {
     "name": "#%% md\n"
    }
   },
   "source": [
    "#### Convert to lazy signal\n",
    "OBS: changes the signal class "
   ]
  },
  {
   "cell_type": "code",
   "execution_count": 66,
   "id": "64966514",
   "metadata": {
    "pycharm": {
     "name": "#%%\n"
    }
   },
   "outputs": [],
   "source": [
    "s = hs.signals.Signal2D(s_out).as_lazy()"
   ]
  },
  {
   "cell_type": "markdown",
   "id": "633f66af-8e03-4386-9caa-b4f8080fbe81",
   "metadata": {
    "pycharm": {
     "name": "#%% md\n"
    }
   },
   "source": [
    "#### Check chunksize"
   ]
  },
  {
   "cell_type": "code",
   "execution_count": 69,
   "id": "361159b6",
   "metadata": {
    "pycharm": {
     "name": "#%%\n"
    }
   },
   "outputs": [
    {
     "data": {
      "text/plain": [
       "(32, 32, 32, 32)"
      ]
     },
     "execution_count": 69,
     "metadata": {},
     "output_type": "execute_result"
    }
   ],
   "source": [
    "s.data.chunksize"
   ]
  },
  {
   "cell_type": "code",
   "execution_count": null,
   "id": "3e43fe09",
   "metadata": {
    "pycharm": {
     "name": "#%%\n"
    }
   },
   "outputs": [],
   "source": [
    "s_com = s.center_of_mass(threshold=20, mask=None, lazy_result=True, show_progressbar=True, chunk_calculations=(16,16,16,16))"
   ]
  },
  {
   "cell_type": "code",
   "execution_count": null,
   "id": "a212001d",
   "metadata": {
    "pycharm": {
     "name": "#%%\n"
    }
   },
   "outputs": [],
   "source": [
    "s_com"
   ]
  },
  {
   "cell_type": "code",
   "execution_count": null,
   "id": "1ae8c752",
   "metadata": {
    "pycharm": {
     "name": "#%%\n"
    }
   },
   "outputs": [],
   "source": [
    "s_com.save('com.tif')"
   ]
  },
  {
   "cell_type": "markdown",
   "id": "e17a4aec-4e3e-43a6-b9d7-8c9326f551e5",
   "metadata": {
    "pycharm": {
     "name": "#%% md\n"
    }
   },
   "source": [
    "####  ADF"
   ]
  },
  {
   "cell_type": "code",
   "execution_count": null,
   "id": "ece4b8fc",
   "metadata": {
    "pycharm": {
     "name": "#%%\n"
    }
   },
   "outputs": [
    {
     "name": "stderr",
     "output_type": "stream",
     "text": [
      "C:\\Users\\hedda\\Anaconda3\\envs\\hspy_environment\\lib\\site-packages\\pyxem\\signals\\diffraction2d.py:1546: FutureWarning: This method is depreacted and will be removed in the next version\n",
      "  warnings.warn(\"This method is depreacted and will be removed in the next version\",FutureWarning)\n",
      "C:\\Users\\hedda\\Anaconda3\\envs\\hspy_environment\\lib\\site-packages\\hyperspy\\_signals\\lazy.py:111: VisibleDeprecationWarning: The `progressbar` keyword is deprecated and will be removed in HyperSpy 2.0. Use `show_progressbar` instead.\n",
      "  warnings.warn(\n"
     ]
    },
    {
     "name": "stdout",
     "output_type": "stream",
     "text": [
      "[###########################             ] | 68% Completed |  1min 48.5s"
     ]
    }
   ],
   "source": [
    "s_adf = s_.lazy_virtual_annular_dark_field(25, 25, 5, 20, show_progressbar=True)\n",
    "s.plot(navigator=s_adf)"
   ]
  },
  {
   "cell_type": "markdown",
   "id": "97b611b8-1106-468e-b2b2-b744ff89fa61",
   "metadata": {
    "pycharm": {
     "name": "#%% md\n"
    }
   },
   "source": [
    "#### BF"
   ]
  },
  {
   "cell_type": "code",
   "execution_count": null,
   "id": "17978c44",
   "metadata": {
    "pycharm": {
     "name": "#%%\n"
    }
   },
   "outputs": [],
   "source": [
    "s_bf = s.lazy_virtual_bright_field(25, 25, 5, show_progressbar=True)\n",
    "s.plot(navigator=s_bf)"
   ]
  },
  {
   "cell_type": "markdown",
   "id": "85a4c53a-c8f2-41f3-9233-3df74b1c7fe6",
   "metadata": {
    "pycharm": {
     "name": "#%% md\n"
    }
   },
   "source": [
    "#### Center of mass"
   ]
  },
  {
   "cell_type": "code",
   "execution_count": null,
   "id": "4ba5be58",
   "metadata": {
    "pycharm": {
     "name": "#%%\n"
    }
   },
   "outputs": [
    {
     "name": "stdout",
     "output_type": "stream",
     "text": [
      "[##                                      ] | 6% Completed |  4min 11.1s"
     ]
    }
   ],
   "source": [
    "s_com = s_out.center_of_mass(threshold=2, show_progressbar=True)\n",
    "s_com.plot()"
   ]
  },
  {
   "cell_type": "markdown",
   "id": "a7c4fecd-e5bb-486d-bf54-434eb164fead",
   "metadata": {
    "pycharm": {
     "name": "#%% md\n"
    }
   },
   "source": [
    "#### Canny filter"
   ]
  },
  {
   "cell_type": "code",
   "execution_count": 62,
   "id": "f8f1d680",
   "metadata": {
    "pycharm": {
     "name": "#%%\n"
    }
   },
   "outputs": [],
   "source": [
    "edge = feature.canny(s_corr.inav[50,50].data, sigma = 4, high_threshold = 70, low_threshold = 10)"
   ]
  },
  {
   "cell_type": "markdown",
   "id": "78cd1af3-63d5-42e1-8eb9-70ba3dba2e53",
   "metadata": {
    "pycharm": {
     "name": "#%% md\n"
    }
   },
   "source": [
    "#### Plotting figures in grid"
   ]
  },
  {
   "cell_type": "code",
   "execution_count": 67,
   "id": "df0100dd-5298-4415-a1a1-823768ab39bd",
   "metadata": {
    "pycharm": {
     "name": "#%%\n"
    }
   },
   "outputs": [],
   "source": [
    "fig,ax = plt.subplots(ncols=2,nrows=2,figsize=(6,6))\n",
    "\n",
    "\n",
    "\n",
    "edges1 = s_out.inav[70,20]\n",
    "edges2 = s_out.inav[85,20]\n",
    "edges3 = s_out.inav[130,20]\n",
    "edges4 = s_out.inav[165,20]\n",
    "\n",
    "\n",
    "ax[0,0].imshow(edges1,cmap='viridis')\n",
    "ax[0,1].imshow(edges2,cmap='viridis')\n",
    "ax[1,0].imshow(edges3,cmap='viridis')\n",
    "ax[1,1].imshow(edges4,cmap='viridis')\n",
    "\n",
    "\n",
    "for i in range(2):\n",
    "    for j in range(2):\n",
    "        ax[i,j].axis('off')\n",
    "\n",
    "fig.tight_layout()\n",
    "plt.show()    "
   ]
  },
  {
   "cell_type": "code",
   "execution_count": 65,
   "id": "865d5b96",
   "metadata": {
    "pycharm": {
     "name": "#%%\n"
    }
   },
   "outputs": [],
   "source": [
    "fig,ax = plt.subplots(ncols=3,nrows=3,figsize=(6,6))\n",
    "\n",
    "edges1 = feature.canny(s_corr.inav[50,50].data,sigma=1, low_threshold=10, high_threshold=250)\n",
    "edges2 = feature.canny(s_corr.inav[50,50].data,sigma=5, low_threshold=10, high_threshold=250)\n",
    "edges3 = feature.canny(s_corr.inav[50,50].data,sigma=10, low_threshold=10, high_threshold=250)\n",
    "\n",
    "\n",
    "edges4 = feature.canny(s_corr.inav[50,50].data,sigma=10, low_threshold=0, high_threshold=250)\n",
    "edges5 = feature.canny(s_corr.inav[50,50].data,sigma=10, low_threshold=10, high_threshold=250)\n",
    "edges6 = feature.canny(s_corr.inav[50,50].data,sigma=10, low_threshold=200, high_threshold=250)\n",
    "\n",
    "\n",
    "edges7 = feature.canny(s_corr.inav[50,50].data,sigma=10, low_threshold=10, high_threshold=50)\n",
    "edges8 = feature.canny(s_corr.inav[50,50].data,sigma=10, low_threshold=10, high_threshold=250)\n",
    "edges9 = feature.canny(s_corr.inav[50,50].data,sigma=10, low_threshold=10, high_threshold=500)\n",
    "\n",
    "\n",
    "\n",
    "# edges1 = s_out.inav[0,1]\n",
    "# edges2 = s_out.inav[15,19]\n",
    "# edges3 = s_out.inav[2,20]\n",
    "# edges4 = s_out.inav[20,40]\n",
    "\n",
    "# ax[0].imshow(edges1,cmap='gray')\n",
    "# ax[1].imshow(edges2,cmap='gray')\n",
    "# ax[2].imshow(edges3,cmap='gray')\n",
    "# ax[3].imshow(edges4,cmap='gray')\n",
    "\n",
    "ax[0,0].imshow(edges1,cmap='gray')\n",
    "ax[0,1].imshow(edges2,cmap='gray')\n",
    "ax[0,2].imshow(edges3,cmap='gray')\n",
    "\n",
    "ax[1,0].imshow(edges4,cmap='gray')\n",
    "ax[1,1].imshow(edges5,cmap='gray')\n",
    "ax[1,2].imshow(edges6,cmap='gray')\n",
    "\n",
    "ax[2,0].imshow(edges7,cmap='gray')\n",
    "ax[2,1].imshow(edges8,cmap='gray')\n",
    "ax[2,2].imshow(edges9,cmap='gray')\n",
    "\n",
    "for i in range(3):\n",
    "    for j in range(3):\n",
    "        ax[i,j].set_xticks([])\n",
    "        ax[i,j].set_yticks([])\n",
    "\n",
    "ax[0,0].set_ylabel('$I_{low}$=10, $I_{high}$=250')    \n",
    "ax[1,0].set_ylabel('$\\sigma$=10, $I_{high}$=250')    \n",
    "ax[2,0].set_ylabel('$\\sigma$=10, $I_{low}$=10')    \n",
    "\n",
    "# plt.axis('off')\n",
    "fig.tight_layout()\n",
    "plt.show()    \n",
    "    "
   ]
  },
  {
   "cell_type": "code",
   "execution_count": 66,
   "id": "c6659bff-7ec0-41d0-99f5-0b06de402d1a",
   "metadata": {
    "pycharm": {
     "name": "#%%\n"
    }
   },
   "outputs": [
    {
     "name": "stdout",
     "output_type": "stream",
     "text": [
      "OK\n"
     ]
    }
   ],
   "source": [
    "print('OK')"
   ]
  },
  {
   "cell_type": "code",
   "execution_count": 25,
   "id": "01e7db17-402f-493a-89ec-ae9c595c1084",
   "metadata": {
    "pycharm": {
     "name": "#%%\n"
    }
   },
   "outputs": [
    {
     "data": {
      "text/plain": [
       "<matplotlib.image.AxesImage at 0x1fd229d1880>"
      ]
     },
     "execution_count": 25,
     "metadata": {},
     "output_type": "execute_result"
    },
    {
     "name": "stderr",
     "output_type": "stream",
     "text": [
      "C:\\Users\\hedda\\Anaconda3\\envs\\hspy_environment\\lib\\site-packages\\ipykernel\\eventloops.py:105: UserWarning: Attempted to set non-positive left xlim on a log-scaled axis.\n",
      "Invalid limit will be ignored.\n",
      "  app.exec_()\n",
      "C:\\Users\\hedda\\Anaconda3\\envs\\hspy_environment\\lib\\site-packages\\ipykernel\\eventloops.py:105: UserWarning: Attempted to set non-positive top ylim on a log-scaled axis.\n",
      "Invalid limit will be ignored.\n",
      "  app.exec_()\n"
     ]
    }
   ],
   "source": [
    "fig,ax = plt.subplots(ncols=2,nrows=2,figsize=(6,6))\n",
    "ax[0,0].imshow(s_out.inav[70,20])\n",
    "ax[0,1].imshow(s_out.inav[85,20])\n",
    "ax[1,0].imshow(s_out.inav[130,20])\n",
    "ax[1,1].imshow(s_out.inav[165,20])"
   ]
  }
 ],
 "metadata": {
  "kernelspec": {
   "display_name": "Python 3 (ipykernel)",
   "language": "python",
   "name": "python3"
  },
  "language_info": {
   "codemirror_mode": {
    "name": "ipython",
    "version": 3
   },
   "file_extension": ".py",
   "mimetype": "text/x-python",
   "name": "python",
   "nbconvert_exporter": "python",
   "pygments_lexer": "ipython3",
   "version": "3.9.9"
  }
 },
 "nbformat": 4,
 "nbformat_minor": 5
}